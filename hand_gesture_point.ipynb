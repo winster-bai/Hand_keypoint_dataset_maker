{
 "cells": [
  {
   "cell_type": "code",
   "execution_count": 1,
   "metadata": {},
   "outputs": [],
   "source": [
    "import os\n",
    "import shutil\n",
    "import cv2\n",
    "import random\n",
    "import matplotlib.pyplot as plt\n",
    "import numpy as np\n",
    "import copy\n",
    "from ultralytics import YOLO\n"
   ]
  },
  {
   "cell_type": "code",
   "execution_count": 2,
   "metadata": {},
   "outputs": [
    {
     "data": {
      "text/plain": [
       "'/home/dfrobot/yolo/hand/Hand/kaggle/config.yaml'"
      ]
     },
     "execution_count": 2,
     "metadata": {},
     "output_type": "execute_result"
    }
   ],
   "source": [
    "curr_path=os.getcwd()\n",
    "config_path=os.path.join(curr_path, 'config.yaml')\n",
    "config_path"
   ]
  },
  {
   "cell_type": "code",
   "execution_count": 3,
   "metadata": {},
   "outputs": [
    {
     "name": "stdout",
     "output_type": "stream",
     "text": [
      "Transferred 361/397 items from pretrained weights\n"
     ]
    }
   ],
   "source": [
    "model=YOLO('yolov8n-pose.yaml').load('epoch100.pt')"
   ]
  },
  {
   "cell_type": "code",
   "execution_count": 4,
   "metadata": {},
   "outputs": [
    {
     "name": "stdout",
     "output_type": "stream",
     "text": [
      "New https://pypi.org/project/ultralytics/8.2.92 available 😃 Update with 'pip install -U ultralytics'\n",
      "Ultralytics YOLOv8.2.41 🚀 Python-3.9.19 torch-2.0.1+cu117 CUDA:0 (NVIDIA GeForce RTX 4090, 24102MiB)\n",
      "\u001b[34m\u001b[1mengine/trainer: \u001b[0mtask=pose, mode=train, model=yolov8n-pose.yaml, data=/home/dfrobot/yolo/hand/Hand/kaggle/config.yaml, epochs=200, time=None, patience=100, batch=16, imgsz=640, save=True, save_period=100, cache=False, device=None, workers=8, project=None, name=train2, exist_ok=False, pretrained=True, optimizer=auto, verbose=True, seed=0, deterministic=True, single_cls=False, rect=False, cos_lr=False, close_mosaic=10, resume=False, amp=True, fraction=1.0, profile=False, freeze=None, multi_scale=False, overlap_mask=True, mask_ratio=4, dropout=0.0, val=True, split=val, save_json=False, save_hybrid=False, conf=0.01, iou=0.5, max_det=300, half=False, dnn=False, plots=True, source=None, vid_stride=1, stream_buffer=False, visualize=False, augment=False, agnostic_nms=False, classes=None, retina_masks=False, embed=None, show=False, save_frames=False, save_txt=False, save_conf=False, save_crop=False, show_labels=True, show_conf=True, show_boxes=True, line_width=None, format=torchscript, keras=False, optimize=False, int8=False, dynamic=False, simplify=False, opset=None, workspace=4, nms=False, lr0=0.01, lrf=0.01, momentum=0.937, weight_decay=0.0005, warmup_epochs=3.0, warmup_momentum=0.8, warmup_bias_lr=0.1, box=8.0, cls=0.5, dfl=1.5, pose=12.0, kobj=1.0, label_smoothing=0.0, nbs=64, hsv_h=0.015, hsv_s=0.7, hsv_v=0.4, degrees=0.0, translate=0.1, scale=0.5, shear=0.0, perspective=0.0, flipud=0.0, fliplr=0.5, bgr=0.0, mosaic=1.0, mixup=0.0, copy_paste=0.0, auto_augment=randaugment, erasing=0.4, crop_fraction=1.0, cfg=None, tracker=botsort.yaml, save_dir=runs/pose/train2\n",
      "Overriding model.yaml kpt_shape=[17, 3] with kpt_shape=[21, 3]\n",
      "\n",
      "                   from  n    params  module                                       arguments                     \n",
      "  0                  -1  1       464  ultralytics.nn.modules.conv.Conv             [3, 16, 3, 2]                 \n",
      "  1                  -1  1      4672  ultralytics.nn.modules.conv.Conv             [16, 32, 3, 2]                \n",
      "  2                  -1  1      7360  ultralytics.nn.modules.block.C2f             [32, 32, 1, True]             \n",
      "  3                  -1  1     18560  ultralytics.nn.modules.conv.Conv             [32, 64, 3, 2]                \n",
      "  4                  -1  2     49664  ultralytics.nn.modules.block.C2f             [64, 64, 2, True]             \n",
      "  5                  -1  1     73984  ultralytics.nn.modules.conv.Conv             [64, 128, 3, 2]               \n",
      "  6                  -1  2    197632  ultralytics.nn.modules.block.C2f             [128, 128, 2, True]           \n",
      "  7                  -1  1    295424  ultralytics.nn.modules.conv.Conv             [128, 256, 3, 2]              \n",
      "  8                  -1  1    460288  ultralytics.nn.modules.block.C2f             [256, 256, 1, True]           \n",
      "  9                  -1  1    164608  ultralytics.nn.modules.block.SPPF            [256, 256, 5]                 \n",
      " 10                  -1  1         0  torch.nn.modules.upsampling.Upsample         [None, 2, 'nearest']          \n",
      " 11             [-1, 6]  1         0  ultralytics.nn.modules.conv.Concat           [1]                           \n",
      " 12                  -1  1    148224  ultralytics.nn.modules.block.C2f             [384, 128, 1]                 \n",
      " 13                  -1  1         0  torch.nn.modules.upsampling.Upsample         [None, 2, 'nearest']          \n",
      " 14             [-1, 4]  1         0  ultralytics.nn.modules.conv.Concat           [1]                           \n",
      " 15                  -1  1     37248  ultralytics.nn.modules.block.C2f             [192, 64, 1]                  \n",
      " 16                  -1  1     36992  ultralytics.nn.modules.conv.Conv             [64, 64, 3, 2]                \n",
      " 17            [-1, 12]  1         0  ultralytics.nn.modules.conv.Concat           [1]                           \n",
      " 18                  -1  1    123648  ultralytics.nn.modules.block.C2f             [192, 128, 1]                 \n",
      " 19                  -1  1    147712  ultralytics.nn.modules.conv.Conv             [128, 128, 3, 2]              \n",
      " 20             [-1, 9]  1         0  ultralytics.nn.modules.conv.Concat           [1]                           \n",
      " 21                  -1  1    493056  ultralytics.nn.modules.block.C2f             [384, 256, 1]                 \n",
      " 22        [15, 18, 21]  1   1125538  ultralytics.nn.modules.head.Pose             [1, [21, 3], [64, 128, 256]]  \n",
      "YOLOv8n-pose summary: 250 layers, 3385074 parameters, 3385058 gradients, 9.7 GFLOPs\n",
      "\n",
      "Transferred 361/397 items from pretrained weights\n"
     ]
    },
    {
     "name": "stderr",
     "output_type": "stream",
     "text": [
      "Failed to detect the name of this notebook, you can set it manually with the WANDB_NOTEBOOK_NAME environment variable to enable code saving.\n",
      "\u001b[34m\u001b[1mwandb\u001b[0m: Currently logged in as: \u001b[33m54baizeyu\u001b[0m (\u001b[33mwinsterlearning\u001b[0m). Use \u001b[1m`wandb login --relogin`\u001b[0m to force relogin\n"
     ]
    },
    {
     "data": {
      "application/vnd.jupyter.widget-view+json": {
       "model_id": "2f200ca33e4a4e2693f64d2442e71ccc",
       "version_major": 2,
       "version_minor": 0
      },
      "text/plain": [
       "VBox(children=(Label(value='Waiting for wandb.init()...\\r'), FloatProgress(value=0.011113159766601812, max=1.0…"
      ]
     },
     "metadata": {},
     "output_type": "display_data"
    },
    {
     "data": {
      "text/html": [
       "wandb version 0.18.0 is available!  To upgrade, please run:\n",
       " $ pip install wandb --upgrade"
      ],
      "text/plain": [
       "<IPython.core.display.HTML object>"
      ]
     },
     "metadata": {},
     "output_type": "display_data"
    },
    {
     "data": {
      "text/html": [
       "Tracking run with wandb version 0.17.2"
      ],
      "text/plain": [
       "<IPython.core.display.HTML object>"
      ]
     },
     "metadata": {},
     "output_type": "display_data"
    },
    {
     "data": {
      "text/html": [
       "Run data is saved locally in <code>/home/dfrobot/yolo/hand/Hand/kaggle/wandb/run-20240912_172046-rrwi0vov</code>"
      ],
      "text/plain": [
       "<IPython.core.display.HTML object>"
      ]
     },
     "metadata": {},
     "output_type": "display_data"
    },
    {
     "data": {
      "text/html": [
       "Syncing run <strong><a href='https://wandb.ai/winsterlearning/YOLOv8/runs/rrwi0vov' target=\"_blank\">train2</a></strong> to <a href='https://wandb.ai/winsterlearning/YOLOv8' target=\"_blank\">Weights & Biases</a> (<a href='https://wandb.me/run' target=\"_blank\">docs</a>)<br/>"
      ],
      "text/plain": [
       "<IPython.core.display.HTML object>"
      ]
     },
     "metadata": {},
     "output_type": "display_data"
    },
    {
     "data": {
      "text/html": [
       " View project at <a href='https://wandb.ai/winsterlearning/YOLOv8' target=\"_blank\">https://wandb.ai/winsterlearning/YOLOv8</a>"
      ],
      "text/plain": [
       "<IPython.core.display.HTML object>"
      ]
     },
     "metadata": {},
     "output_type": "display_data"
    },
    {
     "data": {
      "text/html": [
       " View run at <a href='https://wandb.ai/winsterlearning/YOLOv8/runs/rrwi0vov' target=\"_blank\">https://wandb.ai/winsterlearning/YOLOv8/runs/rrwi0vov</a>"
      ],
      "text/plain": [
       "<IPython.core.display.HTML object>"
      ]
     },
     "metadata": {},
     "output_type": "display_data"
    },
    {
     "name": "stdout",
     "output_type": "stream",
     "text": [
      "Freezing layer 'model.22.dfl.conv.weight'\n",
      "\u001b[34m\u001b[1mAMP: \u001b[0mrunning Automatic Mixed Precision (AMP) checks with YOLOv8n...\n",
      "\u001b[34m\u001b[1mAMP: \u001b[0mchecks passed ✅\n"
     ]
    },
    {
     "name": "stderr",
     "output_type": "stream",
     "text": [
      "\u001b[34m\u001b[1mtrain: \u001b[0mScanning /home/dfrobot/yolo/hand/Hand/kaggle/add_dataset1/labels/train.cache... 10791 images, 0 backgrounds, 281 corrupt: 100%|██████████| 10791/10791 [00:00<?, ?it/s]"
     ]
    },
    {
     "name": "stdout",
     "output_type": "stream",
     "text": [
      "\u001b[34m\u001b[1mtrain: \u001b[0mWARNING ⚠️ /home/dfrobot/yolo/hand/Hand/kaggle/add_dataset1/images/train/10147.jpg: ignoring corrupt image/label: non-normalized or out of bounds coordinates [     1.0075]\n",
      "\u001b[34m\u001b[1mtrain: \u001b[0mWARNING ⚠️ /home/dfrobot/yolo/hand/Hand/kaggle/add_dataset1/images/train/10148.jpg: ignoring corrupt image/label: non-normalized or out of bounds coordinates [     1.0209]\n",
      "\u001b[34m\u001b[1mtrain: \u001b[0mWARNING ⚠️ /home/dfrobot/yolo/hand/Hand/kaggle/add_dataset1/images/train/10149.jpg: ignoring corrupt image/label: non-normalized or out of bounds coordinates [     1.0278]\n",
      "\u001b[34m\u001b[1mtrain: \u001b[0mWARNING ⚠️ /home/dfrobot/yolo/hand/Hand/kaggle/add_dataset1/images/train/10150.jpg: ignoring corrupt image/label: non-normalized or out of bounds coordinates [     1.0342]\n",
      "\u001b[34m\u001b[1mtrain: \u001b[0mWARNING ⚠️ /home/dfrobot/yolo/hand/Hand/kaggle/add_dataset1/images/train/10151.jpg: ignoring corrupt image/label: non-normalized or out of bounds coordinates [     1.0329]\n",
      "\u001b[34m\u001b[1mtrain: \u001b[0mWARNING ⚠️ /home/dfrobot/yolo/hand/Hand/kaggle/add_dataset1/images/train/10152.jpg: ignoring corrupt image/label: non-normalized or out of bounds coordinates [     1.0298]\n",
      "\u001b[34m\u001b[1mtrain: \u001b[0mWARNING ⚠️ /home/dfrobot/yolo/hand/Hand/kaggle/add_dataset1/images/train/10153.jpg: ignoring corrupt image/label: non-normalized or out of bounds coordinates [     1.0143]\n",
      "\u001b[34m\u001b[1mtrain: \u001b[0mWARNING ⚠️ /home/dfrobot/yolo/hand/Hand/kaggle/add_dataset1/images/train/10154.jpg: ignoring corrupt image/label: non-normalized or out of bounds coordinates [     1.0032]\n",
      "\u001b[34m\u001b[1mtrain: \u001b[0mWARNING ⚠️ /home/dfrobot/yolo/hand/Hand/kaggle/add_dataset1/images/train/10187.jpg: ignoring corrupt image/label: non-normalized or out of bounds coordinates [     1.0076]\n",
      "\u001b[34m\u001b[1mtrain: \u001b[0mWARNING ⚠️ /home/dfrobot/yolo/hand/Hand/kaggle/add_dataset1/images/train/10188.jpg: ignoring corrupt image/label: non-normalized or out of bounds coordinates [     1.0175]\n",
      "\u001b[34m\u001b[1mtrain: \u001b[0mWARNING ⚠️ /home/dfrobot/yolo/hand/Hand/kaggle/add_dataset1/images/train/10189.jpg: ignoring corrupt image/label: non-normalized or out of bounds coordinates [     1.0329]\n",
      "\u001b[34m\u001b[1mtrain: \u001b[0mWARNING ⚠️ /home/dfrobot/yolo/hand/Hand/kaggle/add_dataset1/images/train/10190.jpg: ignoring corrupt image/label: non-normalized or out of bounds coordinates [       1.04      1.0104]\n",
      "\u001b[34m\u001b[1mtrain: \u001b[0mWARNING ⚠️ /home/dfrobot/yolo/hand/Hand/kaggle/add_dataset1/images/train/10191.jpg: ignoring corrupt image/label: non-normalized or out of bounds coordinates [     1.0365      1.0148]\n",
      "\u001b[34m\u001b[1mtrain: \u001b[0mWARNING ⚠️ /home/dfrobot/yolo/hand/Hand/kaggle/add_dataset1/images/train/10192.jpg: ignoring corrupt image/label: non-normalized or out of bounds coordinates [     1.0391      1.0226]\n",
      "\u001b[34m\u001b[1mtrain: \u001b[0mWARNING ⚠️ /home/dfrobot/yolo/hand/Hand/kaggle/add_dataset1/images/train/10193.jpg: ignoring corrupt image/label: non-normalized or out of bounds coordinates [     1.0272      1.0175]\n",
      "\u001b[34m\u001b[1mtrain: \u001b[0mWARNING ⚠️ /home/dfrobot/yolo/hand/Hand/kaggle/add_dataset1/images/train/10194.jpg: ignoring corrupt image/label: non-normalized or out of bounds coordinates [     1.0229      1.0122]\n",
      "\u001b[34m\u001b[1mtrain: \u001b[0mWARNING ⚠️ /home/dfrobot/yolo/hand/Hand/kaggle/add_dataset1/images/train/10195.jpg: ignoring corrupt image/label: non-normalized or out of bounds coordinates [     1.0183      1.0058]\n",
      "\u001b[34m\u001b[1mtrain: \u001b[0mWARNING ⚠️ /home/dfrobot/yolo/hand/Hand/kaggle/add_dataset1/images/train/10196.jpg: ignoring corrupt image/label: non-normalized or out of bounds coordinates [     1.0109]\n",
      "\u001b[34m\u001b[1mtrain: \u001b[0mWARNING ⚠️ /home/dfrobot/yolo/hand/Hand/kaggle/add_dataset1/images/train/10197.jpg: ignoring corrupt image/label: non-normalized or out of bounds coordinates [     1.0002]\n",
      "\u001b[34m\u001b[1mtrain: \u001b[0mWARNING ⚠️ /home/dfrobot/yolo/hand/Hand/kaggle/add_dataset1/images/train/10284.jpg: ignoring corrupt image/label: negative label values [   -0.03089    -0.04665]\n",
      "\u001b[34m\u001b[1mtrain: \u001b[0mWARNING ⚠️ /home/dfrobot/yolo/hand/Hand/kaggle/add_dataset1/images/train/10285.jpg: ignoring corrupt image/label: negative label values [  -0.036512   -0.040311]\n",
      "\u001b[34m\u001b[1mtrain: \u001b[0mWARNING ⚠️ /home/dfrobot/yolo/hand/Hand/kaggle/add_dataset1/images/train/10286.jpg: ignoring corrupt image/label: negative label values [  -0.045765   -0.042835]\n",
      "\u001b[34m\u001b[1mtrain: \u001b[0mWARNING ⚠️ /home/dfrobot/yolo/hand/Hand/kaggle/add_dataset1/images/train/10287.jpg: ignoring corrupt image/label: negative label values [  -0.058389   -0.049524]\n",
      "\u001b[34m\u001b[1mtrain: \u001b[0mWARNING ⚠️ /home/dfrobot/yolo/hand/Hand/kaggle/add_dataset1/images/train/10288.jpg: ignoring corrupt image/label: negative label values [   -0.08703   -0.071197]\n",
      "\u001b[34m\u001b[1mtrain: \u001b[0mWARNING ⚠️ /home/dfrobot/yolo/hand/Hand/kaggle/add_dataset1/images/train/10289.jpg: ignoring corrupt image/label: negative label values [  -0.015245  -0.0063565   -0.097709   -0.067691]\n",
      "\u001b[34m\u001b[1mtrain: \u001b[0mWARNING ⚠️ /home/dfrobot/yolo/hand/Hand/kaggle/add_dataset1/images/train/10290.jpg: ignoring corrupt image/label: negative label values [   -0.02659    -0.01246    -0.10128   -0.077249]\n",
      "\u001b[34m\u001b[1mtrain: \u001b[0mWARNING ⚠️ /home/dfrobot/yolo/hand/Hand/kaggle/add_dataset1/images/train/10291.jpg: ignoring corrupt image/label: negative label values [  -0.032723  -0.0031857   -0.097495   -0.069325]\n",
      "\u001b[34m\u001b[1mtrain: \u001b[0mWARNING ⚠️ /home/dfrobot/yolo/hand/Hand/kaggle/add_dataset1/images/train/10292.jpg: ignoring corrupt image/label: negative label values [  -0.032452   -0.001239   -0.097013   -0.066286]\n",
      "\u001b[34m\u001b[1mtrain: \u001b[0mWARNING ⚠️ /home/dfrobot/yolo/hand/Hand/kaggle/add_dataset1/images/train/10293.jpg: ignoring corrupt image/label: negative label values [  -0.021879   -0.080021   -0.048966]\n",
      "\u001b[34m\u001b[1mtrain: \u001b[0mWARNING ⚠️ /home/dfrobot/yolo/hand/Hand/kaggle/add_dataset1/images/train/10294.jpg: ignoring corrupt image/label: negative label values [  -0.014074   -0.079176   -0.048384]\n",
      "\u001b[34m\u001b[1mtrain: \u001b[0mWARNING ⚠️ /home/dfrobot/yolo/hand/Hand/kaggle/add_dataset1/images/train/10295.jpg: ignoring corrupt image/label: negative label values [   -0.06693    -0.03894]\n",
      "\u001b[34m\u001b[1mtrain: \u001b[0mWARNING ⚠️ /home/dfrobot/yolo/hand/Hand/kaggle/add_dataset1/images/train/10296.jpg: ignoring corrupt image/label: negative label values [  -0.045417   -0.014694]\n",
      "\u001b[34m\u001b[1mtrain: \u001b[0mWARNING ⚠️ /home/dfrobot/yolo/hand/Hand/kaggle/add_dataset1/images/train/10297.jpg: ignoring corrupt image/label: negative label values [  -0.032696]\n",
      "\u001b[34m\u001b[1mtrain: \u001b[0mWARNING ⚠️ /home/dfrobot/yolo/hand/Hand/kaggle/add_dataset1/images/train/10298.jpg: ignoring corrupt image/label: negative label values [ -0.0036598]\n",
      "\u001b[34m\u001b[1mtrain: \u001b[0mWARNING ⚠️ /home/dfrobot/yolo/hand/Hand/kaggle/add_dataset1/images/train/10299.jpg: ignoring corrupt image/label: negative label values [  -0.011476]\n",
      "\u001b[34m\u001b[1mtrain: \u001b[0mWARNING ⚠️ /home/dfrobot/yolo/hand/Hand/kaggle/add_dataset1/images/train/10311.jpg: ignoring corrupt image/label: negative label values [  -0.014667]\n",
      "\u001b[34m\u001b[1mtrain: \u001b[0mWARNING ⚠️ /home/dfrobot/yolo/hand/Hand/kaggle/add_dataset1/images/train/10312.jpg: ignoring corrupt image/label: negative label values [  -0.032764]\n",
      "\u001b[34m\u001b[1mtrain: \u001b[0mWARNING ⚠️ /home/dfrobot/yolo/hand/Hand/kaggle/add_dataset1/images/train/10313.jpg: ignoring corrupt image/label: negative label values [ -0.0099903]\n",
      "\u001b[34m\u001b[1mtrain: \u001b[0mWARNING ⚠️ /home/dfrobot/yolo/hand/Hand/kaggle/add_dataset1/images/train/10314.jpg: ignoring corrupt image/label: negative label values [  -0.020121]\n",
      "\u001b[34m\u001b[1mtrain: \u001b[0mWARNING ⚠️ /home/dfrobot/yolo/hand/Hand/kaggle/add_dataset1/images/train/10355.jpg: ignoring corrupt image/label: negative label values [  -0.020789]\n",
      "\u001b[34m\u001b[1mtrain: \u001b[0mWARNING ⚠️ /home/dfrobot/yolo/hand/Hand/kaggle/add_dataset1/images/train/10356.jpg: ignoring corrupt image/label: negative label values [ -0.0012192]\n",
      "\u001b[34m\u001b[1mtrain: \u001b[0mWARNING ⚠️ /home/dfrobot/yolo/hand/Hand/kaggle/add_dataset1/images/train/10357.jpg: ignoring corrupt image/label: negative label values [ -0.0051423]\n",
      "\u001b[34m\u001b[1mtrain: \u001b[0mWARNING ⚠️ /home/dfrobot/yolo/hand/Hand/kaggle/add_dataset1/images/train/10358.jpg: ignoring corrupt image/label: negative label values [  -0.004348]\n",
      "\u001b[34m\u001b[1mtrain: \u001b[0mWARNING ⚠️ /home/dfrobot/yolo/hand/Hand/kaggle/add_dataset1/images/train/10359.jpg: ignoring corrupt image/label: negative label values [ -0.0053011]\n",
      "\u001b[34m\u001b[1mtrain: \u001b[0mWARNING ⚠️ /home/dfrobot/yolo/hand/Hand/kaggle/add_dataset1/images/train/10360.jpg: ignoring corrupt image/label: negative label values [ -0.0016826]\n",
      "\u001b[34m\u001b[1mtrain: \u001b[0mWARNING ⚠️ /home/dfrobot/yolo/hand/Hand/kaggle/add_dataset1/images/train/10468.jpg: ignoring corrupt image/label: negative label values [   -0.00497]\n",
      "\u001b[34m\u001b[1mtrain: \u001b[0mWARNING ⚠️ /home/dfrobot/yolo/hand/Hand/kaggle/add_dataset1/images/train/10469.jpg: ignoring corrupt image/label: negative label values [  -0.023725]\n",
      "\u001b[34m\u001b[1mtrain: \u001b[0mWARNING ⚠️ /home/dfrobot/yolo/hand/Hand/kaggle/add_dataset1/images/train/10470.jpg: ignoring corrupt image/label: negative label values [  -0.031615]\n",
      "\u001b[34m\u001b[1mtrain: \u001b[0mWARNING ⚠️ /home/dfrobot/yolo/hand/Hand/kaggle/add_dataset1/images/train/10471.jpg: ignoring corrupt image/label: negative label values [  -0.031966]\n",
      "\u001b[34m\u001b[1mtrain: \u001b[0mWARNING ⚠️ /home/dfrobot/yolo/hand/Hand/kaggle/add_dataset1/images/train/10472.jpg: ignoring corrupt image/label: negative label values [  -0.038556]\n",
      "\u001b[34m\u001b[1mtrain: \u001b[0mWARNING ⚠️ /home/dfrobot/yolo/hand/Hand/kaggle/add_dataset1/images/train/10473.jpg: ignoring corrupt image/label: negative label values [  -0.030712]\n",
      "\u001b[34m\u001b[1mtrain: \u001b[0mWARNING ⚠️ /home/dfrobot/yolo/hand/Hand/kaggle/add_dataset1/images/train/10474.jpg: ignoring corrupt image/label: negative label values [  -0.041327]\n",
      "\u001b[34m\u001b[1mtrain: \u001b[0mWARNING ⚠️ /home/dfrobot/yolo/hand/Hand/kaggle/add_dataset1/images/train/10475.jpg: ignoring corrupt image/label: negative label values [  -0.035559]\n",
      "\u001b[34m\u001b[1mtrain: \u001b[0mWARNING ⚠️ /home/dfrobot/yolo/hand/Hand/kaggle/add_dataset1/images/train/10476.jpg: ignoring corrupt image/label: negative label values [  -0.035163]\n",
      "\u001b[34m\u001b[1mtrain: \u001b[0mWARNING ⚠️ /home/dfrobot/yolo/hand/Hand/kaggle/add_dataset1/images/train/10477.jpg: ignoring corrupt image/label: negative label values [  -0.031425]\n",
      "\u001b[34m\u001b[1mtrain: \u001b[0mWARNING ⚠️ /home/dfrobot/yolo/hand/Hand/kaggle/add_dataset1/images/train/10478.jpg: ignoring corrupt image/label: negative label values [  -0.026854]\n",
      "\u001b[34m\u001b[1mtrain: \u001b[0mWARNING ⚠️ /home/dfrobot/yolo/hand/Hand/kaggle/add_dataset1/images/train/10503.jpg: ignoring corrupt image/label: negative label values [ -0.0045768]\n",
      "\u001b[34m\u001b[1mtrain: \u001b[0mWARNING ⚠️ /home/dfrobot/yolo/hand/Hand/kaggle/add_dataset1/images/train/10533.jpg: ignoring corrupt image/label: negative label values [  -0.017834]\n",
      "\u001b[34m\u001b[1mtrain: \u001b[0mWARNING ⚠️ /home/dfrobot/yolo/hand/Hand/kaggle/add_dataset1/images/train/10534.jpg: ignoring corrupt image/label: negative label values [  -0.047147]\n",
      "\u001b[34m\u001b[1mtrain: \u001b[0mWARNING ⚠️ /home/dfrobot/yolo/hand/Hand/kaggle/add_dataset1/images/train/10535.jpg: ignoring corrupt image/label: negative label values [  -0.057201]\n",
      "\u001b[34m\u001b[1mtrain: \u001b[0mWARNING ⚠️ /home/dfrobot/yolo/hand/Hand/kaggle/add_dataset1/images/train/10536.jpg: ignoring corrupt image/label: negative label values [   -0.05804]\n",
      "\u001b[34m\u001b[1mtrain: \u001b[0mWARNING ⚠️ /home/dfrobot/yolo/hand/Hand/kaggle/add_dataset1/images/train/10537.jpg: ignoring corrupt image/label: negative label values [   -0.05999]\n",
      "\u001b[34m\u001b[1mtrain: \u001b[0mWARNING ⚠️ /home/dfrobot/yolo/hand/Hand/kaggle/add_dataset1/images/train/10538.jpg: ignoring corrupt image/label: negative label values [  -0.077324]\n",
      "\u001b[34m\u001b[1mtrain: \u001b[0mWARNING ⚠️ /home/dfrobot/yolo/hand/Hand/kaggle/add_dataset1/images/train/10539.jpg: ignoring corrupt image/label: negative label values [     -0.013   -0.090615]\n",
      "\u001b[34m\u001b[1mtrain: \u001b[0mWARNING ⚠️ /home/dfrobot/yolo/hand/Hand/kaggle/add_dataset1/images/train/10540.jpg: ignoring corrupt image/label: negative label values [  -0.022117   -0.082789]\n",
      "\u001b[34m\u001b[1mtrain: \u001b[0mWARNING ⚠️ /home/dfrobot/yolo/hand/Hand/kaggle/add_dataset1/images/train/10541.jpg: ignoring corrupt image/label: negative label values [  -0.020712    -0.07529]\n",
      "\u001b[34m\u001b[1mtrain: \u001b[0mWARNING ⚠️ /home/dfrobot/yolo/hand/Hand/kaggle/add_dataset1/images/train/10542.jpg: ignoring corrupt image/label: negative label values [  -0.013546   -0.073396]\n",
      "\u001b[34m\u001b[1mtrain: \u001b[0mWARNING ⚠️ /home/dfrobot/yolo/hand/Hand/kaggle/add_dataset1/images/train/10543.jpg: ignoring corrupt image/label: negative label values [ -0.0038035   -0.069147]\n",
      "\u001b[34m\u001b[1mtrain: \u001b[0mWARNING ⚠️ /home/dfrobot/yolo/hand/Hand/kaggle/add_dataset1/images/train/10544.jpg: ignoring corrupt image/label: negative label values [  -0.060149]\n",
      "\u001b[34m\u001b[1mtrain: \u001b[0mWARNING ⚠️ /home/dfrobot/yolo/hand/Hand/kaggle/add_dataset1/images/train/10545.jpg: ignoring corrupt image/label: negative label values [  -0.052305]\n",
      "\u001b[34m\u001b[1mtrain: \u001b[0mWARNING ⚠️ /home/dfrobot/yolo/hand/Hand/kaggle/add_dataset1/images/train/10546.jpg: ignoring corrupt image/label: negative label values [  -0.045414]\n",
      "\u001b[34m\u001b[1mtrain: \u001b[0mWARNING ⚠️ /home/dfrobot/yolo/hand/Hand/kaggle/add_dataset1/images/train/10599.jpg: ignoring corrupt image/label: negative label values [ -0.0031243]\n",
      "\u001b[34m\u001b[1mtrain: \u001b[0mWARNING ⚠️ /home/dfrobot/yolo/hand/Hand/kaggle/add_dataset1/images/train/10600.jpg: ignoring corrupt image/label: negative label values [ -0.0065759]\n",
      "\u001b[34m\u001b[1mtrain: \u001b[0mWARNING ⚠️ /home/dfrobot/yolo/hand/Hand/kaggle/add_dataset1/images/train/10601.jpg: ignoring corrupt image/label: negative label values [  -0.013687]\n",
      "\u001b[34m\u001b[1mtrain: \u001b[0mWARNING ⚠️ /home/dfrobot/yolo/hand/Hand/kaggle/add_dataset1/images/train/10602.jpg: ignoring corrupt image/label: negative label values [ -0.0058577]\n",
      "\u001b[34m\u001b[1mtrain: \u001b[0mWARNING ⚠️ /home/dfrobot/yolo/hand/Hand/kaggle/add_dataset1/images/train/1109.jpg: ignoring corrupt image/label: non-normalized or out of bounds coordinates [     1.0143]\n",
      "\u001b[34m\u001b[1mtrain: \u001b[0mWARNING ⚠️ /home/dfrobot/yolo/hand/Hand/kaggle/add_dataset1/images/train/1110.jpg: ignoring corrupt image/label: non-normalized or out of bounds coordinates [     1.0201]\n",
      "\u001b[34m\u001b[1mtrain: \u001b[0mWARNING ⚠️ /home/dfrobot/yolo/hand/Hand/kaggle/add_dataset1/images/train/1111.jpg: ignoring corrupt image/label: non-normalized or out of bounds coordinates [     1.0144]\n",
      "\u001b[34m\u001b[1mtrain: \u001b[0mWARNING ⚠️ /home/dfrobot/yolo/hand/Hand/kaggle/add_dataset1/images/train/1112.jpg: ignoring corrupt image/label: non-normalized or out of bounds coordinates [      1.001]\n",
      "\u001b[34m\u001b[1mtrain: \u001b[0mWARNING ⚠️ /home/dfrobot/yolo/hand/Hand/kaggle/add_dataset1/images/train/1373.jpg: ignoring corrupt image/label: negative label values [-0.00057054]\n",
      "\u001b[34m\u001b[1mtrain: \u001b[0mWARNING ⚠️ /home/dfrobot/yolo/hand/Hand/kaggle/add_dataset1/images/train/1374.jpg: ignoring corrupt image/label: negative label values [ -0.0034849   -0.078883]\n",
      "\u001b[34m\u001b[1mtrain: \u001b[0mWARNING ⚠️ /home/dfrobot/yolo/hand/Hand/kaggle/add_dataset1/images/train/1375.jpg: ignoring corrupt image/label: negative label values [   -0.01705]\n",
      "\u001b[34m\u001b[1mtrain: \u001b[0mWARNING ⚠️ /home/dfrobot/yolo/hand/Hand/kaggle/add_dataset1/images/train/1376.jpg: ignoring corrupt image/label: negative label values [  -0.059098]\n",
      "\u001b[34m\u001b[1mtrain: \u001b[0mWARNING ⚠️ /home/dfrobot/yolo/hand/Hand/kaggle/add_dataset1/images/train/1377.jpg: ignoring corrupt image/label: negative label values [ -0.0095976]\n",
      "\u001b[34m\u001b[1mtrain: \u001b[0mWARNING ⚠️ /home/dfrobot/yolo/hand/Hand/kaggle/add_dataset1/images/train/1379.jpg: ignoring corrupt image/label: negative label values [-0.00030336]\n",
      "\u001b[34m\u001b[1mtrain: \u001b[0mWARNING ⚠️ /home/dfrobot/yolo/hand/Hand/kaggle/add_dataset1/images/train/1380.jpg: ignoring corrupt image/label: negative label values [  -0.018617]\n",
      "\u001b[34m\u001b[1mtrain: \u001b[0mWARNING ⚠️ /home/dfrobot/yolo/hand/Hand/kaggle/add_dataset1/images/train/1381.jpg: ignoring corrupt image/label: negative label values [  -0.019826]\n",
      "\u001b[34m\u001b[1mtrain: \u001b[0mWARNING ⚠️ /home/dfrobot/yolo/hand/Hand/kaggle/add_dataset1/images/train/1382.jpg: ignoring corrupt image/label: negative label values [  -0.014091]\n",
      "\u001b[34m\u001b[1mtrain: \u001b[0mWARNING ⚠️ /home/dfrobot/yolo/hand/Hand/kaggle/add_dataset1/images/train/1383.jpg: ignoring corrupt image/label: negative label values [ -0.0035734]\n",
      "\u001b[34m\u001b[1mtrain: \u001b[0mWARNING ⚠️ /home/dfrobot/yolo/hand/Hand/kaggle/add_dataset1/images/train/1820.jpg: ignoring corrupt image/label: negative label values [  -0.011295]\n",
      "\u001b[34m\u001b[1mtrain: \u001b[0mWARNING ⚠️ /home/dfrobot/yolo/hand/Hand/kaggle/add_dataset1/images/train/1821.jpg: ignoring corrupt image/label: negative label values [  -0.021326]\n",
      "\u001b[34m\u001b[1mtrain: \u001b[0mWARNING ⚠️ /home/dfrobot/yolo/hand/Hand/kaggle/add_dataset1/images/train/1822.jpg: ignoring corrupt image/label: negative label values [  -0.041038]\n",
      "\u001b[34m\u001b[1mtrain: \u001b[0mWARNING ⚠️ /home/dfrobot/yolo/hand/Hand/kaggle/add_dataset1/images/train/1823.jpg: ignoring corrupt image/label: negative label values [  -0.043046]\n",
      "\u001b[34m\u001b[1mtrain: \u001b[0mWARNING ⚠️ /home/dfrobot/yolo/hand/Hand/kaggle/add_dataset1/images/train/1824.jpg: ignoring corrupt image/label: negative label values [  -0.049722]\n",
      "\u001b[34m\u001b[1mtrain: \u001b[0mWARNING ⚠️ /home/dfrobot/yolo/hand/Hand/kaggle/add_dataset1/images/train/1825.jpg: ignoring corrupt image/label: negative label values [  -0.043391]\n",
      "\u001b[34m\u001b[1mtrain: \u001b[0mWARNING ⚠️ /home/dfrobot/yolo/hand/Hand/kaggle/add_dataset1/images/train/1826.jpg: ignoring corrupt image/label: negative label values [   -0.04979]\n",
      "\u001b[34m\u001b[1mtrain: \u001b[0mWARNING ⚠️ /home/dfrobot/yolo/hand/Hand/kaggle/add_dataset1/images/train/1827.jpg: ignoring corrupt image/label: negative label values [  -0.024381]\n",
      "\u001b[34m\u001b[1mtrain: \u001b[0mWARNING ⚠️ /home/dfrobot/yolo/hand/Hand/kaggle/add_dataset1/images/train/1828.jpg: ignoring corrupt image/label: negative label values [  -0.011032]\n",
      "\u001b[34m\u001b[1mtrain: \u001b[0mWARNING ⚠️ /home/dfrobot/yolo/hand/Hand/kaggle/add_dataset1/images/train/2051.jpg: ignoring corrupt image/label: non-normalized or out of bounds coordinates [     1.0012]\n",
      "\u001b[34m\u001b[1mtrain: \u001b[0mWARNING ⚠️ /home/dfrobot/yolo/hand/Hand/kaggle/add_dataset1/images/train/2226.jpg: ignoring corrupt image/label: negative label values [ -0.0067465]\n",
      "\u001b[34m\u001b[1mtrain: \u001b[0mWARNING ⚠️ /home/dfrobot/yolo/hand/Hand/kaggle/add_dataset1/images/train/2230.jpg: ignoring corrupt image/label: negative label values [ -0.0039852]\n",
      "\u001b[34m\u001b[1mtrain: \u001b[0mWARNING ⚠️ /home/dfrobot/yolo/hand/Hand/kaggle/add_dataset1/images/train/2231.jpg: ignoring corrupt image/label: negative label values [ -0.0032276]\n",
      "\u001b[34m\u001b[1mtrain: \u001b[0mWARNING ⚠️ /home/dfrobot/yolo/hand/Hand/kaggle/add_dataset1/images/train/2378.jpg: ignoring corrupt image/label: negative label values [ -0.0087471]\n",
      "\u001b[34m\u001b[1mtrain: \u001b[0mWARNING ⚠️ /home/dfrobot/yolo/hand/Hand/kaggle/add_dataset1/images/train/2379.jpg: ignoring corrupt image/label: negative label values [  -0.011874]\n",
      "\u001b[34m\u001b[1mtrain: \u001b[0mWARNING ⚠️ /home/dfrobot/yolo/hand/Hand/kaggle/add_dataset1/images/train/2380.jpg: ignoring corrupt image/label: negative label values [  -0.013095]\n",
      "\u001b[34m\u001b[1mtrain: \u001b[0mWARNING ⚠️ /home/dfrobot/yolo/hand/Hand/kaggle/add_dataset1/images/train/2381.jpg: ignoring corrupt image/label: negative label values [ -0.0082135]\n",
      "\u001b[34m\u001b[1mtrain: \u001b[0mWARNING ⚠️ /home/dfrobot/yolo/hand/Hand/kaggle/add_dataset1/images/train/2382.jpg: ignoring corrupt image/label: negative label values [ -0.0087806]\n",
      "\u001b[34m\u001b[1mtrain: \u001b[0mWARNING ⚠️ /home/dfrobot/yolo/hand/Hand/kaggle/add_dataset1/images/train/2383.jpg: ignoring corrupt image/label: negative label values [ -0.0095765]\n",
      "\u001b[34m\u001b[1mtrain: \u001b[0mWARNING ⚠️ /home/dfrobot/yolo/hand/Hand/kaggle/add_dataset1/images/train/2384.jpg: ignoring corrupt image/label: negative label values [ -0.0013492]\n",
      "\u001b[34m\u001b[1mtrain: \u001b[0mWARNING ⚠️ /home/dfrobot/yolo/hand/Hand/kaggle/add_dataset1/images/train/2514.jpg: ignoring corrupt image/label: negative label values [ -0.0010634]\n",
      "\u001b[34m\u001b[1mtrain: \u001b[0mWARNING ⚠️ /home/dfrobot/yolo/hand/Hand/kaggle/add_dataset1/images/train/2515.jpg: ignoring corrupt image/label: negative label values [  -0.027036]\n",
      "\u001b[34m\u001b[1mtrain: \u001b[0mWARNING ⚠️ /home/dfrobot/yolo/hand/Hand/kaggle/add_dataset1/images/train/2516.jpg: ignoring corrupt image/label: negative label values [ -0.0055428]\n",
      "\u001b[34m\u001b[1mtrain: \u001b[0mWARNING ⚠️ /home/dfrobot/yolo/hand/Hand/kaggle/add_dataset1/images/train/2517.jpg: ignoring corrupt image/label: negative label values [   -0.02286]\n",
      "\u001b[34m\u001b[1mtrain: \u001b[0mWARNING ⚠️ /home/dfrobot/yolo/hand/Hand/kaggle/add_dataset1/images/train/2518.jpg: ignoring corrupt image/label: negative label values [  -0.011726]\n",
      "\u001b[34m\u001b[1mtrain: \u001b[0mWARNING ⚠️ /home/dfrobot/yolo/hand/Hand/kaggle/add_dataset1/images/train/2519.jpg: ignoring corrupt image/label: negative label values [-0.00069335]\n",
      "\u001b[34m\u001b[1mtrain: \u001b[0mWARNING ⚠️ /home/dfrobot/yolo/hand/Hand/kaggle/add_dataset1/images/train/2532.jpg: ignoring corrupt image/label: non-normalized or out of bounds coordinates [     1.0234]\n",
      "\u001b[34m\u001b[1mtrain: \u001b[0mWARNING ⚠️ /home/dfrobot/yolo/hand/Hand/kaggle/add_dataset1/images/train/2533.jpg: ignoring corrupt image/label: non-normalized or out of bounds coordinates [     1.0238]\n",
      "\u001b[34m\u001b[1mtrain: \u001b[0mWARNING ⚠️ /home/dfrobot/yolo/hand/Hand/kaggle/add_dataset1/images/train/2534.jpg: ignoring corrupt image/label: non-normalized or out of bounds coordinates [     1.0238]\n",
      "\u001b[34m\u001b[1mtrain: \u001b[0mWARNING ⚠️ /home/dfrobot/yolo/hand/Hand/kaggle/add_dataset1/images/train/2535.jpg: ignoring corrupt image/label: non-normalized or out of bounds coordinates [     1.0372]\n",
      "\u001b[34m\u001b[1mtrain: \u001b[0mWARNING ⚠️ /home/dfrobot/yolo/hand/Hand/kaggle/add_dataset1/images/train/2536.jpg: ignoring corrupt image/label: non-normalized or out of bounds coordinates [     1.0348]\n",
      "\u001b[34m\u001b[1mtrain: \u001b[0mWARNING ⚠️ /home/dfrobot/yolo/hand/Hand/kaggle/add_dataset1/images/train/2537.jpg: ignoring corrupt image/label: non-normalized or out of bounds coordinates [     1.0237]\n",
      "\u001b[34m\u001b[1mtrain: \u001b[0mWARNING ⚠️ /home/dfrobot/yolo/hand/Hand/kaggle/add_dataset1/images/train/2538.jpg: ignoring corrupt image/label: non-normalized or out of bounds coordinates [     1.0307]\n",
      "\u001b[34m\u001b[1mtrain: \u001b[0mWARNING ⚠️ /home/dfrobot/yolo/hand/Hand/kaggle/add_dataset1/images/train/2539.jpg: ignoring corrupt image/label: non-normalized or out of bounds coordinates [     1.0185]\n",
      "\u001b[34m\u001b[1mtrain: \u001b[0mWARNING ⚠️ /home/dfrobot/yolo/hand/Hand/kaggle/add_dataset1/images/train/2705.jpg: ignoring corrupt image/label: negative label values [-0.00062761]\n",
      "\u001b[34m\u001b[1mtrain: \u001b[0mWARNING ⚠️ /home/dfrobot/yolo/hand/Hand/kaggle/add_dataset1/images/train/2777.jpg: ignoring corrupt image/label: non-normalized or out of bounds coordinates [     1.0157]\n",
      "\u001b[34m\u001b[1mtrain: \u001b[0mWARNING ⚠️ /home/dfrobot/yolo/hand/Hand/kaggle/add_dataset1/images/train/2778.jpg: ignoring corrupt image/label: non-normalized or out of bounds coordinates [     1.0726]\n",
      "\u001b[34m\u001b[1mtrain: \u001b[0mWARNING ⚠️ /home/dfrobot/yolo/hand/Hand/kaggle/add_dataset1/images/train/2779.jpg: ignoring corrupt image/label: non-normalized or out of bounds coordinates [     1.0829]\n",
      "\u001b[34m\u001b[1mtrain: \u001b[0mWARNING ⚠️ /home/dfrobot/yolo/hand/Hand/kaggle/add_dataset1/images/train/2780.jpg: ignoring corrupt image/label: non-normalized or out of bounds coordinates [     1.0931]\n",
      "\u001b[34m\u001b[1mtrain: \u001b[0mWARNING ⚠️ /home/dfrobot/yolo/hand/Hand/kaggle/add_dataset1/images/train/2781.jpg: ignoring corrupt image/label: non-normalized or out of bounds coordinates [     1.0677]\n",
      "\u001b[34m\u001b[1mtrain: \u001b[0mWARNING ⚠️ /home/dfrobot/yolo/hand/Hand/kaggle/add_dataset1/images/train/2782.jpg: ignoring corrupt image/label: non-normalized or out of bounds coordinates [      1.077]\n",
      "\u001b[34m\u001b[1mtrain: \u001b[0mWARNING ⚠️ /home/dfrobot/yolo/hand/Hand/kaggle/add_dataset1/images/train/2783.jpg: ignoring corrupt image/label: non-normalized or out of bounds coordinates [     1.0609]\n",
      "\u001b[34m\u001b[1mtrain: \u001b[0mWARNING ⚠️ /home/dfrobot/yolo/hand/Hand/kaggle/add_dataset1/images/train/2784.jpg: ignoring corrupt image/label: non-normalized or out of bounds coordinates [     1.0281]\n",
      "\u001b[34m\u001b[1mtrain: \u001b[0mWARNING ⚠️ /home/dfrobot/yolo/hand/Hand/kaggle/add_dataset1/images/train/2785.jpg: ignoring corrupt image/label: non-normalized or out of bounds coordinates [     1.0119]\n",
      "\u001b[34m\u001b[1mtrain: \u001b[0mWARNING ⚠️ /home/dfrobot/yolo/hand/Hand/kaggle/add_dataset1/images/train/2848.jpg: ignoring corrupt image/label: negative label values [  -0.058952]\n",
      "\u001b[34m\u001b[1mtrain: \u001b[0mWARNING ⚠️ /home/dfrobot/yolo/hand/Hand/kaggle/add_dataset1/images/train/2851.jpg: ignoring corrupt image/label: negative label values [  -0.036633]\n",
      "\u001b[34m\u001b[1mtrain: \u001b[0mWARNING ⚠️ /home/dfrobot/yolo/hand/Hand/kaggle/add_dataset1/images/train/2853.jpg: ignoring corrupt image/label: negative label values [  -0.036449]\n",
      "\u001b[34m\u001b[1mtrain: \u001b[0mWARNING ⚠️ /home/dfrobot/yolo/hand/Hand/kaggle/add_dataset1/images/train/2854.jpg: ignoring corrupt image/label: negative label values [  -0.047496]\n",
      "\u001b[34m\u001b[1mtrain: \u001b[0mWARNING ⚠️ /home/dfrobot/yolo/hand/Hand/kaggle/add_dataset1/images/train/2855.jpg: ignoring corrupt image/label: negative label values [  -0.044728]\n",
      "\u001b[34m\u001b[1mtrain: \u001b[0mWARNING ⚠️ /home/dfrobot/yolo/hand/Hand/kaggle/add_dataset1/images/train/2856.jpg: ignoring corrupt image/label: negative label values [  -0.052848]\n",
      "\u001b[34m\u001b[1mtrain: \u001b[0mWARNING ⚠️ /home/dfrobot/yolo/hand/Hand/kaggle/add_dataset1/images/train/2857.jpg: ignoring corrupt image/label: negative label values [  -0.024838]\n",
      "\u001b[34m\u001b[1mtrain: \u001b[0mWARNING ⚠️ /home/dfrobot/yolo/hand/Hand/kaggle/add_dataset1/images/train/2858.jpg: ignoring corrupt image/label: negative label values [  -0.010932   -0.083288]\n",
      "\u001b[34m\u001b[1mtrain: \u001b[0mWARNING ⚠️ /home/dfrobot/yolo/hand/Hand/kaggle/add_dataset1/images/train/2859.jpg: ignoring corrupt image/label: negative label values [ -0.0032364   -0.072225]\n",
      "\u001b[34m\u001b[1mtrain: \u001b[0mWARNING ⚠️ /home/dfrobot/yolo/hand/Hand/kaggle/add_dataset1/images/train/2861.jpg: ignoring corrupt image/label: negative label values [    -0.0328]\n",
      "\u001b[34m\u001b[1mtrain: \u001b[0mWARNING ⚠️ /home/dfrobot/yolo/hand/Hand/kaggle/add_dataset1/images/train/2862.jpg: ignoring corrupt image/label: negative label values [  -0.016422]\n",
      "\u001b[34m\u001b[1mtrain: \u001b[0mWARNING ⚠️ /home/dfrobot/yolo/hand/Hand/kaggle/add_dataset1/images/train/2864.jpg: ignoring corrupt image/label: negative label values [  -0.021742]\n",
      "\u001b[34m\u001b[1mtrain: \u001b[0mWARNING ⚠️ /home/dfrobot/yolo/hand/Hand/kaggle/add_dataset1/images/train/2865.jpg: ignoring corrupt image/label: negative label values [ -0.0079338]\n",
      "\u001b[34m\u001b[1mtrain: \u001b[0mWARNING ⚠️ /home/dfrobot/yolo/hand/Hand/kaggle/add_dataset1/images/train/2866.jpg: ignoring corrupt image/label: negative label values [  -0.025399]\n",
      "\u001b[34m\u001b[1mtrain: \u001b[0mWARNING ⚠️ /home/dfrobot/yolo/hand/Hand/kaggle/add_dataset1/images/train/2867.jpg: ignoring corrupt image/label: negative label values [  -0.026172]\n",
      "\u001b[34m\u001b[1mtrain: \u001b[0mWARNING ⚠️ /home/dfrobot/yolo/hand/Hand/kaggle/add_dataset1/images/train/2868.jpg: ignoring corrupt image/label: negative label values [  -0.059476]\n",
      "\u001b[34m\u001b[1mtrain: \u001b[0mWARNING ⚠️ /home/dfrobot/yolo/hand/Hand/kaggle/add_dataset1/images/train/2869.jpg: ignoring corrupt image/label: negative label values [  -0.016248]\n",
      "\u001b[34m\u001b[1mtrain: \u001b[0mWARNING ⚠️ /home/dfrobot/yolo/hand/Hand/kaggle/add_dataset1/images/train/2870.jpg: ignoring corrupt image/label: negative label values [  -0.053285]\n",
      "\u001b[34m\u001b[1mtrain: \u001b[0mWARNING ⚠️ /home/dfrobot/yolo/hand/Hand/kaggle/add_dataset1/images/train/2871.jpg: ignoring corrupt image/label: negative label values [  -0.037246]\n",
      "\u001b[34m\u001b[1mtrain: \u001b[0mWARNING ⚠️ /home/dfrobot/yolo/hand/Hand/kaggle/add_dataset1/images/train/2872.jpg: ignoring corrupt image/label: negative label values [  -0.039164]\n",
      "\u001b[34m\u001b[1mtrain: \u001b[0mWARNING ⚠️ /home/dfrobot/yolo/hand/Hand/kaggle/add_dataset1/images/train/2873.jpg: ignoring corrupt image/label: negative label values [  -0.046052]\n",
      "\u001b[34m\u001b[1mtrain: \u001b[0mWARNING ⚠️ /home/dfrobot/yolo/hand/Hand/kaggle/add_dataset1/images/train/2874.jpg: ignoring corrupt image/label: negative label values [  -0.046396]\n",
      "\u001b[34m\u001b[1mtrain: \u001b[0mWARNING ⚠️ /home/dfrobot/yolo/hand/Hand/kaggle/add_dataset1/images/train/2875.jpg: ignoring corrupt image/label: negative label values [  -0.053343]\n",
      "\u001b[34m\u001b[1mtrain: \u001b[0mWARNING ⚠️ /home/dfrobot/yolo/hand/Hand/kaggle/add_dataset1/images/train/2876.jpg: ignoring corrupt image/label: negative label values [  -0.022766]\n",
      "\u001b[34m\u001b[1mtrain: \u001b[0mWARNING ⚠️ /home/dfrobot/yolo/hand/Hand/kaggle/add_dataset1/images/train/2883.jpg: ignoring corrupt image/label: negative label values [ -0.0049844]\n",
      "\u001b[34m\u001b[1mtrain: \u001b[0mWARNING ⚠️ /home/dfrobot/yolo/hand/Hand/kaggle/add_dataset1/images/train/2962.jpg: ignoring corrupt image/label: non-normalized or out of bounds coordinates [     1.0489      1.0004       1.023      1.0171]\n",
      "\u001b[34m\u001b[1mtrain: \u001b[0mWARNING ⚠️ /home/dfrobot/yolo/hand/Hand/kaggle/add_dataset1/images/train/2963.jpg: ignoring corrupt image/label: non-normalized or out of bounds coordinates [     1.1187      1.0051      1.0137      1.0248      1.0141]\n",
      "\u001b[34m\u001b[1mtrain: \u001b[0mWARNING ⚠️ /home/dfrobot/yolo/hand/Hand/kaggle/add_dataset1/images/train/2964.jpg: ignoring corrupt image/label: non-normalized or out of bounds coordinates [     1.2025      1.0419      1.0132      1.0042]\n",
      "\u001b[34m\u001b[1mtrain: \u001b[0mWARNING ⚠️ /home/dfrobot/yolo/hand/Hand/kaggle/add_dataset1/images/train/2965.jpg: ignoring corrupt image/label: non-normalized or out of bounds coordinates [     1.2554      1.1613      1.0105]\n",
      "\u001b[34m\u001b[1mtrain: \u001b[0mWARNING ⚠️ /home/dfrobot/yolo/hand/Hand/kaggle/add_dataset1/images/train/2967.jpg: ignoring corrupt image/label: non-normalized or out of bounds coordinates [     1.0981      1.0108]\n",
      "\u001b[34m\u001b[1mtrain: \u001b[0mWARNING ⚠️ /home/dfrobot/yolo/hand/Hand/kaggle/add_dataset1/images/train/2968.jpg: ignoring corrupt image/label: non-normalized or out of bounds coordinates [     1.0425      1.0339]\n",
      "\u001b[34m\u001b[1mtrain: \u001b[0mWARNING ⚠️ /home/dfrobot/yolo/hand/Hand/kaggle/add_dataset1/images/train/3857.jpg: ignoring corrupt image/label: negative label values [  -0.010587]\n",
      "\u001b[34m\u001b[1mtrain: \u001b[0mWARNING ⚠️ /home/dfrobot/yolo/hand/Hand/kaggle/add_dataset1/images/train/3858.jpg: ignoring corrupt image/label: negative label values [  -0.024378]\n",
      "\u001b[34m\u001b[1mtrain: \u001b[0mWARNING ⚠️ /home/dfrobot/yolo/hand/Hand/kaggle/add_dataset1/images/train/3859.jpg: ignoring corrupt image/label: negative label values [ -0.0049641   -0.034973]\n",
      "\u001b[34m\u001b[1mtrain: \u001b[0mWARNING ⚠️ /home/dfrobot/yolo/hand/Hand/kaggle/add_dataset1/images/train/3860.jpg: ignoring corrupt image/label: negative label values [  -0.010399   -0.039583]\n",
      "\u001b[34m\u001b[1mtrain: \u001b[0mWARNING ⚠️ /home/dfrobot/yolo/hand/Hand/kaggle/add_dataset1/images/train/3861.jpg: ignoring corrupt image/label: negative label values [ -0.0041828   -0.031657]\n",
      "\u001b[34m\u001b[1mtrain: \u001b[0mWARNING ⚠️ /home/dfrobot/yolo/hand/Hand/kaggle/add_dataset1/images/train/3862.jpg: ignoring corrupt image/label: negative label values [  -0.024885]\n",
      "\u001b[34m\u001b[1mtrain: \u001b[0mWARNING ⚠️ /home/dfrobot/yolo/hand/Hand/kaggle/add_dataset1/images/train/3863.jpg: ignoring corrupt image/label: negative label values [  -0.021495]\n",
      "\u001b[34m\u001b[1mtrain: \u001b[0mWARNING ⚠️ /home/dfrobot/yolo/hand/Hand/kaggle/add_dataset1/images/train/3864.jpg: ignoring corrupt image/label: negative label values [  -0.020611]\n",
      "\u001b[34m\u001b[1mtrain: \u001b[0mWARNING ⚠️ /home/dfrobot/yolo/hand/Hand/kaggle/add_dataset1/images/train/3865.jpg: ignoring corrupt image/label: negative label values [  -0.012928]\n",
      "\u001b[34m\u001b[1mtrain: \u001b[0mWARNING ⚠️ /home/dfrobot/yolo/hand/Hand/kaggle/add_dataset1/images/train/3866.jpg: ignoring corrupt image/label: negative label values [ -0.0096465]\n",
      "\u001b[34m\u001b[1mtrain: \u001b[0mWARNING ⚠️ /home/dfrobot/yolo/hand/Hand/kaggle/add_dataset1/images/train/3867.jpg: ignoring corrupt image/label: negative label values [ -0.0043457]\n",
      "\u001b[34m\u001b[1mtrain: \u001b[0mWARNING ⚠️ /home/dfrobot/yolo/hand/Hand/kaggle/add_dataset1/images/train/4284.jpg: ignoring corrupt image/label: negative label values [ -0.0051044]\n",
      "\u001b[34m\u001b[1mtrain: \u001b[0mWARNING ⚠️ /home/dfrobot/yolo/hand/Hand/kaggle/add_dataset1/images/train/4285.jpg: ignoring corrupt image/label: negative label values [  -0.010159]\n",
      "\u001b[34m\u001b[1mtrain: \u001b[0mWARNING ⚠️ /home/dfrobot/yolo/hand/Hand/kaggle/add_dataset1/images/train/4292.jpg: ignoring corrupt image/label: non-normalized or out of bounds coordinates [     1.0263]\n",
      "\u001b[34m\u001b[1mtrain: \u001b[0mWARNING ⚠️ /home/dfrobot/yolo/hand/Hand/kaggle/add_dataset1/images/train/4293.jpg: ignoring corrupt image/label: non-normalized or out of bounds coordinates [     1.0455      1.0052]\n",
      "\u001b[34m\u001b[1mtrain: \u001b[0mWARNING ⚠️ /home/dfrobot/yolo/hand/Hand/kaggle/add_dataset1/images/train/4294.jpg: ignoring corrupt image/label: non-normalized or out of bounds coordinates [     1.0666      1.0176]\n",
      "\u001b[34m\u001b[1mtrain: \u001b[0mWARNING ⚠️ /home/dfrobot/yolo/hand/Hand/kaggle/add_dataset1/images/train/4295.jpg: ignoring corrupt image/label: non-normalized or out of bounds coordinates [      1.071      1.0207]\n",
      "\u001b[34m\u001b[1mtrain: \u001b[0mWARNING ⚠️ /home/dfrobot/yolo/hand/Hand/kaggle/add_dataset1/images/train/4296.jpg: ignoring corrupt image/label: non-normalized or out of bounds coordinates [     1.0671      1.0183]\n",
      "\u001b[34m\u001b[1mtrain: \u001b[0mWARNING ⚠️ /home/dfrobot/yolo/hand/Hand/kaggle/add_dataset1/images/train/4297.jpg: ignoring corrupt image/label: non-normalized or out of bounds coordinates [     1.0562      1.0115]\n",
      "\u001b[34m\u001b[1mtrain: \u001b[0mWARNING ⚠️ /home/dfrobot/yolo/hand/Hand/kaggle/add_dataset1/images/train/4298.jpg: ignoring corrupt image/label: non-normalized or out of bounds coordinates [     1.0407]\n",
      "\u001b[34m\u001b[1mtrain: \u001b[0mWARNING ⚠️ /home/dfrobot/yolo/hand/Hand/kaggle/add_dataset1/images/train/4299.jpg: ignoring corrupt image/label: non-normalized or out of bounds coordinates [     1.0171]\n",
      "\u001b[34m\u001b[1mtrain: \u001b[0mWARNING ⚠️ /home/dfrobot/yolo/hand/Hand/kaggle/add_dataset1/images/train/4925.jpg: ignoring corrupt image/label: non-normalized or out of bounds coordinates [     1.0159]\n",
      "\u001b[34m\u001b[1mtrain: \u001b[0mWARNING ⚠️ /home/dfrobot/yolo/hand/Hand/kaggle/add_dataset1/images/train/4926.jpg: ignoring corrupt image/label: non-normalized or out of bounds coordinates [     1.0296      1.0012]\n",
      "\u001b[34m\u001b[1mtrain: \u001b[0mWARNING ⚠️ /home/dfrobot/yolo/hand/Hand/kaggle/add_dataset1/images/train/4927.jpg: ignoring corrupt image/label: non-normalized or out of bounds coordinates [     1.0363      1.0087]\n",
      "\u001b[34m\u001b[1mtrain: \u001b[0mWARNING ⚠️ /home/dfrobot/yolo/hand/Hand/kaggle/add_dataset1/images/train/4928.jpg: ignoring corrupt image/label: non-normalized or out of bounds coordinates [     1.0141]\n",
      "\u001b[34m\u001b[1mtrain: \u001b[0mWARNING ⚠️ /home/dfrobot/yolo/hand/Hand/kaggle/add_dataset1/images/train/4929.jpg: ignoring corrupt image/label: non-normalized or out of bounds coordinates [      1.003]\n",
      "\u001b[34m\u001b[1mtrain: \u001b[0mWARNING ⚠️ /home/dfrobot/yolo/hand/Hand/kaggle/add_dataset1/images/train/4934.jpg: ignoring corrupt image/label: negative label values [  -0.014778]\n",
      "\u001b[34m\u001b[1mtrain: \u001b[0mWARNING ⚠️ /home/dfrobot/yolo/hand/Hand/kaggle/add_dataset1/images/train/4935.jpg: ignoring corrupt image/label: negative label values [  -0.033417  -0.0020181   -0.016193   -0.004822]\n",
      "\u001b[34m\u001b[1mtrain: \u001b[0mWARNING ⚠️ /home/dfrobot/yolo/hand/Hand/kaggle/add_dataset1/images/train/4936.jpg: ignoring corrupt image/label: negative label values [ -0.0075936   -0.022322   -0.011589   -0.015547   -0.001402   -0.010608]\n",
      "\u001b[34m\u001b[1mtrain: \u001b[0mWARNING ⚠️ /home/dfrobot/yolo/hand/Hand/kaggle/add_dataset1/images/train/4937.jpg: ignoring corrupt image/label: negative label values [  -0.010927   -0.014073   -0.031652   -0.029589   -0.024657   -0.025331    -0.02916   -0.016381   -0.017458]\n",
      "\u001b[34m\u001b[1mtrain: \u001b[0mWARNING ⚠️ /home/dfrobot/yolo/hand/Hand/kaggle/add_dataset1/images/train/4938.jpg: ignoring corrupt image/label: negative label values [ -0.0018495  -0.0083249   -0.030692   -0.021266   -0.023165   -0.014719   -0.025847  -0.0030004   -0.011214]\n",
      "\u001b[34m\u001b[1mtrain: \u001b[0mWARNING ⚠️ /home/dfrobot/yolo/hand/Hand/kaggle/add_dataset1/images/train/4939.jpg: ignoring corrupt image/label: negative label values [ -0.0048038  -0.0052838   -0.031184   -0.019506   -0.020812   -0.014521   -0.022698  -0.0046419  -0.0095288]\n",
      "\u001b[34m\u001b[1mtrain: \u001b[0mWARNING ⚠️ /home/dfrobot/yolo/hand/Hand/kaggle/add_dataset1/images/train/4940.jpg: ignoring corrupt image/label: negative label values [  -0.019613  -0.0084865   -0.015693   -0.001977   -0.016432]\n",
      "\u001b[34m\u001b[1mtrain: \u001b[0mWARNING ⚠️ /home/dfrobot/yolo/hand/Hand/kaggle/add_dataset1/images/train/4941.jpg: ignoring corrupt image/label: negative label values [  -0.013908   -0.002001]\n",
      "\u001b[34m\u001b[1mtrain: \u001b[0mWARNING ⚠️ /home/dfrobot/yolo/hand/Hand/kaggle/add_dataset1/images/train/4942.jpg: ignoring corrupt image/label: negative label values [ -0.0047137]\n",
      "\u001b[34m\u001b[1mtrain: \u001b[0mWARNING ⚠️ /home/dfrobot/yolo/hand/Hand/kaggle/add_dataset1/images/train/6818.jpg: ignoring corrupt image/label: non-normalized or out of bounds coordinates [     1.0032      1.0033]\n",
      "\u001b[34m\u001b[1mtrain: \u001b[0mWARNING ⚠️ /home/dfrobot/yolo/hand/Hand/kaggle/add_dataset1/images/train/6999.jpg: ignoring corrupt image/label: negative label values [  -0.013067]\n",
      "\u001b[34m\u001b[1mtrain: \u001b[0mWARNING ⚠️ /home/dfrobot/yolo/hand/Hand/kaggle/add_dataset1/images/train/7000.jpg: ignoring corrupt image/label: negative label values [ -0.0067318]\n",
      "\u001b[34m\u001b[1mtrain: \u001b[0mWARNING ⚠️ /home/dfrobot/yolo/hand/Hand/kaggle/add_dataset1/images/train/820.jpg: ignoring corrupt image/label: negative label values [   -0.02522]\n",
      "\u001b[34m\u001b[1mtrain: \u001b[0mWARNING ⚠️ /home/dfrobot/yolo/hand/Hand/kaggle/add_dataset1/images/train/821.jpg: ignoring corrupt image/label: negative label values [  -0.043502]\n",
      "\u001b[34m\u001b[1mtrain: \u001b[0mWARNING ⚠️ /home/dfrobot/yolo/hand/Hand/kaggle/add_dataset1/images/train/822.jpg: ignoring corrupt image/label: negative label values [  -0.055484]\n",
      "\u001b[34m\u001b[1mtrain: \u001b[0mWARNING ⚠️ /home/dfrobot/yolo/hand/Hand/kaggle/add_dataset1/images/train/8228.jpg: ignoring corrupt image/label: non-normalized or out of bounds coordinates [     1.0147      1.0493      1.0061      1.0506      1.0578      1.0091]\n",
      "\u001b[34m\u001b[1mtrain: \u001b[0mWARNING ⚠️ /home/dfrobot/yolo/hand/Hand/kaggle/add_dataset1/images/train/8229.jpg: ignoring corrupt image/label: non-normalized or out of bounds coordinates [     1.0111      1.0623      1.0916      1.0195      1.0458      1.0418      1.0248      1.0379      1.0256]\n",
      "\u001b[34m\u001b[1mtrain: \u001b[0mWARNING ⚠️ /home/dfrobot/yolo/hand/Hand/kaggle/add_dataset1/images/train/823.jpg: ignoring corrupt image/label: negative label values [  -0.062833  -0.0021951]\n",
      "\u001b[34m\u001b[1mtrain: \u001b[0mWARNING ⚠️ /home/dfrobot/yolo/hand/Hand/kaggle/add_dataset1/images/train/8230.jpg: ignoring corrupt image/label: non-normalized or out of bounds coordinates [     1.0254      1.0419      1.0577      1.0095      1.0757      1.0996      1.0408       1.078       1.073      1.0565      1.0763      1.0611]\n",
      "\u001b[34m\u001b[1mtrain: \u001b[0mWARNING ⚠️ /home/dfrobot/yolo/hand/Hand/kaggle/add_dataset1/images/train/8231.jpg: ignoring corrupt image/label: non-normalized or out of bounds coordinates [     1.0322      1.0412      1.0593      1.0233      1.0512      1.0465      1.0428      1.0497      1.0311      1.0461      1.0433      1.0225]\n",
      "\u001b[34m\u001b[1mtrain: \u001b[0mWARNING ⚠️ /home/dfrobot/yolo/hand/Hand/kaggle/add_dataset1/images/train/8232.jpg: ignoring corrupt image/label: non-normalized or out of bounds coordinates [     1.0515      1.0072      1.0654      1.0934      1.0316      1.0741       1.083       1.045        1.07      1.0679      1.0455      1.0605       1.058]\n",
      "\u001b[34m\u001b[1mtrain: \u001b[0mWARNING ⚠️ /home/dfrobot/yolo/hand/Hand/kaggle/add_dataset1/images/train/8233.jpg: ignoring corrupt image/label: non-normalized or out of bounds coordinates [     1.0144      1.0766      1.0386      1.0763      1.0806      1.0618      1.0763      1.0592      1.0731      1.0714      1.0467      1.0732      1.0643      1.0405]\n",
      "\u001b[34m\u001b[1mtrain: \u001b[0mWARNING ⚠️ /home/dfrobot/yolo/hand/Hand/kaggle/add_dataset1/images/train/8234.jpg: ignoring corrupt image/label: non-normalized or out of bounds coordinates [     1.0279      1.0898      1.0647      1.0719      1.0488      1.0782      1.0765      1.0463      1.0817      1.0731      1.0431      1.0806      1.0665      1.0413]\n",
      "\u001b[34m\u001b[1mtrain: \u001b[0mWARNING ⚠️ /home/dfrobot/yolo/hand/Hand/kaggle/add_dataset1/images/train/8235.jpg: ignoring corrupt image/label: non-normalized or out of bounds coordinates [     1.0485      1.1115      1.0688      1.0856      1.0677      1.0808      1.0859       1.056      1.0849      1.0795      1.0481      1.0817       1.072      1.0457]\n",
      "\u001b[34m\u001b[1mtrain: \u001b[0mWARNING ⚠️ /home/dfrobot/yolo/hand/Hand/kaggle/add_dataset1/images/train/8236.jpg: ignoring corrupt image/label: non-normalized or out of bounds coordinates [     1.0426      1.1042      1.0853      1.0879      1.0648      1.0916      1.0857      1.0528      1.0912      1.0756      1.0399      1.0851       1.068      1.0403]\n",
      "\u001b[34m\u001b[1mtrain: \u001b[0mWARNING ⚠️ /home/dfrobot/yolo/hand/Hand/kaggle/add_dataset1/images/train/8237.jpg: ignoring corrupt image/label: non-normalized or out of bounds coordinates [      1.029      1.0906      1.0706      1.0766      1.0538       1.082      1.0801      1.0506      1.0859       1.077      1.0467      1.0849      1.0714      1.0466]\n",
      "\u001b[34m\u001b[1mtrain: \u001b[0mWARNING ⚠️ /home/dfrobot/yolo/hand/Hand/kaggle/add_dataset1/images/train/8238.jpg: ignoring corrupt image/label: non-normalized or out of bounds coordinates [     1.0539      1.1159      1.0928      1.1038      1.0896      1.0971      1.0968        1.07      1.0966      1.0879      1.0577      1.0009      1.0901      1.0803      1.0578]\n",
      "\u001b[34m\u001b[1mtrain: \u001b[0mWARNING ⚠️ /home/dfrobot/yolo/hand/Hand/kaggle/add_dataset1/images/train/8239.jpg: ignoring corrupt image/label: non-normalized or out of bounds coordinates [      1.059      1.1185      1.0919      1.0915      1.0739      1.0973      1.0905      1.0622      1.0984      1.0806      1.0487      1.0078      1.0897      1.0746      1.0535]\n",
      "\u001b[34m\u001b[1mtrain: \u001b[0mWARNING ⚠️ /home/dfrobot/yolo/hand/Hand/kaggle/add_dataset1/images/train/824.jpg: ignoring corrupt image/label: negative label values [  -0.001057   -0.069115  -0.0064311]\n",
      "\u001b[34m\u001b[1mtrain: \u001b[0mWARNING ⚠️ /home/dfrobot/yolo/hand/Hand/kaggle/add_dataset1/images/train/8240.jpg: ignoring corrupt image/label: non-normalized or out of bounds coordinates [     1.0612      1.1187      1.0949      1.0998      1.0858      1.0958      1.0926      1.0676      1.0949      1.0831      1.0539      1.0071      1.0844      1.0758      1.0575]\n",
      "\u001b[34m\u001b[1mtrain: \u001b[0mWARNING ⚠️ /home/dfrobot/yolo/hand/Hand/kaggle/add_dataset1/images/train/8241.jpg: ignoring corrupt image/label: non-normalized or out of bounds coordinates [     1.0533      1.1064      1.0881       1.094      1.0805      1.0923      1.0901      1.0646      1.0929      1.0824       1.054      1.0107      1.0847      1.0764      1.0575]\n",
      "\u001b[34m\u001b[1mtrain: \u001b[0mWARNING ⚠️ /home/dfrobot/yolo/hand/Hand/kaggle/add_dataset1/images/train/8242.jpg: ignoring corrupt image/label: non-normalized or out of bounds coordinates [     1.0574      1.1102      1.0926      1.0854      1.0627      1.0968      1.0864      1.0568      1.0967       1.077      1.0438      1.0126      1.0859      1.0686      1.0454]\n",
      "\u001b[34m\u001b[1mtrain: \u001b[0mWARNING ⚠️ /home/dfrobot/yolo/hand/Hand/kaggle/add_dataset1/images/train/8243.jpg: ignoring corrupt image/label: non-normalized or out of bounds coordinates [     1.0539      1.1105      1.0904      1.0961       1.076      1.0928      1.0895      1.0613      1.0931      1.0811      1.0501      1.0097      1.0883      1.0748      1.0512]\n",
      "\u001b[34m\u001b[1mtrain: \u001b[0mWARNING ⚠️ /home/dfrobot/yolo/hand/Hand/kaggle/add_dataset1/images/train/8244.jpg: ignoring corrupt image/label: non-normalized or out of bounds coordinates [      1.043      1.0989      1.0782      1.0851      1.0668      1.0855      1.0833      1.0572      1.0875      1.0771      1.0484      1.0052      1.0823      1.0702      1.0491]\n",
      "\u001b[34m\u001b[1mtrain: \u001b[0mWARNING ⚠️ /home/dfrobot/yolo/hand/Hand/kaggle/add_dataset1/images/train/8245.jpg: ignoring corrupt image/label: non-normalized or out of bounds coordinates [     1.0175      1.0738      1.0521      1.0633      1.0427      1.0669      1.0696      1.0439      1.0739       1.072      1.0472      1.0719      1.0651      1.0446]\n",
      "\u001b[34m\u001b[1mtrain: \u001b[0mWARNING ⚠️ /home/dfrobot/yolo/hand/Hand/kaggle/add_dataset1/images/train/825.jpg: ignoring corrupt image/label: negative label values [  -0.023029   -0.047179]\n",
      "\u001b[34m\u001b[1mtrain: \u001b[0mWARNING ⚠️ /home/dfrobot/yolo/hand/Hand/kaggle/add_dataset1/images/train/826.jpg: ignoring corrupt image/label: negative label values [  -0.033441   -0.065959   -0.015504]\n",
      "\u001b[34m\u001b[1mtrain: \u001b[0mWARNING ⚠️ /home/dfrobot/yolo/hand/Hand/kaggle/add_dataset1/images/train/827.jpg: ignoring corrupt image/label: negative label values [  -0.060187   -0.054376]\n",
      "\u001b[34m\u001b[1mtrain: \u001b[0mWARNING ⚠️ /home/dfrobot/yolo/hand/Hand/kaggle/add_dataset1/images/train/829.jpg: ignoring corrupt image/label: negative label values [  -0.042123   -0.076824]\n",
      "\u001b[34m\u001b[1mtrain: \u001b[0mWARNING ⚠️ /home/dfrobot/yolo/hand/Hand/kaggle/add_dataset1/images/train/830.jpg: ignoring corrupt image/label: negative label values [-0.00070861   -0.030741]\n",
      "\u001b[34m\u001b[1mtrain: \u001b[0mWARNING ⚠️ /home/dfrobot/yolo/hand/Hand/kaggle/add_dataset1/images/train/831.jpg: ignoring corrupt image/label: negative label values [ -0.0014258    -0.02699   -0.063516]\n",
      "\u001b[34m\u001b[1mtrain: \u001b[0mWARNING ⚠️ /home/dfrobot/yolo/hand/Hand/kaggle/add_dataset1/images/train/832.jpg: ignoring corrupt image/label: negative label values [  -0.075878   -0.019773]\n",
      "\u001b[34m\u001b[1mtrain: \u001b[0mWARNING ⚠️ /home/dfrobot/yolo/hand/Hand/kaggle/add_dataset1/images/train/8328.jpg: ignoring corrupt image/label: non-normalized or out of bounds coordinates [      1.016      1.0609      1.0391      1.0596      1.0004      1.0428      1.0609]\n",
      "\u001b[34m\u001b[1mtrain: \u001b[0mWARNING ⚠️ /home/dfrobot/yolo/hand/Hand/kaggle/add_dataset1/images/train/8329.jpg: ignoring corrupt image/label: non-normalized or out of bounds coordinates [     1.0574      1.0812      1.1276      1.0738      1.1142      1.0074      1.0751      1.1028      1.0086      1.0619      1.0851]\n",
      "\u001b[34m\u001b[1mtrain: \u001b[0mWARNING ⚠️ /home/dfrobot/yolo/hand/Hand/kaggle/add_dataset1/images/train/833.jpg: ignoring corrupt image/label: negative label values [  -0.069722   -0.014704]\n",
      "\u001b[34m\u001b[1mtrain: \u001b[0mWARNING ⚠️ /home/dfrobot/yolo/hand/Hand/kaggle/add_dataset1/images/train/8330.jpg: ignoring corrupt image/label: non-normalized or out of bounds coordinates [      1.017      1.0592      1.0554      1.0833      1.0496       1.077      1.0281      1.0477      1.0008]\n",
      "\u001b[34m\u001b[1mtrain: \u001b[0mWARNING ⚠️ /home/dfrobot/yolo/hand/Hand/kaggle/add_dataset1/images/train/8331.jpg: ignoring corrupt image/label: non-normalized or out of bounds coordinates [     1.0064      1.0108      1.0619      1.0668      1.1203      1.0044      1.0792      1.1172      1.0106      1.0662      1.0955]\n",
      "\u001b[34m\u001b[1mtrain: \u001b[0mWARNING ⚠️ /home/dfrobot/yolo/hand/Hand/kaggle/add_dataset1/images/train/8332.jpg: ignoring corrupt image/label: non-normalized or out of bounds coordinates [     1.0347      1.0729      1.1203      1.0726      1.1162      1.0533      1.0864      1.0133      1.0405]\n",
      "\u001b[34m\u001b[1mtrain: \u001b[0mWARNING ⚠️ /home/dfrobot/yolo/hand/Hand/kaggle/add_dataset1/images/train/8333.jpg: ignoring corrupt image/label: non-normalized or out of bounds coordinates [     1.0174      1.0359      1.1066      1.0626      1.1371      1.0518      1.1217      1.0092       1.068]\n",
      "\u001b[34m\u001b[1mtrain: \u001b[0mWARNING ⚠️ /home/dfrobot/yolo/hand/Hand/kaggle/add_dataset1/images/train/8334.jpg: ignoring corrupt image/label: non-normalized or out of bounds coordinates [     1.0025]\n",
      "\u001b[34m\u001b[1mtrain: \u001b[0mWARNING ⚠️ /home/dfrobot/yolo/hand/Hand/kaggle/add_dataset1/images/train/834.jpg: ignoring corrupt image/label: negative label values [  -0.075173  -0.0034091]\n",
      "\u001b[34m\u001b[1mtrain: \u001b[0mWARNING ⚠️ /home/dfrobot/yolo/hand/Hand/kaggle/add_dataset1/images/train/835.jpg: ignoring corrupt image/label: negative label values [   -0.06019]\n",
      "\u001b[34m\u001b[1mtrain: \u001b[0mWARNING ⚠️ /home/dfrobot/yolo/hand/Hand/kaggle/add_dataset1/images/train/836.jpg: ignoring corrupt image/label: negative label values [  -0.063237]\n",
      "\u001b[34m\u001b[1mtrain: \u001b[0mWARNING ⚠️ /home/dfrobot/yolo/hand/Hand/kaggle/add_dataset1/images/train/837.jpg: ignoring corrupt image/label: negative label values [  -0.057402]\n",
      "\u001b[34m\u001b[1mtrain: \u001b[0mWARNING ⚠️ /home/dfrobot/yolo/hand/Hand/kaggle/add_dataset1/images/train/838.jpg: ignoring corrupt image/label: negative label values [  -0.058766]\n",
      "\u001b[34m\u001b[1mtrain: \u001b[0mWARNING ⚠️ /home/dfrobot/yolo/hand/Hand/kaggle/add_dataset1/images/train/839.jpg: ignoring corrupt image/label: negative label values [  -0.055215]\n",
      "\u001b[34m\u001b[1mtrain: \u001b[0mWARNING ⚠️ /home/dfrobot/yolo/hand/Hand/kaggle/add_dataset1/images/train/840.jpg: ignoring corrupt image/label: negative label values [  -0.047812]\n",
      "\u001b[34m\u001b[1mtrain: \u001b[0mWARNING ⚠️ /home/dfrobot/yolo/hand/Hand/kaggle/add_dataset1/images/train/841.jpg: ignoring corrupt image/label: negative label values [  -0.042738]\n",
      "\u001b[34m\u001b[1mtrain: \u001b[0mWARNING ⚠️ /home/dfrobot/yolo/hand/Hand/kaggle/add_dataset1/images/train/842.jpg: ignoring corrupt image/label: negative label values [  -0.034747]\n",
      "\u001b[34m\u001b[1mtrain: \u001b[0mWARNING ⚠️ /home/dfrobot/yolo/hand/Hand/kaggle/add_dataset1/images/train/843.jpg: ignoring corrupt image/label: negative label values [-0.00040716]\n",
      "\u001b[34m\u001b[1mtrain: \u001b[0mWARNING ⚠️ /home/dfrobot/yolo/hand/Hand/kaggle/add_dataset1/images/train/844.jpg: ignoring corrupt image/label: negative label values [ -0.0039183]\n",
      "\u001b[34m\u001b[1mtrain: \u001b[0mWARNING ⚠️ /home/dfrobot/yolo/hand/Hand/kaggle/add_dataset1/images/train/9193.jpg: ignoring corrupt image/label: non-normalized or out of bounds coordinates [     1.0112]\n",
      "\u001b[34m\u001b[1mtrain: \u001b[0mWARNING ⚠️ /home/dfrobot/yolo/hand/Hand/kaggle/add_dataset1/images/train/9194.jpg: ignoring corrupt image/label: non-normalized or out of bounds coordinates [     1.0133]\n",
      "\u001b[34m\u001b[1mtrain: \u001b[0mWARNING ⚠️ /home/dfrobot/yolo/hand/Hand/kaggle/add_dataset1/images/train/9195.jpg: ignoring corrupt image/label: non-normalized or out of bounds coordinates [     1.0395]\n",
      "\u001b[34m\u001b[1mtrain: \u001b[0mWARNING ⚠️ /home/dfrobot/yolo/hand/Hand/kaggle/add_dataset1/images/train/9196.jpg: ignoring corrupt image/label: non-normalized or out of bounds coordinates [     1.0434]\n",
      "\u001b[34m\u001b[1mtrain: \u001b[0mWARNING ⚠️ /home/dfrobot/yolo/hand/Hand/kaggle/add_dataset1/images/train/9197.jpg: ignoring corrupt image/label: non-normalized or out of bounds coordinates [     1.0374]\n",
      "\u001b[34m\u001b[1mtrain: \u001b[0mWARNING ⚠️ /home/dfrobot/yolo/hand/Hand/kaggle/add_dataset1/images/train/9198.jpg: ignoring corrupt image/label: non-normalized or out of bounds coordinates [     1.0257]\n",
      "\u001b[34m\u001b[1mtrain: \u001b[0mWARNING ⚠️ /home/dfrobot/yolo/hand/Hand/kaggle/add_dataset1/images/train/9199.jpg: ignoring corrupt image/label: non-normalized or out of bounds coordinates [     1.0155]\n",
      "\u001b[34m\u001b[1mtrain: \u001b[0mWARNING ⚠️ /home/dfrobot/yolo/hand/Hand/kaggle/add_dataset1/images/train/9200.jpg: ignoring corrupt image/label: non-normalized or out of bounds coordinates [     1.0097]\n",
      "\u001b[34m\u001b[1mtrain: \u001b[0mWARNING ⚠️ /home/dfrobot/yolo/hand/Hand/kaggle/add_dataset1/images/train/974.jpg: ignoring corrupt image/label: negative label values [  -0.034398]\n",
      "\u001b[34m\u001b[1mtrain: \u001b[0mWARNING ⚠️ /home/dfrobot/yolo/hand/Hand/kaggle/add_dataset1/images/train/975.jpg: ignoring corrupt image/label: negative label values [  -0.057805]\n",
      "\u001b[34m\u001b[1mtrain: \u001b[0mWARNING ⚠️ /home/dfrobot/yolo/hand/Hand/kaggle/add_dataset1/images/train/976.jpg: ignoring corrupt image/label: negative label values [  -0.062617]\n",
      "\u001b[34m\u001b[1mtrain: \u001b[0mWARNING ⚠️ /home/dfrobot/yolo/hand/Hand/kaggle/add_dataset1/images/train/977.jpg: ignoring corrupt image/label: negative label values [  -0.048507]\n",
      "\u001b[34m\u001b[1mtrain: \u001b[0mWARNING ⚠️ /home/dfrobot/yolo/hand/Hand/kaggle/add_dataset1/images/train/978.jpg: ignoring corrupt image/label: negative label values [  -0.058037]\n",
      "\u001b[34m\u001b[1mtrain: \u001b[0mWARNING ⚠️ /home/dfrobot/yolo/hand/Hand/kaggle/add_dataset1/images/train/979.jpg: ignoring corrupt image/label: negative label values [  -0.086493]\n",
      "\u001b[34m\u001b[1mtrain: \u001b[0mWARNING ⚠️ /home/dfrobot/yolo/hand/Hand/kaggle/add_dataset1/images/train/980.jpg: ignoring corrupt image/label: negative label values [ -0.0012535   -0.062246]\n",
      "\u001b[34m\u001b[1mtrain: \u001b[0mWARNING ⚠️ /home/dfrobot/yolo/hand/Hand/kaggle/add_dataset1/images/train/981.jpg: ignoring corrupt image/label: negative label values [  -0.021823    -0.10042]\n",
      "\u001b[34m\u001b[1mtrain: \u001b[0mWARNING ⚠️ /home/dfrobot/yolo/hand/Hand/kaggle/add_dataset1/images/train/982.jpg: ignoring corrupt image/label: non-normalized or out of bounds coordinates [     1.0025]\n",
      "\u001b[34m\u001b[1mtrain: \u001b[0mWARNING ⚠️ /home/dfrobot/yolo/hand/Hand/kaggle/add_dataset1/images/train/983.jpg: ignoring corrupt image/label: non-normalized or out of bounds coordinates [     1.0063]\n",
      "\u001b[34m\u001b[1mtrain: \u001b[0mWARNING ⚠️ /home/dfrobot/yolo/hand/Hand/kaggle/add_dataset1/images/train/984.jpg: ignoring corrupt image/label: non-normalized or out of bounds coordinates [     1.0056]\n",
      "\u001b[34m\u001b[1mtrain: \u001b[0mWARNING ⚠️ /home/dfrobot/yolo/hand/Hand/kaggle/add_dataset1/images/train/985.jpg: ignoring corrupt image/label: non-normalized or out of bounds coordinates [     1.0032]\n",
      "\u001b[34m\u001b[1mtrain: \u001b[0mWARNING ⚠️ /home/dfrobot/yolo/hand/Hand/kaggle/add_dataset1/images/train/986.jpg: ignoring corrupt image/label: non-normalized or out of bounds coordinates [     1.0133]\n",
      "\u001b[34m\u001b[1mtrain: \u001b[0mWARNING ⚠️ /home/dfrobot/yolo/hand/Hand/kaggle/add_dataset1/images/train/987.jpg: ignoring corrupt image/label: non-normalized or out of bounds coordinates [     1.0057]\n",
      "\u001b[34m\u001b[1mtrain: \u001b[0mWARNING ⚠️ /home/dfrobot/yolo/hand/Hand/kaggle/add_dataset1/images/train/988.jpg: ignoring corrupt image/label: non-normalized or out of bounds coordinates [     1.0074]\n",
      "\u001b[34m\u001b[1mtrain: \u001b[0mWARNING ⚠️ /home/dfrobot/yolo/hand/Hand/kaggle/add_dataset1/images/train/989.jpg: ignoring corrupt image/label: non-normalized or out of bounds coordinates [     1.0272]\n",
      "\u001b[34m\u001b[1mtrain: \u001b[0mWARNING ⚠️ /home/dfrobot/yolo/hand/Hand/kaggle/add_dataset1/images/train/990.jpg: ignoring corrupt image/label: non-normalized or out of bounds coordinates [     1.0241]\n",
      "\u001b[34m\u001b[1mtrain: \u001b[0mWARNING ⚠️ /home/dfrobot/yolo/hand/Hand/kaggle/add_dataset1/images/train/991.jpg: ignoring corrupt image/label: non-normalized or out of bounds coordinates [     1.0279]\n",
      "\u001b[34m\u001b[1mtrain: \u001b[0mWARNING ⚠️ /home/dfrobot/yolo/hand/Hand/kaggle/add_dataset1/images/train/992.jpg: ignoring corrupt image/label: non-normalized or out of bounds coordinates [     1.0339]\n",
      "\u001b[34m\u001b[1mtrain: \u001b[0mWARNING ⚠️ /home/dfrobot/yolo/hand/Hand/kaggle/add_dataset1/images/train/993.jpg: ignoring corrupt image/label: non-normalized or out of bounds coordinates [     1.0314]\n",
      "\u001b[34m\u001b[1mtrain: \u001b[0mWARNING ⚠️ /home/dfrobot/yolo/hand/Hand/kaggle/add_dataset1/images/train/994.jpg: ignoring corrupt image/label: non-normalized or out of bounds coordinates [     1.0299]\n",
      "\u001b[34m\u001b[1mtrain: \u001b[0mWARNING ⚠️ /home/dfrobot/yolo/hand/Hand/kaggle/add_dataset1/images/train/995.jpg: ignoring corrupt image/label: non-normalized or out of bounds coordinates [     1.0162]\n"
     ]
    },
    {
     "name": "stderr",
     "output_type": "stream",
     "text": [
      "\n",
      "\u001b[34m\u001b[1mval: \u001b[0mScanning /home/dfrobot/yolo/hand/Hand/kaggle/add_dataset1/labels/val.cache... 1015 images, 0 backgrounds, 13 corrupt: 100%|██████████| 1015/1015 [00:00<?, ?it/s]"
     ]
    },
    {
     "name": "stdout",
     "output_type": "stream",
     "text": [
      "\u001b[34m\u001b[1mval: \u001b[0mWARNING ⚠️ /home/dfrobot/yolo/hand/Hand/kaggle/add_dataset1/images/val/226.jpg: ignoring corrupt image/label: negative label values [ -0.0062002]\n",
      "\u001b[34m\u001b[1mval: \u001b[0mWARNING ⚠️ /home/dfrobot/yolo/hand/Hand/kaggle/add_dataset1/images/val/227.jpg: ignoring corrupt image/label: negative label values [  -0.023474]\n",
      "\u001b[34m\u001b[1mval: \u001b[0mWARNING ⚠️ /home/dfrobot/yolo/hand/Hand/kaggle/add_dataset1/images/val/230.jpg: ignoring corrupt image/label: negative label values [ -0.0047387]\n",
      "\u001b[34m\u001b[1mval: \u001b[0mWARNING ⚠️ /home/dfrobot/yolo/hand/Hand/kaggle/add_dataset1/images/val/231.jpg: ignoring corrupt image/label: negative label values [ -0.0052758]\n",
      "\u001b[34m\u001b[1mval: \u001b[0mWARNING ⚠️ /home/dfrobot/yolo/hand/Hand/kaggle/add_dataset1/images/val/468.jpg: ignoring corrupt image/label: negative label values [  -0.017628]\n",
      "\u001b[34m\u001b[1mval: \u001b[0mWARNING ⚠️ /home/dfrobot/yolo/hand/Hand/kaggle/add_dataset1/images/val/469.jpg: ignoring corrupt image/label: negative label values [  -0.026016]\n",
      "\u001b[34m\u001b[1mval: \u001b[0mWARNING ⚠️ /home/dfrobot/yolo/hand/Hand/kaggle/add_dataset1/images/val/470.jpg: ignoring corrupt image/label: negative label values [  -0.042626]\n",
      "\u001b[34m\u001b[1mval: \u001b[0mWARNING ⚠️ /home/dfrobot/yolo/hand/Hand/kaggle/add_dataset1/images/val/471.jpg: ignoring corrupt image/label: negative label values [  -0.040093]\n",
      "\u001b[34m\u001b[1mval: \u001b[0mWARNING ⚠️ /home/dfrobot/yolo/hand/Hand/kaggle/add_dataset1/images/val/472.jpg: ignoring corrupt image/label: negative label values [  -0.041614]\n",
      "\u001b[34m\u001b[1mval: \u001b[0mWARNING ⚠️ /home/dfrobot/yolo/hand/Hand/kaggle/add_dataset1/images/val/473.jpg: ignoring corrupt image/label: negative label values [  -0.027141]\n",
      "\u001b[34m\u001b[1mval: \u001b[0mWARNING ⚠️ /home/dfrobot/yolo/hand/Hand/kaggle/add_dataset1/images/val/474.jpg: ignoring corrupt image/label: negative label values [ -0.0096037]\n",
      "\u001b[34m\u001b[1mval: \u001b[0mWARNING ⚠️ /home/dfrobot/yolo/hand/Hand/kaggle/add_dataset1/images/val/476.jpg: ignoring corrupt image/label: negative label values [  -0.011167]\n",
      "\u001b[34m\u001b[1mval: \u001b[0mWARNING ⚠️ /home/dfrobot/yolo/hand/Hand/kaggle/add_dataset1/images/val/477.jpg: ignoring corrupt image/label: negative label values [  -0.012306]\n"
     ]
    },
    {
     "name": "stderr",
     "output_type": "stream",
     "text": [
      "\n"
     ]
    },
    {
     "name": "stdout",
     "output_type": "stream",
     "text": [
      "Plotting labels to runs/pose/train2/labels.jpg... \n",
      "\u001b[34m\u001b[1moptimizer:\u001b[0m 'optimizer=auto' found, ignoring 'lr0=0.01' and 'momentum=0.937' and determining best 'optimizer', 'lr0' and 'momentum' automatically... \n",
      "\u001b[34m\u001b[1moptimizer:\u001b[0m SGD(lr=0.01, momentum=0.9) with parameter groups 63 weight(decay=0.0), 73 weight(decay=0.0005), 72 bias(decay=0.0)\n",
      "Image sizes 640 train, 640 val\n",
      "Using 8 dataloader workers\n",
      "Logging results to \u001b[1mruns/pose/train2\u001b[0m\n",
      "Starting training for 200 epochs...\n",
      "\n",
      "      Epoch    GPU_mem   box_loss  pose_loss  kobj_loss   cls_loss   dfl_loss  Instances       Size\n"
     ]
    },
    {
     "name": "stderr",
     "output_type": "stream",
     "text": [
      "      1/200      2.36G     0.4342      8.373     0.6363     0.2578     0.8933         34        640: 100%|██████████| 657/657 [01:35<00:00,  6.85it/s]\n",
      "                 Class     Images  Instances      Box(P          R      mAP50  mAP50-95)     Pose(P          R      mAP50  mAP50-95): 100%|██████████| 32/32 [00:09<00:00,  3.42it/s]"
     ]
    },
    {
     "name": "stdout",
     "output_type": "stream",
     "text": [
      "                   all       1002       1002          1          1      0.995      0.906      0.662      0.651      0.692      0.214\n"
     ]
    },
    {
     "name": "stderr",
     "output_type": "stream",
     "text": [
      "\n"
     ]
    },
    {
     "name": "stdout",
     "output_type": "stream",
     "text": [
      "\n",
      "      Epoch    GPU_mem   box_loss  pose_loss  kobj_loss   cls_loss   dfl_loss  Instances       Size\n"
     ]
    },
    {
     "name": "stderr",
     "output_type": "stream",
     "text": [
      "      2/200      2.37G     0.4333       5.22     0.5842      0.259     0.8928         39        640: 100%|██████████| 657/657 [01:30<00:00,  7.28it/s]\n",
      "                 Class     Images  Instances      Box(P          R      mAP50  mAP50-95)     Pose(P          R      mAP50  mAP50-95): 100%|██████████| 32/32 [00:08<00:00,  3.85it/s]"
     ]
    },
    {
     "name": "stdout",
     "output_type": "stream",
     "text": [
      "                   all       1002       1002          1          1      0.995      0.905       0.85      0.849      0.838      0.315\n"
     ]
    },
    {
     "name": "stderr",
     "output_type": "stream",
     "text": [
      "\n"
     ]
    },
    {
     "name": "stdout",
     "output_type": "stream",
     "text": [
      "\n",
      "      Epoch    GPU_mem   box_loss  pose_loss  kobj_loss   cls_loss   dfl_loss  Instances       Size\n"
     ]
    },
    {
     "name": "stderr",
     "output_type": "stream",
     "text": [
      "      3/200      2.37G     0.4539      4.176     0.5675     0.2722     0.8981         30        640: 100%|██████████| 657/657 [01:23<00:00,  7.87it/s]\n",
      "                 Class     Images  Instances      Box(P          R      mAP50  mAP50-95)     Pose(P          R      mAP50  mAP50-95): 100%|██████████| 32/32 [00:08<00:00,  3.82it/s]"
     ]
    },
    {
     "name": "stdout",
     "output_type": "stream",
     "text": [
      "                   all       1002       1002          1          1      0.995      0.899      0.914      0.913      0.916      0.412\n"
     ]
    },
    {
     "name": "stderr",
     "output_type": "stream",
     "text": [
      "\n"
     ]
    },
    {
     "name": "stdout",
     "output_type": "stream",
     "text": [
      "\n",
      "      Epoch    GPU_mem   box_loss  pose_loss  kobj_loss   cls_loss   dfl_loss  Instances       Size\n"
     ]
    },
    {
     "name": "stderr",
     "output_type": "stream",
     "text": [
      "      4/200      2.37G      0.491      3.657     0.5535     0.2958     0.9069         24        640: 100%|██████████| 657/657 [01:21<00:00,  8.05it/s]\n",
      "                 Class     Images  Instances      Box(P          R      mAP50  mAP50-95)     Pose(P          R      mAP50  mAP50-95): 100%|██████████| 32/32 [00:09<00:00,  3.22it/s]"
     ]
    },
    {
     "name": "stdout",
     "output_type": "stream",
     "text": [
      "                   all       1002       1002          1          1      0.995      0.897      0.948      0.948      0.959      0.524\n"
     ]
    },
    {
     "name": "stderr",
     "output_type": "stream",
     "text": [
      "\n"
     ]
    },
    {
     "name": "stdout",
     "output_type": "stream",
     "text": [
      "\n",
      "      Epoch    GPU_mem   box_loss  pose_loss  kobj_loss   cls_loss   dfl_loss  Instances       Size\n"
     ]
    },
    {
     "name": "stderr",
     "output_type": "stream",
     "text": [
      "      5/200      2.37G     0.5115      3.379      0.532     0.3059     0.9123         35        640: 100%|██████████| 657/657 [01:28<00:00,  7.44it/s]\n",
      "                 Class     Images  Instances      Box(P          R      mAP50  mAP50-95)     Pose(P          R      mAP50  mAP50-95): 100%|██████████| 32/32 [00:08<00:00,  3.80it/s]"
     ]
    },
    {
     "name": "stdout",
     "output_type": "stream",
     "text": [
      "                   all       1002       1002          1          1      0.995      0.891      0.924      0.924      0.915      0.501\n"
     ]
    },
    {
     "name": "stderr",
     "output_type": "stream",
     "text": [
      "\n"
     ]
    },
    {
     "name": "stdout",
     "output_type": "stream",
     "text": [
      "\n",
      "      Epoch    GPU_mem   box_loss  pose_loss  kobj_loss   cls_loss   dfl_loss  Instances       Size\n"
     ]
    },
    {
     "name": "stderr",
     "output_type": "stream",
     "text": [
      "      6/200      2.37G      0.521      3.239     0.4954     0.3121     0.9143         25        640: 100%|██████████| 657/657 [01:21<00:00,  8.05it/s]\n",
      "                 Class     Images  Instances      Box(P          R      mAP50  mAP50-95)     Pose(P          R      mAP50  mAP50-95): 100%|██████████| 32/32 [00:08<00:00,  3.74it/s]"
     ]
    },
    {
     "name": "stdout",
     "output_type": "stream",
     "text": [
      "                   all       1002       1002          1          1      0.995      0.898      0.954      0.954       0.97      0.585\n"
     ]
    },
    {
     "name": "stderr",
     "output_type": "stream",
     "text": [
      "\n"
     ]
    },
    {
     "name": "stdout",
     "output_type": "stream",
     "text": [
      "\n",
      "      Epoch    GPU_mem   box_loss  pose_loss  kobj_loss   cls_loss   dfl_loss  Instances       Size\n"
     ]
    },
    {
     "name": "stderr",
     "output_type": "stream",
     "text": [
      "      7/200      2.37G     0.5395      3.237     0.4513     0.3233     0.9204         26        640: 100%|██████████| 657/657 [01:23<00:00,  7.90it/s]\n",
      "                 Class     Images  Instances      Box(P          R      mAP50  mAP50-95)     Pose(P          R      mAP50  mAP50-95): 100%|██████████| 32/32 [00:08<00:00,  3.74it/s]"
     ]
    },
    {
     "name": "stdout",
     "output_type": "stream",
     "text": [
      "                   all       1002       1002          1          1      0.995       0.91       0.93       0.93      0.953      0.587\n"
     ]
    },
    {
     "name": "stderr",
     "output_type": "stream",
     "text": [
      "\n"
     ]
    },
    {
     "name": "stdout",
     "output_type": "stream",
     "text": [
      "\n",
      "      Epoch    GPU_mem   box_loss  pose_loss  kobj_loss   cls_loss   dfl_loss  Instances       Size\n"
     ]
    },
    {
     "name": "stderr",
     "output_type": "stream",
     "text": [
      "      8/200      2.37G     0.5366      3.143     0.4089     0.3202     0.9175         27        640: 100%|██████████| 657/657 [01:22<00:00,  7.94it/s]\n",
      "                 Class     Images  Instances      Box(P          R      mAP50  mAP50-95)     Pose(P          R      mAP50  mAP50-95): 100%|██████████| 32/32 [00:08<00:00,  3.73it/s]"
     ]
    },
    {
     "name": "stdout",
     "output_type": "stream",
     "text": [
      "                   all       1002       1002          1          1      0.995      0.896      0.948      0.948      0.963      0.597\n"
     ]
    },
    {
     "name": "stderr",
     "output_type": "stream",
     "text": [
      "\n"
     ]
    },
    {
     "name": "stdout",
     "output_type": "stream",
     "text": [
      "\n",
      "      Epoch    GPU_mem   box_loss  pose_loss  kobj_loss   cls_loss   dfl_loss  Instances       Size\n"
     ]
    },
    {
     "name": "stderr",
     "output_type": "stream",
     "text": [
      "      9/200      2.37G     0.5373      3.096     0.3824     0.3181     0.9207         30        640: 100%|██████████| 657/657 [01:28<00:00,  7.46it/s]\n",
      "                 Class     Images  Instances      Box(P          R      mAP50  mAP50-95)     Pose(P          R      mAP50  mAP50-95): 100%|██████████| 32/32 [00:12<00:00,  2.52it/s]"
     ]
    },
    {
     "name": "stdout",
     "output_type": "stream",
     "text": [
      "                   all       1002       1002          1          1      0.995      0.906       0.94      0.932      0.945      0.619\n"
     ]
    },
    {
     "name": "stderr",
     "output_type": "stream",
     "text": [
      "\n"
     ]
    },
    {
     "name": "stdout",
     "output_type": "stream",
     "text": [
      "\n",
      "      Epoch    GPU_mem   box_loss  pose_loss  kobj_loss   cls_loss   dfl_loss  Instances       Size\n"
     ]
    },
    {
     "name": "stderr",
     "output_type": "stream",
     "text": [
      "     10/200      2.37G     0.5335      3.022     0.3654      0.318     0.9191         27        640: 100%|██████████| 657/657 [01:42<00:00,  6.41it/s]\n",
      "                 Class     Images  Instances      Box(P          R      mAP50  mAP50-95)     Pose(P          R      mAP50  mAP50-95): 100%|██████████| 32/32 [00:11<00:00,  2.68it/s]"
     ]
    },
    {
     "name": "stdout",
     "output_type": "stream",
     "text": [
      "                   all       1002       1002      0.999      0.999      0.995       0.89      0.965      0.953      0.974      0.565\n"
     ]
    },
    {
     "name": "stderr",
     "output_type": "stream",
     "text": [
      "\n"
     ]
    },
    {
     "name": "stdout",
     "output_type": "stream",
     "text": [
      "\n",
      "      Epoch    GPU_mem   box_loss  pose_loss  kobj_loss   cls_loss   dfl_loss  Instances       Size\n"
     ]
    },
    {
     "name": "stderr",
     "output_type": "stream",
     "text": [
      "     11/200      2.37G     0.5326      2.962     0.3475     0.3172     0.9173         30        640: 100%|██████████| 657/657 [01:28<00:00,  7.46it/s]\n",
      "                 Class     Images  Instances      Box(P          R      mAP50  mAP50-95)     Pose(P          R      mAP50  mAP50-95): 100%|██████████| 32/32 [00:08<00:00,  3.79it/s]"
     ]
    },
    {
     "name": "stdout",
     "output_type": "stream",
     "text": [
      "                   all       1002       1002          1          1      0.995      0.879      0.933      0.933      0.937      0.575\n"
     ]
    },
    {
     "name": "stderr",
     "output_type": "stream",
     "text": [
      "\n"
     ]
    },
    {
     "name": "stdout",
     "output_type": "stream",
     "text": [
      "\n",
      "      Epoch    GPU_mem   box_loss  pose_loss  kobj_loss   cls_loss   dfl_loss  Instances       Size\n"
     ]
    },
    {
     "name": "stderr",
     "output_type": "stream",
     "text": [
      "     12/200      2.37G     0.5402      2.977       0.34     0.3198     0.9184         31        640: 100%|██████████| 657/657 [01:21<00:00,  8.02it/s]\n",
      "                 Class     Images  Instances      Box(P          R      mAP50  mAP50-95)     Pose(P          R      mAP50  mAP50-95): 100%|██████████| 32/32 [00:08<00:00,  3.83it/s]"
     ]
    },
    {
     "name": "stdout",
     "output_type": "stream",
     "text": [
      "                   all       1002       1002          1          1      0.995      0.904      0.924      0.924      0.948      0.617\n"
     ]
    },
    {
     "name": "stderr",
     "output_type": "stream",
     "text": [
      "\n"
     ]
    },
    {
     "name": "stdout",
     "output_type": "stream",
     "text": [
      "\n",
      "      Epoch    GPU_mem   box_loss  pose_loss  kobj_loss   cls_loss   dfl_loss  Instances       Size\n"
     ]
    },
    {
     "name": "stderr",
     "output_type": "stream",
     "text": [
      "     13/200      2.37G      0.537      2.934     0.3342     0.3212     0.9198         29        640: 100%|██████████| 657/657 [01:20<00:00,  8.11it/s]\n",
      "                 Class     Images  Instances      Box(P          R      mAP50  mAP50-95)     Pose(P          R      mAP50  mAP50-95): 100%|██████████| 32/32 [00:08<00:00,  3.85it/s]"
     ]
    },
    {
     "name": "stdout",
     "output_type": "stream",
     "text": [
      "                   all       1002       1002          1          1      0.995      0.899       0.94      0.936      0.948      0.577\n"
     ]
    },
    {
     "name": "stderr",
     "output_type": "stream",
     "text": [
      "\n"
     ]
    },
    {
     "name": "stdout",
     "output_type": "stream",
     "text": [
      "\n",
      "      Epoch    GPU_mem   box_loss  pose_loss  kobj_loss   cls_loss   dfl_loss  Instances       Size\n"
     ]
    },
    {
     "name": "stderr",
     "output_type": "stream",
     "text": [
      "     14/200      2.37G     0.5389      2.875     0.3285     0.3203     0.9205         31        640: 100%|██████████| 657/657 [01:19<00:00,  8.24it/s]\n",
      "                 Class     Images  Instances      Box(P          R      mAP50  mAP50-95)     Pose(P          R      mAP50  mAP50-95): 100%|██████████| 32/32 [00:08<00:00,  3.96it/s]"
     ]
    },
    {
     "name": "stdout",
     "output_type": "stream",
     "text": [
      "                   all       1002       1002          1          1      0.995      0.894      0.936      0.936      0.951      0.578\n"
     ]
    },
    {
     "name": "stderr",
     "output_type": "stream",
     "text": [
      "\n"
     ]
    },
    {
     "name": "stdout",
     "output_type": "stream",
     "text": [
      "\n",
      "      Epoch    GPU_mem   box_loss  pose_loss  kobj_loss   cls_loss   dfl_loss  Instances       Size\n"
     ]
    },
    {
     "name": "stderr",
     "output_type": "stream",
     "text": [
      "     15/200      2.37G     0.5424      2.896     0.3253     0.3209     0.9204         28        640: 100%|██████████| 657/657 [01:21<00:00,  8.08it/s]\n",
      "                 Class     Images  Instances      Box(P          R      mAP50  mAP50-95)     Pose(P          R      mAP50  mAP50-95): 100%|██████████| 32/32 [00:08<00:00,  3.70it/s]"
     ]
    },
    {
     "name": "stdout",
     "output_type": "stream",
     "text": [
      "                   all       1002       1002          1          1      0.995      0.901       0.96       0.96      0.972      0.613\n"
     ]
    },
    {
     "name": "stderr",
     "output_type": "stream",
     "text": [
      "\n"
     ]
    },
    {
     "name": "stdout",
     "output_type": "stream",
     "text": [
      "\n",
      "      Epoch    GPU_mem   box_loss  pose_loss  kobj_loss   cls_loss   dfl_loss  Instances       Size\n"
     ]
    },
    {
     "name": "stderr",
     "output_type": "stream",
     "text": [
      "     16/200      2.37G     0.5501      2.882     0.3183     0.3241     0.9228         23        640: 100%|██████████| 657/657 [01:31<00:00,  7.18it/s]\n",
      "                 Class     Images  Instances      Box(P          R      mAP50  mAP50-95)     Pose(P          R      mAP50  mAP50-95): 100%|██████████| 32/32 [00:09<00:00,  3.41it/s]"
     ]
    },
    {
     "name": "stdout",
     "output_type": "stream",
     "text": [
      "                   all       1002       1002          1          1      0.995      0.883      0.973      0.973      0.973      0.592\n"
     ]
    },
    {
     "name": "stderr",
     "output_type": "stream",
     "text": [
      "\n"
     ]
    },
    {
     "name": "stdout",
     "output_type": "stream",
     "text": [
      "\n",
      "      Epoch    GPU_mem   box_loss  pose_loss  kobj_loss   cls_loss   dfl_loss  Instances       Size\n"
     ]
    },
    {
     "name": "stderr",
     "output_type": "stream",
     "text": [
      "     17/200      2.37G     0.5481      2.874     0.3175      0.324     0.9243         28        640: 100%|██████████| 657/657 [01:32<00:00,  7.09it/s]\n",
      "                 Class     Images  Instances      Box(P          R      mAP50  mAP50-95)     Pose(P          R      mAP50  mAP50-95): 100%|██████████| 32/32 [00:10<00:00,  3.13it/s]"
     ]
    },
    {
     "name": "stdout",
     "output_type": "stream",
     "text": [
      "                   all       1002       1002          1          1      0.995      0.887      0.918      0.918        0.9      0.564\n"
     ]
    },
    {
     "name": "stderr",
     "output_type": "stream",
     "text": [
      "\n"
     ]
    },
    {
     "name": "stdout",
     "output_type": "stream",
     "text": [
      "\n",
      "      Epoch    GPU_mem   box_loss  pose_loss  kobj_loss   cls_loss   dfl_loss  Instances       Size\n"
     ]
    },
    {
     "name": "stderr",
     "output_type": "stream",
     "text": [
      "     18/200      2.37G     0.5455      2.844      0.315     0.3224     0.9236         34        640: 100%|██████████| 657/657 [01:35<00:00,  6.89it/s]\n",
      "                 Class     Images  Instances      Box(P          R      mAP50  mAP50-95)     Pose(P          R      mAP50  mAP50-95): 100%|██████████| 32/32 [00:09<00:00,  3.23it/s]"
     ]
    },
    {
     "name": "stdout",
     "output_type": "stream",
     "text": [
      "                   all       1002       1002          1          1      0.995      0.906      0.948      0.948      0.932      0.556\n"
     ]
    },
    {
     "name": "stderr",
     "output_type": "stream",
     "text": [
      "\n"
     ]
    },
    {
     "name": "stdout",
     "output_type": "stream",
     "text": [
      "\n",
      "      Epoch    GPU_mem   box_loss  pose_loss  kobj_loss   cls_loss   dfl_loss  Instances       Size\n"
     ]
    },
    {
     "name": "stderr",
     "output_type": "stream",
     "text": [
      "     19/200      2.37G      0.546      2.829     0.3107      0.326     0.9231         24        640: 100%|██████████| 657/657 [01:30<00:00,  7.23it/s]\n",
      "                 Class     Images  Instances      Box(P          R      mAP50  mAP50-95)     Pose(P          R      mAP50  mAP50-95): 100%|██████████| 32/32 [00:09<00:00,  3.40it/s]"
     ]
    },
    {
     "name": "stdout",
     "output_type": "stream",
     "text": [
      "                   all       1002       1002          1          1      0.995      0.901      0.966      0.966      0.968      0.606\n"
     ]
    },
    {
     "name": "stderr",
     "output_type": "stream",
     "text": [
      "\n"
     ]
    },
    {
     "name": "stdout",
     "output_type": "stream",
     "text": [
      "\n",
      "      Epoch    GPU_mem   box_loss  pose_loss  kobj_loss   cls_loss   dfl_loss  Instances       Size\n"
     ]
    },
    {
     "name": "stderr",
     "output_type": "stream",
     "text": [
      "     20/200      2.37G     0.5425      2.772     0.3089     0.3196     0.9207         30        640: 100%|██████████| 657/657 [01:29<00:00,  7.32it/s]\n",
      "                 Class     Images  Instances      Box(P          R      mAP50  mAP50-95)     Pose(P          R      mAP50  mAP50-95): 100%|██████████| 32/32 [00:09<00:00,  3.43it/s]"
     ]
    },
    {
     "name": "stdout",
     "output_type": "stream",
     "text": [
      "                   all       1002       1002          1          1      0.995      0.897      0.953      0.953      0.941      0.601\n"
     ]
    },
    {
     "name": "stderr",
     "output_type": "stream",
     "text": [
      "\n"
     ]
    },
    {
     "name": "stdout",
     "output_type": "stream",
     "text": [
      "\n",
      "      Epoch    GPU_mem   box_loss  pose_loss  kobj_loss   cls_loss   dfl_loss  Instances       Size\n"
     ]
    },
    {
     "name": "stderr",
     "output_type": "stream",
     "text": [
      "     21/200      2.37G     0.5318      2.747     0.3046     0.3165     0.9178         30        640: 100%|██████████| 657/657 [01:29<00:00,  7.30it/s]\n",
      "                 Class     Images  Instances      Box(P          R      mAP50  mAP50-95)     Pose(P          R      mAP50  mAP50-95): 100%|██████████| 32/32 [00:09<00:00,  3.36it/s]"
     ]
    },
    {
     "name": "stdout",
     "output_type": "stream",
     "text": [
      "                   all       1002       1002          1          1      0.995      0.906      0.954      0.954      0.951      0.616\n"
     ]
    },
    {
     "name": "stderr",
     "output_type": "stream",
     "text": [
      "\n"
     ]
    },
    {
     "name": "stdout",
     "output_type": "stream",
     "text": [
      "\n",
      "      Epoch    GPU_mem   box_loss  pose_loss  kobj_loss   cls_loss   dfl_loss  Instances       Size\n"
     ]
    },
    {
     "name": "stderr",
     "output_type": "stream",
     "text": [
      "     22/200      2.37G     0.5374       2.76     0.3046     0.3187     0.9192         23        640: 100%|██████████| 657/657 [01:31<00:00,  7.21it/s]\n",
      "                 Class     Images  Instances      Box(P          R      mAP50  mAP50-95)     Pose(P          R      mAP50  mAP50-95): 100%|██████████| 32/32 [00:09<00:00,  3.35it/s]"
     ]
    },
    {
     "name": "stdout",
     "output_type": "stream",
     "text": [
      "                   all       1002       1002          1          1      0.995       0.91      0.941      0.941      0.953      0.635\n"
     ]
    },
    {
     "name": "stderr",
     "output_type": "stream",
     "text": [
      "\n"
     ]
    },
    {
     "name": "stdout",
     "output_type": "stream",
     "text": [
      "\n",
      "      Epoch    GPU_mem   box_loss  pose_loss  kobj_loss   cls_loss   dfl_loss  Instances       Size\n"
     ]
    },
    {
     "name": "stderr",
     "output_type": "stream",
     "text": [
      "     23/200      2.37G     0.5351      2.733     0.3053     0.3168     0.9199         24        640: 100%|██████████| 657/657 [01:29<00:00,  7.33it/s]\n",
      "                 Class     Images  Instances      Box(P          R      mAP50  mAP50-95)     Pose(P          R      mAP50  mAP50-95): 100%|██████████| 32/32 [00:09<00:00,  3.39it/s]"
     ]
    },
    {
     "name": "stdout",
     "output_type": "stream",
     "text": [
      "                   all       1002       1002          1          1      0.995      0.884      0.937      0.937      0.952      0.628\n"
     ]
    },
    {
     "name": "stderr",
     "output_type": "stream",
     "text": [
      "\n"
     ]
    },
    {
     "name": "stdout",
     "output_type": "stream",
     "text": [
      "\n",
      "      Epoch    GPU_mem   box_loss  pose_loss  kobj_loss   cls_loss   dfl_loss  Instances       Size\n"
     ]
    },
    {
     "name": "stderr",
     "output_type": "stream",
     "text": [
      "     24/200      2.37G     0.5404      2.744     0.3018      0.321     0.9197         29        640: 100%|██████████| 657/657 [01:30<00:00,  7.28it/s]\n",
      "                 Class     Images  Instances      Box(P          R      mAP50  mAP50-95)     Pose(P          R      mAP50  mAP50-95): 100%|██████████| 32/32 [00:09<00:00,  3.44it/s]"
     ]
    },
    {
     "name": "stdout",
     "output_type": "stream",
     "text": [
      "                   all       1002       1002          1          1      0.995      0.905      0.952      0.952       0.96      0.646\n"
     ]
    },
    {
     "name": "stderr",
     "output_type": "stream",
     "text": [
      "\n"
     ]
    },
    {
     "name": "stdout",
     "output_type": "stream",
     "text": [
      "\n",
      "      Epoch    GPU_mem   box_loss  pose_loss  kobj_loss   cls_loss   dfl_loss  Instances       Size\n"
     ]
    },
    {
     "name": "stderr",
     "output_type": "stream",
     "text": [
      "     25/200      2.37G     0.5415      2.741     0.2985     0.3211     0.9222         27        640: 100%|██████████| 657/657 [01:31<00:00,  7.19it/s]\n",
      "                 Class     Images  Instances      Box(P          R      mAP50  mAP50-95)     Pose(P          R      mAP50  mAP50-95): 100%|██████████| 32/32 [00:09<00:00,  3.42it/s]"
     ]
    },
    {
     "name": "stdout",
     "output_type": "stream",
     "text": [
      "                   all       1002       1002          1          1      0.995      0.904      0.973      0.973      0.983      0.664\n"
     ]
    },
    {
     "name": "stderr",
     "output_type": "stream",
     "text": [
      "\n"
     ]
    },
    {
     "name": "stdout",
     "output_type": "stream",
     "text": [
      "\n",
      "      Epoch    GPU_mem   box_loss  pose_loss  kobj_loss   cls_loss   dfl_loss  Instances       Size\n"
     ]
    },
    {
     "name": "stderr",
     "output_type": "stream",
     "text": [
      "     26/200      2.37G      0.535      2.684     0.3003     0.3165     0.9188         32        640: 100%|██████████| 657/657 [01:29<00:00,  7.37it/s]\n",
      "                 Class     Images  Instances      Box(P          R      mAP50  mAP50-95)     Pose(P          R      mAP50  mAP50-95): 100%|██████████| 32/32 [00:09<00:00,  3.50it/s]"
     ]
    },
    {
     "name": "stdout",
     "output_type": "stream",
     "text": [
      "                   all       1002       1002          1          1      0.995      0.905       0.94       0.94      0.954      0.655\n"
     ]
    },
    {
     "name": "stderr",
     "output_type": "stream",
     "text": [
      "\n"
     ]
    },
    {
     "name": "stdout",
     "output_type": "stream",
     "text": [
      "\n",
      "      Epoch    GPU_mem   box_loss  pose_loss  kobj_loss   cls_loss   dfl_loss  Instances       Size\n"
     ]
    },
    {
     "name": "stderr",
     "output_type": "stream",
     "text": [
      "     27/200      2.37G     0.5352      2.698     0.2995     0.3145      0.919         32        640: 100%|██████████| 657/657 [01:31<00:00,  7.18it/s]\n",
      "                 Class     Images  Instances      Box(P          R      mAP50  mAP50-95)     Pose(P          R      mAP50  mAP50-95): 100%|██████████| 32/32 [00:09<00:00,  3.38it/s]"
     ]
    },
    {
     "name": "stdout",
     "output_type": "stream",
     "text": [
      "                   all       1002       1002          1          1      0.995      0.894      0.944      0.944      0.946      0.614\n"
     ]
    },
    {
     "name": "stderr",
     "output_type": "stream",
     "text": [
      "\n"
     ]
    },
    {
     "name": "stdout",
     "output_type": "stream",
     "text": [
      "\n",
      "      Epoch    GPU_mem   box_loss  pose_loss  kobj_loss   cls_loss   dfl_loss  Instances       Size\n"
     ]
    },
    {
     "name": "stderr",
     "output_type": "stream",
     "text": [
      "     28/200      2.37G     0.5373      2.682      0.298     0.3141     0.9185         19        640: 100%|██████████| 657/657 [01:31<00:00,  7.18it/s]\n",
      "                 Class     Images  Instances      Box(P          R      mAP50  mAP50-95)     Pose(P          R      mAP50  mAP50-95): 100%|██████████| 32/32 [00:09<00:00,  3.36it/s]"
     ]
    },
    {
     "name": "stdout",
     "output_type": "stream",
     "text": [
      "                   all       1002       1002          1          1      0.995        0.9      0.961      0.961      0.974      0.666\n"
     ]
    },
    {
     "name": "stderr",
     "output_type": "stream",
     "text": [
      "\n"
     ]
    },
    {
     "name": "stdout",
     "output_type": "stream",
     "text": [
      "\n",
      "      Epoch    GPU_mem   box_loss  pose_loss  kobj_loss   cls_loss   dfl_loss  Instances       Size\n"
     ]
    },
    {
     "name": "stderr",
     "output_type": "stream",
     "text": [
      "     29/200      2.37G     0.5336      2.646     0.2938     0.3145     0.9173         30        640: 100%|██████████| 657/657 [01:30<00:00,  7.28it/s]\n",
      "                 Class     Images  Instances      Box(P          R      mAP50  mAP50-95)     Pose(P          R      mAP50  mAP50-95): 100%|██████████| 32/32 [00:09<00:00,  3.40it/s]"
     ]
    },
    {
     "name": "stdout",
     "output_type": "stream",
     "text": [
      "                   all       1002       1002          1          1      0.995      0.907      0.955      0.955      0.962      0.651\n"
     ]
    },
    {
     "name": "stderr",
     "output_type": "stream",
     "text": [
      "\n"
     ]
    },
    {
     "name": "stdout",
     "output_type": "stream",
     "text": [
      "\n",
      "      Epoch    GPU_mem   box_loss  pose_loss  kobj_loss   cls_loss   dfl_loss  Instances       Size\n"
     ]
    },
    {
     "name": "stderr",
     "output_type": "stream",
     "text": [
      "     30/200      2.37G     0.5339      2.651     0.2933     0.3186     0.9176         36        640: 100%|██████████| 657/657 [01:31<00:00,  7.18it/s]\n",
      "                 Class     Images  Instances      Box(P          R      mAP50  mAP50-95)     Pose(P          R      mAP50  mAP50-95): 100%|██████████| 32/32 [00:09<00:00,  3.36it/s]"
     ]
    },
    {
     "name": "stdout",
     "output_type": "stream",
     "text": [
      "                   all       1002       1002          1          1      0.995      0.908      0.944      0.944      0.952      0.639\n"
     ]
    },
    {
     "name": "stderr",
     "output_type": "stream",
     "text": [
      "\n"
     ]
    },
    {
     "name": "stdout",
     "output_type": "stream",
     "text": [
      "\n",
      "      Epoch    GPU_mem   box_loss  pose_loss  kobj_loss   cls_loss   dfl_loss  Instances       Size\n"
     ]
    },
    {
     "name": "stderr",
     "output_type": "stream",
     "text": [
      "     31/200      2.37G     0.5326      2.658      0.293     0.3165     0.9192         34        640: 100%|██████████| 657/657 [01:31<00:00,  7.18it/s]\n",
      "                 Class     Images  Instances      Box(P          R      mAP50  mAP50-95)     Pose(P          R      mAP50  mAP50-95): 100%|██████████| 32/32 [00:09<00:00,  3.37it/s]"
     ]
    },
    {
     "name": "stdout",
     "output_type": "stream",
     "text": [
      "                   all       1002       1002          1          1      0.995      0.901       0.95       0.95      0.962      0.653\n"
     ]
    },
    {
     "name": "stderr",
     "output_type": "stream",
     "text": [
      "\n"
     ]
    },
    {
     "name": "stdout",
     "output_type": "stream",
     "text": [
      "\n",
      "      Epoch    GPU_mem   box_loss  pose_loss  kobj_loss   cls_loss   dfl_loss  Instances       Size\n"
     ]
    },
    {
     "name": "stderr",
     "output_type": "stream",
     "text": [
      "     32/200      2.37G     0.5295      2.614     0.2909     0.3146     0.9148         31        640: 100%|██████████| 657/657 [01:31<00:00,  7.19it/s]\n",
      "                 Class     Images  Instances      Box(P          R      mAP50  mAP50-95)     Pose(P          R      mAP50  mAP50-95): 100%|██████████| 32/32 [00:09<00:00,  3.38it/s]"
     ]
    },
    {
     "name": "stdout",
     "output_type": "stream",
     "text": [
      "                   all       1002       1002          1          1      0.995      0.909      0.954      0.954      0.967      0.646\n"
     ]
    },
    {
     "name": "stderr",
     "output_type": "stream",
     "text": [
      "\n"
     ]
    },
    {
     "name": "stdout",
     "output_type": "stream",
     "text": [
      "\n",
      "      Epoch    GPU_mem   box_loss  pose_loss  kobj_loss   cls_loss   dfl_loss  Instances       Size\n"
     ]
    },
    {
     "name": "stderr",
     "output_type": "stream",
     "text": [
      "     33/200      2.37G     0.5298      2.595     0.2902     0.3145     0.9154         27        640: 100%|██████████| 657/657 [01:29<00:00,  7.31it/s]\n",
      "                 Class     Images  Instances      Box(P          R      mAP50  mAP50-95)     Pose(P          R      mAP50  mAP50-95): 100%|██████████| 32/32 [00:09<00:00,  3.47it/s]"
     ]
    },
    {
     "name": "stdout",
     "output_type": "stream",
     "text": [
      "                   all       1002       1002          1          1      0.995      0.905      0.979      0.979      0.983      0.663\n"
     ]
    },
    {
     "name": "stderr",
     "output_type": "stream",
     "text": [
      "\n"
     ]
    },
    {
     "name": "stdout",
     "output_type": "stream",
     "text": [
      "\n",
      "      Epoch    GPU_mem   box_loss  pose_loss  kobj_loss   cls_loss   dfl_loss  Instances       Size\n"
     ]
    },
    {
     "name": "stderr",
     "output_type": "stream",
     "text": [
      "     34/200      2.37G     0.5251      2.579     0.2864     0.3116     0.9141         27        640: 100%|██████████| 657/657 [01:30<00:00,  7.30it/s]\n",
      "                 Class     Images  Instances      Box(P          R      mAP50  mAP50-95)     Pose(P          R      mAP50  mAP50-95): 100%|██████████| 32/32 [00:09<00:00,  3.37it/s]"
     ]
    },
    {
     "name": "stdout",
     "output_type": "stream",
     "text": [
      "                   all       1002       1002          1          1      0.995      0.906      0.972      0.972      0.979      0.672\n"
     ]
    },
    {
     "name": "stderr",
     "output_type": "stream",
     "text": [
      "\n"
     ]
    },
    {
     "name": "stdout",
     "output_type": "stream",
     "text": [
      "\n",
      "      Epoch    GPU_mem   box_loss  pose_loss  kobj_loss   cls_loss   dfl_loss  Instances       Size\n"
     ]
    },
    {
     "name": "stderr",
     "output_type": "stream",
     "text": [
      "     35/200      2.37G     0.5267       2.57     0.2874     0.3118     0.9171         24        640: 100%|██████████| 657/657 [01:29<00:00,  7.33it/s]\n",
      "                 Class     Images  Instances      Box(P          R      mAP50  mAP50-95)     Pose(P          R      mAP50  mAP50-95): 100%|██████████| 32/32 [00:09<00:00,  3.40it/s]"
     ]
    },
    {
     "name": "stdout",
     "output_type": "stream",
     "text": [
      "                   all       1002       1002          1          1      0.995      0.904      0.949      0.949      0.952      0.638\n"
     ]
    },
    {
     "name": "stderr",
     "output_type": "stream",
     "text": [
      "\n"
     ]
    },
    {
     "name": "stdout",
     "output_type": "stream",
     "text": [
      "\n",
      "      Epoch    GPU_mem   box_loss  pose_loss  kobj_loss   cls_loss   dfl_loss  Instances       Size\n"
     ]
    },
    {
     "name": "stderr",
     "output_type": "stream",
     "text": [
      "     36/200      2.37G     0.5294      2.567     0.2882     0.3148     0.9155         26        640: 100%|██████████| 657/657 [01:31<00:00,  7.18it/s]\n",
      "                 Class     Images  Instances      Box(P          R      mAP50  mAP50-95)     Pose(P          R      mAP50  mAP50-95): 100%|██████████| 32/32 [00:09<00:00,  3.34it/s]"
     ]
    },
    {
     "name": "stdout",
     "output_type": "stream",
     "text": [
      "                   all       1002       1002          1          1      0.995       0.91       0.96       0.96      0.963      0.665\n"
     ]
    },
    {
     "name": "stderr",
     "output_type": "stream",
     "text": [
      "\n"
     ]
    },
    {
     "name": "stdout",
     "output_type": "stream",
     "text": [
      "\n",
      "      Epoch    GPU_mem   box_loss  pose_loss  kobj_loss   cls_loss   dfl_loss  Instances       Size\n"
     ]
    },
    {
     "name": "stderr",
     "output_type": "stream",
     "text": [
      "     37/200      2.37G      0.522      2.537     0.2874     0.3084     0.9156         27        640: 100%|██████████| 657/657 [01:29<00:00,  7.37it/s]\n",
      "                 Class     Images  Instances      Box(P          R      mAP50  mAP50-95)     Pose(P          R      mAP50  mAP50-95): 100%|██████████| 32/32 [00:09<00:00,  3.44it/s]"
     ]
    },
    {
     "name": "stdout",
     "output_type": "stream",
     "text": [
      "                   all       1002       1002          1          1      0.995       0.91      0.968      0.968      0.961      0.632\n"
     ]
    },
    {
     "name": "stderr",
     "output_type": "stream",
     "text": [
      "\n"
     ]
    },
    {
     "name": "stdout",
     "output_type": "stream",
     "text": [
      "\n",
      "      Epoch    GPU_mem   box_loss  pose_loss  kobj_loss   cls_loss   dfl_loss  Instances       Size\n"
     ]
    },
    {
     "name": "stderr",
     "output_type": "stream",
     "text": [
      "     38/200      2.37G     0.5282      2.553     0.2875      0.314     0.9181         29        640: 100%|██████████| 657/657 [01:31<00:00,  7.19it/s]\n",
      "                 Class     Images  Instances      Box(P          R      mAP50  mAP50-95)     Pose(P          R      mAP50  mAP50-95): 100%|██████████| 32/32 [00:09<00:00,  3.33it/s]"
     ]
    },
    {
     "name": "stdout",
     "output_type": "stream",
     "text": [
      "                   all       1002       1002          1          1      0.995      0.911      0.964      0.964      0.969      0.662\n"
     ]
    },
    {
     "name": "stderr",
     "output_type": "stream",
     "text": [
      "\n"
     ]
    },
    {
     "name": "stdout",
     "output_type": "stream",
     "text": [
      "\n",
      "      Epoch    GPU_mem   box_loss  pose_loss  kobj_loss   cls_loss   dfl_loss  Instances       Size\n"
     ]
    },
    {
     "name": "stderr",
     "output_type": "stream",
     "text": [
      "     39/200      2.37G     0.5228      2.523     0.2821     0.3103     0.9121         35        640: 100%|██████████| 657/657 [01:29<00:00,  7.34it/s]\n",
      "                 Class     Images  Instances      Box(P          R      mAP50  mAP50-95)     Pose(P          R      mAP50  mAP50-95): 100%|██████████| 32/32 [00:09<00:00,  3.45it/s]"
     ]
    },
    {
     "name": "stdout",
     "output_type": "stream",
     "text": [
      "                   all       1002       1002          1          1      0.995      0.912       0.97       0.97      0.975      0.664\n"
     ]
    },
    {
     "name": "stderr",
     "output_type": "stream",
     "text": [
      "\n"
     ]
    },
    {
     "name": "stdout",
     "output_type": "stream",
     "text": [
      "\n",
      "      Epoch    GPU_mem   box_loss  pose_loss  kobj_loss   cls_loss   dfl_loss  Instances       Size\n"
     ]
    },
    {
     "name": "stderr",
     "output_type": "stream",
     "text": [
      "     40/200      2.37G     0.5233      2.506     0.2807     0.3081     0.9129         28        640: 100%|██████████| 657/657 [01:29<00:00,  7.30it/s]\n",
      "                 Class     Images  Instances      Box(P          R      mAP50  mAP50-95)     Pose(P          R      mAP50  mAP50-95): 100%|██████████| 32/32 [00:09<00:00,  3.46it/s]"
     ]
    },
    {
     "name": "stdout",
     "output_type": "stream",
     "text": [
      "                   all       1002       1002          1          1      0.995      0.903      0.975      0.975      0.982      0.663\n"
     ]
    },
    {
     "name": "stderr",
     "output_type": "stream",
     "text": [
      "\n"
     ]
    },
    {
     "name": "stdout",
     "output_type": "stream",
     "text": [
      "\n",
      "      Epoch    GPU_mem   box_loss  pose_loss  kobj_loss   cls_loss   dfl_loss  Instances       Size\n"
     ]
    },
    {
     "name": "stderr",
     "output_type": "stream",
     "text": [
      "     41/200      2.37G     0.5199      2.504     0.2805     0.3072     0.9138         30        640: 100%|██████████| 657/657 [01:30<00:00,  7.24it/s]\n",
      "                 Class     Images  Instances      Box(P          R      mAP50  mAP50-95)     Pose(P          R      mAP50  mAP50-95): 100%|██████████| 32/32 [00:09<00:00,  3.40it/s]"
     ]
    },
    {
     "name": "stdout",
     "output_type": "stream",
     "text": [
      "                   all       1002       1002          1          1      0.995       0.91      0.978      0.978      0.977      0.658\n"
     ]
    },
    {
     "name": "stderr",
     "output_type": "stream",
     "text": [
      "\n"
     ]
    },
    {
     "name": "stdout",
     "output_type": "stream",
     "text": [
      "\n",
      "      Epoch    GPU_mem   box_loss  pose_loss  kobj_loss   cls_loss   dfl_loss  Instances       Size\n"
     ]
    },
    {
     "name": "stderr",
     "output_type": "stream",
     "text": [
      "     42/200      2.37G     0.5208      2.499     0.2819     0.3094     0.9123         27        640: 100%|██████████| 657/657 [01:30<00:00,  7.27it/s]\n",
      "                 Class     Images  Instances      Box(P          R      mAP50  mAP50-95)     Pose(P          R      mAP50  mAP50-95): 100%|██████████| 32/32 [00:09<00:00,  3.51it/s]"
     ]
    },
    {
     "name": "stdout",
     "output_type": "stream",
     "text": [
      "                   all       1002       1002          1          1      0.995      0.906      0.974      0.974      0.972      0.652\n"
     ]
    },
    {
     "name": "stderr",
     "output_type": "stream",
     "text": [
      "\n"
     ]
    },
    {
     "name": "stdout",
     "output_type": "stream",
     "text": [
      "\n",
      "      Epoch    GPU_mem   box_loss  pose_loss  kobj_loss   cls_loss   dfl_loss  Instances       Size\n"
     ]
    },
    {
     "name": "stderr",
     "output_type": "stream",
     "text": [
      "     43/200      2.37G     0.5201      2.496     0.2814     0.3063     0.9152         19        640: 100%|██████████| 657/657 [01:28<00:00,  7.38it/s]\n",
      "                 Class     Images  Instances      Box(P          R      mAP50  mAP50-95)     Pose(P          R      mAP50  mAP50-95): 100%|██████████| 32/32 [00:09<00:00,  3.41it/s]"
     ]
    },
    {
     "name": "stdout",
     "output_type": "stream",
     "text": [
      "                   all       1002       1002          1          1      0.995      0.911      0.984      0.984      0.989       0.67\n"
     ]
    },
    {
     "name": "stderr",
     "output_type": "stream",
     "text": [
      "\n"
     ]
    },
    {
     "name": "stdout",
     "output_type": "stream",
     "text": [
      "\n",
      "      Epoch    GPU_mem   box_loss  pose_loss  kobj_loss   cls_loss   dfl_loss  Instances       Size\n"
     ]
    },
    {
     "name": "stderr",
     "output_type": "stream",
     "text": [
      "     44/200      2.37G     0.5159      2.472      0.278      0.306     0.9119         22        640: 100%|██████████| 657/657 [01:30<00:00,  7.24it/s]\n",
      "                 Class     Images  Instances      Box(P          R      mAP50  mAP50-95)     Pose(P          R      mAP50  mAP50-95): 100%|██████████| 32/32 [00:09<00:00,  3.38it/s]"
     ]
    },
    {
     "name": "stdout",
     "output_type": "stream",
     "text": [
      "                   all       1002       1002          1          1      0.995      0.905      0.964      0.964      0.953      0.629\n"
     ]
    },
    {
     "name": "stderr",
     "output_type": "stream",
     "text": [
      "\n"
     ]
    },
    {
     "name": "stdout",
     "output_type": "stream",
     "text": [
      "\n",
      "      Epoch    GPU_mem   box_loss  pose_loss  kobj_loss   cls_loss   dfl_loss  Instances       Size\n"
     ]
    },
    {
     "name": "stderr",
     "output_type": "stream",
     "text": [
      "     45/200      2.37G     0.5169      2.469     0.2788     0.3082     0.9108         27        640: 100%|██████████| 657/657 [01:30<00:00,  7.26it/s]\n",
      "                 Class     Images  Instances      Box(P          R      mAP50  mAP50-95)     Pose(P          R      mAP50  mAP50-95): 100%|██████████| 32/32 [00:09<00:00,  3.38it/s]"
     ]
    },
    {
     "name": "stdout",
     "output_type": "stream",
     "text": [
      "                   all       1002       1002          1          1      0.995      0.912      0.977      0.977      0.979      0.661\n"
     ]
    },
    {
     "name": "stderr",
     "output_type": "stream",
     "text": [
      "\n"
     ]
    },
    {
     "name": "stdout",
     "output_type": "stream",
     "text": [
      "\n",
      "      Epoch    GPU_mem   box_loss  pose_loss  kobj_loss   cls_loss   dfl_loss  Instances       Size\n"
     ]
    },
    {
     "name": "stderr",
     "output_type": "stream",
     "text": [
      "     46/200      2.37G     0.5134      2.383     0.2758     0.3051     0.9112         29        640: 100%|██████████| 657/657 [01:30<00:00,  7.26it/s]\n",
      "                 Class     Images  Instances      Box(P          R      mAP50  mAP50-95)     Pose(P          R      mAP50  mAP50-95): 100%|██████████| 32/32 [00:09<00:00,  3.36it/s]"
     ]
    },
    {
     "name": "stdout",
     "output_type": "stream",
     "text": [
      "                   all       1002       1002          1          1      0.995      0.913      0.984      0.984      0.987      0.724\n"
     ]
    },
    {
     "name": "stderr",
     "output_type": "stream",
     "text": [
      "\n"
     ]
    },
    {
     "name": "stdout",
     "output_type": "stream",
     "text": [
      "\n",
      "      Epoch    GPU_mem   box_loss  pose_loss  kobj_loss   cls_loss   dfl_loss  Instances       Size\n"
     ]
    },
    {
     "name": "stderr",
     "output_type": "stream",
     "text": [
      "     47/200      2.37G     0.5102      2.335     0.2763     0.3023      0.909         32        640: 100%|██████████| 657/657 [01:30<00:00,  7.23it/s]\n",
      "                 Class     Images  Instances      Box(P          R      mAP50  mAP50-95)     Pose(P          R      mAP50  mAP50-95): 100%|██████████| 32/32 [00:09<00:00,  3.38it/s]"
     ]
    },
    {
     "name": "stdout",
     "output_type": "stream",
     "text": [
      "                   all       1002       1002          1          1      0.995      0.912      0.982      0.982      0.987      0.748\n"
     ]
    },
    {
     "name": "stderr",
     "output_type": "stream",
     "text": [
      "\n"
     ]
    },
    {
     "name": "stdout",
     "output_type": "stream",
     "text": [
      "\n",
      "      Epoch    GPU_mem   box_loss  pose_loss  kobj_loss   cls_loss   dfl_loss  Instances       Size\n"
     ]
    },
    {
     "name": "stderr",
     "output_type": "stream",
     "text": [
      "     48/200      2.37G     0.5163       2.34     0.2794     0.3066     0.9137         27        640: 100%|██████████| 657/657 [01:30<00:00,  7.29it/s]\n",
      "                 Class     Images  Instances      Box(P          R      mAP50  mAP50-95)     Pose(P          R      mAP50  mAP50-95): 100%|██████████| 32/32 [00:09<00:00,  3.41it/s]"
     ]
    },
    {
     "name": "stdout",
     "output_type": "stream",
     "text": [
      "                   all       1002       1002          1          1      0.995       0.91      0.966      0.966      0.975      0.736\n"
     ]
    },
    {
     "name": "stderr",
     "output_type": "stream",
     "text": [
      "\n"
     ]
    },
    {
     "name": "stdout",
     "output_type": "stream",
     "text": [
      "\n",
      "      Epoch    GPU_mem   box_loss  pose_loss  kobj_loss   cls_loss   dfl_loss  Instances       Size\n"
     ]
    },
    {
     "name": "stderr",
     "output_type": "stream",
     "text": [
      "     49/200      2.37G     0.5108      2.362     0.2748     0.3051     0.9105         23        640: 100%|██████████| 657/657 [01:30<00:00,  7.23it/s]\n",
      "                 Class     Images  Instances      Box(P          R      mAP50  mAP50-95)     Pose(P          R      mAP50  mAP50-95): 100%|██████████| 32/32 [00:09<00:00,  3.40it/s]"
     ]
    },
    {
     "name": "stdout",
     "output_type": "stream",
     "text": [
      "                   all       1002       1002          1          1      0.995      0.907      0.962      0.962      0.961      0.722\n"
     ]
    },
    {
     "name": "stderr",
     "output_type": "stream",
     "text": [
      "\n"
     ]
    },
    {
     "name": "stdout",
     "output_type": "stream",
     "text": [
      "\n",
      "      Epoch    GPU_mem   box_loss  pose_loss  kobj_loss   cls_loss   dfl_loss  Instances       Size\n"
     ]
    },
    {
     "name": "stderr",
     "output_type": "stream",
     "text": [
      "     50/200      2.37G     0.5127      2.327     0.2741     0.3054     0.9099         35        640: 100%|██████████| 657/657 [01:30<00:00,  7.26it/s]\n",
      "                 Class     Images  Instances      Box(P          R      mAP50  mAP50-95)     Pose(P          R      mAP50  mAP50-95): 100%|██████████| 32/32 [00:09<00:00,  3.49it/s]"
     ]
    },
    {
     "name": "stdout",
     "output_type": "stream",
     "text": [
      "                   all       1002       1002          1          1      0.995      0.907      0.983      0.983      0.988      0.745\n"
     ]
    },
    {
     "name": "stderr",
     "output_type": "stream",
     "text": [
      "\n"
     ]
    },
    {
     "name": "stdout",
     "output_type": "stream",
     "text": [
      "\n",
      "      Epoch    GPU_mem   box_loss  pose_loss  kobj_loss   cls_loss   dfl_loss  Instances       Size\n"
     ]
    },
    {
     "name": "stderr",
     "output_type": "stream",
     "text": [
      "     51/200      2.37G      0.507      2.316     0.2702     0.3005     0.9079         30        640: 100%|██████████| 657/657 [01:31<00:00,  7.21it/s]\n",
      "                 Class     Images  Instances      Box(P          R      mAP50  mAP50-95)     Pose(P          R      mAP50  mAP50-95): 100%|██████████| 32/32 [00:09<00:00,  3.45it/s]"
     ]
    },
    {
     "name": "stdout",
     "output_type": "stream",
     "text": [
      "                   all       1002       1002          1          1      0.995      0.907      0.986      0.986       0.99      0.748\n"
     ]
    },
    {
     "name": "stderr",
     "output_type": "stream",
     "text": [
      "\n"
     ]
    },
    {
     "name": "stdout",
     "output_type": "stream",
     "text": [
      "\n",
      "      Epoch    GPU_mem   box_loss  pose_loss  kobj_loss   cls_loss   dfl_loss  Instances       Size\n"
     ]
    },
    {
     "name": "stderr",
     "output_type": "stream",
     "text": [
      "     52/200      2.37G     0.5127       2.33     0.2739     0.3037     0.9114         30        640: 100%|██████████| 657/657 [01:29<00:00,  7.36it/s]\n",
      "                 Class     Images  Instances      Box(P          R      mAP50  mAP50-95)     Pose(P          R      mAP50  mAP50-95): 100%|██████████| 32/32 [00:09<00:00,  3.40it/s]"
     ]
    },
    {
     "name": "stdout",
     "output_type": "stream",
     "text": [
      "                   all       1002       1002          1          1      0.995      0.903      0.984      0.984      0.988      0.746\n"
     ]
    },
    {
     "name": "stderr",
     "output_type": "stream",
     "text": [
      "\n"
     ]
    },
    {
     "name": "stdout",
     "output_type": "stream",
     "text": [
      "\n",
      "      Epoch    GPU_mem   box_loss  pose_loss  kobj_loss   cls_loss   dfl_loss  Instances       Size\n"
     ]
    },
    {
     "name": "stderr",
     "output_type": "stream",
     "text": [
      "     53/200      2.37G     0.5175      2.324     0.2757     0.3057     0.9141         36        640: 100%|██████████| 657/657 [01:30<00:00,  7.29it/s]\n",
      "                 Class     Images  Instances      Box(P          R      mAP50  mAP50-95)     Pose(P          R      mAP50  mAP50-95): 100%|██████████| 32/32 [00:09<00:00,  3.46it/s]"
     ]
    },
    {
     "name": "stdout",
     "output_type": "stream",
     "text": [
      "                   all       1002       1002          1          1      0.995      0.907      0.982      0.982      0.986      0.744\n"
     ]
    },
    {
     "name": "stderr",
     "output_type": "stream",
     "text": [
      "\n"
     ]
    },
    {
     "name": "stdout",
     "output_type": "stream",
     "text": [
      "\n",
      "      Epoch    GPU_mem   box_loss  pose_loss  kobj_loss   cls_loss   dfl_loss  Instances       Size\n"
     ]
    },
    {
     "name": "stderr",
     "output_type": "stream",
     "text": [
      "     54/200      2.37G      0.513      2.293     0.2717     0.3026     0.9119         40        640: 100%|██████████| 657/657 [01:29<00:00,  7.33it/s]\n",
      "                 Class     Images  Instances      Box(P          R      mAP50  mAP50-95)     Pose(P          R      mAP50  mAP50-95): 100%|██████████| 32/32 [00:09<00:00,  3.39it/s]"
     ]
    },
    {
     "name": "stdout",
     "output_type": "stream",
     "text": [
      "                   all       1002       1002          1          1      0.995      0.911      0.985      0.985      0.988      0.747\n"
     ]
    },
    {
     "name": "stderr",
     "output_type": "stream",
     "text": [
      "\n"
     ]
    },
    {
     "name": "stdout",
     "output_type": "stream",
     "text": [
      "\n",
      "      Epoch    GPU_mem   box_loss  pose_loss  kobj_loss   cls_loss   dfl_loss  Instances       Size\n"
     ]
    },
    {
     "name": "stderr",
     "output_type": "stream",
     "text": [
      "     55/200      2.37G     0.5102      2.268     0.2708     0.3026     0.9122         29        640: 100%|██████████| 657/657 [01:28<00:00,  7.41it/s]\n",
      "                 Class     Images  Instances      Box(P          R      mAP50  mAP50-95)     Pose(P          R      mAP50  mAP50-95): 100%|██████████| 32/32 [00:09<00:00,  3.54it/s]"
     ]
    },
    {
     "name": "stdout",
     "output_type": "stream",
     "text": [
      "                   all       1002       1002          1          1      0.995      0.911      0.983      0.983      0.987      0.748\n"
     ]
    },
    {
     "name": "stderr",
     "output_type": "stream",
     "text": [
      "\n"
     ]
    },
    {
     "name": "stdout",
     "output_type": "stream",
     "text": [
      "\n",
      "      Epoch    GPU_mem   box_loss  pose_loss  kobj_loss   cls_loss   dfl_loss  Instances       Size\n"
     ]
    },
    {
     "name": "stderr",
     "output_type": "stream",
     "text": [
      "     56/200      2.37G      0.512      2.263     0.2696     0.3036     0.9106         34        640: 100%|██████████| 657/657 [01:30<00:00,  7.28it/s]\n",
      "                 Class     Images  Instances      Box(P          R      mAP50  mAP50-95)     Pose(P          R      mAP50  mAP50-95): 100%|██████████| 32/32 [00:09<00:00,  3.42it/s]"
     ]
    },
    {
     "name": "stdout",
     "output_type": "stream",
     "text": [
      "                   all       1002       1002          1          1      0.995      0.912      0.967      0.967      0.968      0.737\n"
     ]
    },
    {
     "name": "stderr",
     "output_type": "stream",
     "text": [
      "\n"
     ]
    },
    {
     "name": "stdout",
     "output_type": "stream",
     "text": [
      "\n",
      "      Epoch    GPU_mem   box_loss  pose_loss  kobj_loss   cls_loss   dfl_loss  Instances       Size\n"
     ]
    },
    {
     "name": "stderr",
     "output_type": "stream",
     "text": [
      "     57/200      2.37G     0.5052       2.23     0.2702     0.3019     0.9114         36        640: 100%|██████████| 657/657 [01:31<00:00,  7.17it/s]\n",
      "                 Class     Images  Instances      Box(P          R      mAP50  mAP50-95)     Pose(P          R      mAP50  mAP50-95): 100%|██████████| 32/32 [00:09<00:00,  3.33it/s]"
     ]
    },
    {
     "name": "stdout",
     "output_type": "stream",
     "text": [
      "                   all       1002       1002          1          1      0.995      0.913      0.981      0.981      0.987      0.755\n"
     ]
    },
    {
     "name": "stderr",
     "output_type": "stream",
     "text": [
      "\n"
     ]
    },
    {
     "name": "stdout",
     "output_type": "stream",
     "text": [
      "\n",
      "      Epoch    GPU_mem   box_loss  pose_loss  kobj_loss   cls_loss   dfl_loss  Instances       Size\n"
     ]
    },
    {
     "name": "stderr",
     "output_type": "stream",
     "text": [
      "     58/200      2.37G     0.5022        2.2     0.2688     0.2982     0.9076         28        640: 100%|██████████| 657/657 [01:30<00:00,  7.28it/s]\n",
      "                 Class     Images  Instances      Box(P          R      mAP50  mAP50-95)     Pose(P          R      mAP50  mAP50-95): 100%|██████████| 32/32 [00:09<00:00,  3.45it/s]"
     ]
    },
    {
     "name": "stdout",
     "output_type": "stream",
     "text": [
      "                   all       1002       1002          1          1      0.995      0.912      0.989      0.989      0.992       0.75\n"
     ]
    },
    {
     "name": "stderr",
     "output_type": "stream",
     "text": [
      "\n"
     ]
    },
    {
     "name": "stdout",
     "output_type": "stream",
     "text": [
      "\n",
      "      Epoch    GPU_mem   box_loss  pose_loss  kobj_loss   cls_loss   dfl_loss  Instances       Size\n"
     ]
    },
    {
     "name": "stderr",
     "output_type": "stream",
     "text": [
      "     59/200      2.37G     0.5059      2.242     0.2681     0.3001      0.909         38        640: 100%|██████████| 657/657 [01:30<00:00,  7.28it/s]\n",
      "                 Class     Images  Instances      Box(P          R      mAP50  mAP50-95)     Pose(P          R      mAP50  mAP50-95): 100%|██████████| 32/32 [00:09<00:00,  3.43it/s]"
     ]
    },
    {
     "name": "stdout",
     "output_type": "stream",
     "text": [
      "                   all       1002       1002          1          1      0.995      0.913      0.983      0.983      0.986      0.744\n"
     ]
    },
    {
     "name": "stderr",
     "output_type": "stream",
     "text": [
      "\n"
     ]
    },
    {
     "name": "stdout",
     "output_type": "stream",
     "text": [
      "\n",
      "      Epoch    GPU_mem   box_loss  pose_loss  kobj_loss   cls_loss   dfl_loss  Instances       Size\n"
     ]
    },
    {
     "name": "stderr",
     "output_type": "stream",
     "text": [
      "     60/200      2.37G     0.5002      2.198     0.2622     0.2953     0.9048         30        640: 100%|██████████| 657/657 [01:29<00:00,  7.38it/s]\n",
      "                 Class     Images  Instances      Box(P          R      mAP50  mAP50-95)     Pose(P          R      mAP50  mAP50-95): 100%|██████████| 32/32 [00:09<00:00,  3.36it/s]"
     ]
    },
    {
     "name": "stdout",
     "output_type": "stream",
     "text": [
      "                   all       1002       1002          1          1      0.995      0.915      0.985      0.985      0.988      0.753\n"
     ]
    },
    {
     "name": "stderr",
     "output_type": "stream",
     "text": [
      "\n"
     ]
    },
    {
     "name": "stdout",
     "output_type": "stream",
     "text": [
      "\n",
      "      Epoch    GPU_mem   box_loss  pose_loss  kobj_loss   cls_loss   dfl_loss  Instances       Size\n"
     ]
    },
    {
     "name": "stderr",
     "output_type": "stream",
     "text": [
      "     61/200      2.37G      0.503      2.204     0.2645     0.2989     0.9081         28        640: 100%|██████████| 657/657 [01:30<00:00,  7.26it/s]\n",
      "                 Class     Images  Instances      Box(P          R      mAP50  mAP50-95)     Pose(P          R      mAP50  mAP50-95): 100%|██████████| 32/32 [00:09<00:00,  3.47it/s]"
     ]
    },
    {
     "name": "stdout",
     "output_type": "stream",
     "text": [
      "                   all       1002       1002          1          1      0.995      0.916      0.989      0.989      0.992      0.757\n"
     ]
    },
    {
     "name": "stderr",
     "output_type": "stream",
     "text": [
      "\n"
     ]
    },
    {
     "name": "stdout",
     "output_type": "stream",
     "text": [
      "\n",
      "      Epoch    GPU_mem   box_loss  pose_loss  kobj_loss   cls_loss   dfl_loss  Instances       Size\n"
     ]
    },
    {
     "name": "stderr",
     "output_type": "stream",
     "text": [
      "     62/200      2.37G     0.5019      2.192     0.2627     0.2984     0.9084         35        640: 100%|██████████| 657/657 [01:29<00:00,  7.36it/s]\n",
      "                 Class     Images  Instances      Box(P          R      mAP50  mAP50-95)     Pose(P          R      mAP50  mAP50-95): 100%|██████████| 32/32 [00:09<00:00,  3.50it/s]"
     ]
    },
    {
     "name": "stdout",
     "output_type": "stream",
     "text": [
      "                   all       1002       1002          1          1      0.995      0.917       0.99       0.99      0.994      0.763\n"
     ]
    },
    {
     "name": "stderr",
     "output_type": "stream",
     "text": [
      "\n"
     ]
    },
    {
     "name": "stdout",
     "output_type": "stream",
     "text": [
      "\n",
      "      Epoch    GPU_mem   box_loss  pose_loss  kobj_loss   cls_loss   dfl_loss  Instances       Size\n"
     ]
    },
    {
     "name": "stderr",
     "output_type": "stream",
     "text": [
      "     63/200      2.37G        0.5       2.17     0.2619     0.2968     0.9041         38        640: 100%|██████████| 657/657 [01:29<00:00,  7.31it/s]\n",
      "                 Class     Images  Instances      Box(P          R      mAP50  mAP50-95)     Pose(P          R      mAP50  mAP50-95): 100%|██████████| 32/32 [00:09<00:00,  3.41it/s]"
     ]
    },
    {
     "name": "stdout",
     "output_type": "stream",
     "text": [
      "                   all       1002       1002          1          1      0.995      0.917      0.989      0.989      0.992      0.759\n"
     ]
    },
    {
     "name": "stderr",
     "output_type": "stream",
     "text": [
      "\n"
     ]
    },
    {
     "name": "stdout",
     "output_type": "stream",
     "text": [
      "\n",
      "      Epoch    GPU_mem   box_loss  pose_loss  kobj_loss   cls_loss   dfl_loss  Instances       Size\n"
     ]
    },
    {
     "name": "stderr",
     "output_type": "stream",
     "text": [
      "     64/200      2.37G     0.5016      2.177     0.2619      0.298     0.9074         28        640: 100%|██████████| 657/657 [01:23<00:00,  7.86it/s]\n",
      "                 Class     Images  Instances      Box(P          R      mAP50  mAP50-95)     Pose(P          R      mAP50  mAP50-95): 100%|██████████| 32/32 [00:04<00:00,  6.87it/s]\n"
     ]
    },
    {
     "name": "stdout",
     "output_type": "stream",
     "text": [
      "                   all       1002       1002          1          1      0.995      0.915       0.99       0.99      0.994      0.767\n",
      "\n",
      "      Epoch    GPU_mem   box_loss  pose_loss  kobj_loss   cls_loss   dfl_loss  Instances       Size\n"
     ]
    },
    {
     "name": "stderr",
     "output_type": "stream",
     "text": [
      "     65/200      2.37G     0.4967      2.145     0.2585     0.2941     0.9054         32        640: 100%|██████████| 657/657 [01:00<00:00, 10.85it/s]\n",
      "                 Class     Images  Instances      Box(P          R      mAP50  mAP50-95)     Pose(P          R      mAP50  mAP50-95): 100%|██████████| 32/32 [00:04<00:00,  6.83it/s]"
     ]
    },
    {
     "name": "stdout",
     "output_type": "stream",
     "text": [
      "                   all       1002       1002          1          1      0.995      0.912      0.989      0.989      0.993       0.77\n"
     ]
    },
    {
     "name": "stderr",
     "output_type": "stream",
     "text": [
      "\n"
     ]
    },
    {
     "name": "stdout",
     "output_type": "stream",
     "text": [
      "\n",
      "      Epoch    GPU_mem   box_loss  pose_loss  kobj_loss   cls_loss   dfl_loss  Instances       Size\n"
     ]
    },
    {
     "name": "stderr",
     "output_type": "stream",
     "text": [
      "     66/200      2.37G     0.4941      2.129      0.259     0.2917     0.9037         27        640: 100%|██████████| 657/657 [01:00<00:00, 10.80it/s]\n",
      "                 Class     Images  Instances      Box(P          R      mAP50  mAP50-95)     Pose(P          R      mAP50  mAP50-95): 100%|██████████| 32/32 [00:04<00:00,  6.79it/s]"
     ]
    },
    {
     "name": "stdout",
     "output_type": "stream",
     "text": [
      "                   all       1002       1002          1          1      0.995      0.912      0.989      0.989      0.992      0.771\n"
     ]
    },
    {
     "name": "stderr",
     "output_type": "stream",
     "text": [
      "\n"
     ]
    },
    {
     "name": "stdout",
     "output_type": "stream",
     "text": [
      "\n",
      "      Epoch    GPU_mem   box_loss  pose_loss  kobj_loss   cls_loss   dfl_loss  Instances       Size\n"
     ]
    },
    {
     "name": "stderr",
     "output_type": "stream",
     "text": [
      "     67/200      2.37G     0.4904      2.099     0.2592     0.2909     0.9028         30        640: 100%|██████████| 657/657 [01:00<00:00, 10.85it/s]\n",
      "                 Class     Images  Instances      Box(P          R      mAP50  mAP50-95)     Pose(P          R      mAP50  mAP50-95): 100%|██████████| 32/32 [00:04<00:00,  6.83it/s]"
     ]
    },
    {
     "name": "stdout",
     "output_type": "stream",
     "text": [
      "                   all       1002       1002          1          1      0.995      0.912      0.989      0.989      0.993      0.768\n"
     ]
    },
    {
     "name": "stderr",
     "output_type": "stream",
     "text": [
      "\n"
     ]
    },
    {
     "name": "stdout",
     "output_type": "stream",
     "text": [
      "\n",
      "      Epoch    GPU_mem   box_loss  pose_loss  kobj_loss   cls_loss   dfl_loss  Instances       Size\n"
     ]
    },
    {
     "name": "stderr",
     "output_type": "stream",
     "text": [
      "     68/200      2.37G     0.4947      2.123     0.2566     0.2921     0.9055         30        640: 100%|██████████| 657/657 [01:00<00:00, 10.86it/s]\n",
      "                 Class     Images  Instances      Box(P          R      mAP50  mAP50-95)     Pose(P          R      mAP50  mAP50-95): 100%|██████████| 32/32 [00:04<00:00,  6.85it/s]"
     ]
    },
    {
     "name": "stdout",
     "output_type": "stream",
     "text": [
      "                   all       1002       1002          1          1      0.995      0.913      0.989      0.989      0.993      0.772\n"
     ]
    },
    {
     "name": "stderr",
     "output_type": "stream",
     "text": [
      "\n"
     ]
    },
    {
     "name": "stdout",
     "output_type": "stream",
     "text": [
      "\n",
      "      Epoch    GPU_mem   box_loss  pose_loss  kobj_loss   cls_loss   dfl_loss  Instances       Size\n"
     ]
    },
    {
     "name": "stderr",
     "output_type": "stream",
     "text": [
      "     69/200      2.37G     0.4939      2.102      0.256     0.2919     0.9045         26        640: 100%|██████████| 657/657 [01:06<00:00,  9.90it/s]\n",
      "                 Class     Images  Instances      Box(P          R      mAP50  mAP50-95)     Pose(P          R      mAP50  mAP50-95): 100%|██████████| 32/32 [00:09<00:00,  3.43it/s]"
     ]
    },
    {
     "name": "stdout",
     "output_type": "stream",
     "text": [
      "                   all       1002       1002          1          1      0.995      0.915      0.989      0.989      0.992      0.773\n"
     ]
    },
    {
     "name": "stderr",
     "output_type": "stream",
     "text": [
      "\n"
     ]
    },
    {
     "name": "stdout",
     "output_type": "stream",
     "text": [
      "\n",
      "      Epoch    GPU_mem   box_loss  pose_loss  kobj_loss   cls_loss   dfl_loss  Instances       Size\n"
     ]
    },
    {
     "name": "stderr",
     "output_type": "stream",
     "text": [
      "     70/200      2.37G     0.4913      2.104     0.2569     0.2909     0.9021         32        640: 100%|██████████| 657/657 [01:31<00:00,  7.20it/s]\n",
      "                 Class     Images  Instances      Box(P          R      mAP50  mAP50-95)     Pose(P          R      mAP50  mAP50-95): 100%|██████████| 32/32 [00:09<00:00,  3.36it/s]"
     ]
    },
    {
     "name": "stdout",
     "output_type": "stream",
     "text": [
      "                   all       1002       1002          1          1      0.995      0.915      0.989      0.989      0.992      0.768\n"
     ]
    },
    {
     "name": "stderr",
     "output_type": "stream",
     "text": [
      "\n"
     ]
    },
    {
     "name": "stdout",
     "output_type": "stream",
     "text": [
      "\n",
      "      Epoch    GPU_mem   box_loss  pose_loss  kobj_loss   cls_loss   dfl_loss  Instances       Size\n"
     ]
    },
    {
     "name": "stderr",
     "output_type": "stream",
     "text": [
      "     71/200      2.37G     0.4938      2.106      0.256     0.2903     0.9053         30        640: 100%|██████████| 657/657 [01:30<00:00,  7.26it/s]\n",
      "                 Class     Images  Instances      Box(P          R      mAP50  mAP50-95)     Pose(P          R      mAP50  mAP50-95): 100%|██████████| 32/32 [00:09<00:00,  3.40it/s]"
     ]
    },
    {
     "name": "stdout",
     "output_type": "stream",
     "text": [
      "                   all       1002       1002          1          1      0.995      0.917      0.988      0.988      0.991      0.775\n"
     ]
    },
    {
     "name": "stderr",
     "output_type": "stream",
     "text": [
      "\n"
     ]
    },
    {
     "name": "stdout",
     "output_type": "stream",
     "text": [
      "\n",
      "      Epoch    GPU_mem   box_loss  pose_loss  kobj_loss   cls_loss   dfl_loss  Instances       Size\n"
     ]
    },
    {
     "name": "stderr",
     "output_type": "stream",
     "text": [
      "     72/200      2.37G     0.4969      2.107     0.2556     0.2929     0.9051         37        640: 100%|██████████| 657/657 [01:29<00:00,  7.30it/s]\n",
      "                 Class     Images  Instances      Box(P          R      mAP50  mAP50-95)     Pose(P          R      mAP50  mAP50-95): 100%|██████████| 32/32 [00:09<00:00,  3.45it/s]"
     ]
    },
    {
     "name": "stdout",
     "output_type": "stream",
     "text": [
      "                   all       1002       1002          1          1      0.995      0.918      0.988      0.988      0.991      0.779\n"
     ]
    },
    {
     "name": "stderr",
     "output_type": "stream",
     "text": [
      "\n"
     ]
    },
    {
     "name": "stdout",
     "output_type": "stream",
     "text": [
      "\n",
      "      Epoch    GPU_mem   box_loss  pose_loss  kobj_loss   cls_loss   dfl_loss  Instances       Size\n"
     ]
    },
    {
     "name": "stderr",
     "output_type": "stream",
     "text": [
      "     73/200      2.37G     0.4892      2.067     0.2518     0.2881     0.9006         36        640: 100%|██████████| 657/657 [01:30<00:00,  7.28it/s]\n",
      "                 Class     Images  Instances      Box(P          R      mAP50  mAP50-95)     Pose(P          R      mAP50  mAP50-95): 100%|██████████| 32/32 [00:09<00:00,  3.47it/s]"
     ]
    },
    {
     "name": "stdout",
     "output_type": "stream",
     "text": [
      "                   all       1002       1002          1          1      0.995      0.917      0.988      0.988      0.991      0.774\n"
     ]
    },
    {
     "name": "stderr",
     "output_type": "stream",
     "text": [
      "\n"
     ]
    },
    {
     "name": "stdout",
     "output_type": "stream",
     "text": [
      "\n",
      "      Epoch    GPU_mem   box_loss  pose_loss  kobj_loss   cls_loss   dfl_loss  Instances       Size\n"
     ]
    },
    {
     "name": "stderr",
     "output_type": "stream",
     "text": [
      "     74/200      2.37G     0.4861      2.097     0.2502     0.2907     0.9037         32        640: 100%|██████████| 657/657 [01:28<00:00,  7.42it/s]\n",
      "                 Class     Images  Instances      Box(P          R      mAP50  mAP50-95)     Pose(P          R      mAP50  mAP50-95): 100%|██████████| 32/32 [00:09<00:00,  3.39it/s]"
     ]
    },
    {
     "name": "stdout",
     "output_type": "stream",
     "text": [
      "                   all       1002       1002          1          1      0.995      0.919      0.988      0.988      0.991      0.772\n"
     ]
    },
    {
     "name": "stderr",
     "output_type": "stream",
     "text": [
      "\n"
     ]
    },
    {
     "name": "stdout",
     "output_type": "stream",
     "text": [
      "\n",
      "      Epoch    GPU_mem   box_loss  pose_loss  kobj_loss   cls_loss   dfl_loss  Instances       Size\n"
     ]
    },
    {
     "name": "stderr",
     "output_type": "stream",
     "text": [
      "     75/200      2.37G     0.4964      2.117     0.2533     0.2938     0.9074         22        640: 100%|██████████| 657/657 [01:30<00:00,  7.24it/s]\n",
      "                 Class     Images  Instances      Box(P          R      mAP50  mAP50-95)     Pose(P          R      mAP50  mAP50-95): 100%|██████████| 32/32 [00:09<00:00,  3.40it/s]"
     ]
    },
    {
     "name": "stdout",
     "output_type": "stream",
     "text": [
      "                   all       1002       1002          1          1      0.995      0.921      0.988      0.988      0.991      0.772\n"
     ]
    },
    {
     "name": "stderr",
     "output_type": "stream",
     "text": [
      "\n"
     ]
    },
    {
     "name": "stdout",
     "output_type": "stream",
     "text": [
      "\n",
      "      Epoch    GPU_mem   box_loss  pose_loss  kobj_loss   cls_loss   dfl_loss  Instances       Size\n"
     ]
    },
    {
     "name": "stderr",
     "output_type": "stream",
     "text": [
      "     76/200      2.37G     0.4868       2.07     0.2532      0.288     0.9046         28        640: 100%|██████████| 657/657 [01:30<00:00,  7.29it/s]\n",
      "                 Class     Images  Instances      Box(P          R      mAP50  mAP50-95)     Pose(P          R      mAP50  mAP50-95): 100%|██████████| 32/32 [00:09<00:00,  3.46it/s]"
     ]
    },
    {
     "name": "stdout",
     "output_type": "stream",
     "text": [
      "                   all       1002       1002          1          1      0.995       0.92      0.988      0.988      0.992      0.771\n"
     ]
    },
    {
     "name": "stderr",
     "output_type": "stream",
     "text": [
      "\n"
     ]
    },
    {
     "name": "stdout",
     "output_type": "stream",
     "text": [
      "\n",
      "      Epoch    GPU_mem   box_loss  pose_loss  kobj_loss   cls_loss   dfl_loss  Instances       Size\n"
     ]
    },
    {
     "name": "stderr",
     "output_type": "stream",
     "text": [
      "     77/200      2.37G     0.4899      2.073     0.2537     0.2874      0.905         27        640: 100%|██████████| 657/657 [01:30<00:00,  7.26it/s]\n",
      "                 Class     Images  Instances      Box(P          R      mAP50  mAP50-95)     Pose(P          R      mAP50  mAP50-95): 100%|██████████| 32/32 [00:09<00:00,  3.37it/s]"
     ]
    },
    {
     "name": "stdout",
     "output_type": "stream",
     "text": [
      "                   all       1002       1002          1          1      0.995      0.921      0.988      0.988      0.992       0.77\n"
     ]
    },
    {
     "name": "stderr",
     "output_type": "stream",
     "text": [
      "\n"
     ]
    },
    {
     "name": "stdout",
     "output_type": "stream",
     "text": [
      "\n",
      "      Epoch    GPU_mem   box_loss  pose_loss  kobj_loss   cls_loss   dfl_loss  Instances       Size\n"
     ]
    },
    {
     "name": "stderr",
     "output_type": "stream",
     "text": [
      "     78/200      2.37G     0.4913      2.065     0.2501     0.2905     0.9041         29        640: 100%|██████████| 657/657 [01:29<00:00,  7.36it/s]\n",
      "                 Class     Images  Instances      Box(P          R      mAP50  mAP50-95)     Pose(P          R      mAP50  mAP50-95): 100%|██████████| 32/32 [00:09<00:00,  3.44it/s]"
     ]
    },
    {
     "name": "stdout",
     "output_type": "stream",
     "text": [
      "                   all       1002       1002          1          1      0.995      0.919      0.988      0.988      0.992      0.768\n"
     ]
    },
    {
     "name": "stderr",
     "output_type": "stream",
     "text": [
      "\n"
     ]
    },
    {
     "name": "stdout",
     "output_type": "stream",
     "text": [
      "\n",
      "      Epoch    GPU_mem   box_loss  pose_loss  kobj_loss   cls_loss   dfl_loss  Instances       Size\n"
     ]
    },
    {
     "name": "stderr",
     "output_type": "stream",
     "text": [
      "     79/200      2.37G     0.4891      2.049     0.2483     0.2895      0.904         23        640: 100%|██████████| 657/657 [01:30<00:00,  7.24it/s]\n",
      "                 Class     Images  Instances      Box(P          R      mAP50  mAP50-95)     Pose(P          R      mAP50  mAP50-95): 100%|██████████| 32/32 [00:09<00:00,  3.42it/s]"
     ]
    },
    {
     "name": "stdout",
     "output_type": "stream",
     "text": [
      "                   all       1002       1002          1          1      0.995      0.919      0.988      0.988      0.992      0.771\n"
     ]
    },
    {
     "name": "stderr",
     "output_type": "stream",
     "text": [
      "\n"
     ]
    },
    {
     "name": "stdout",
     "output_type": "stream",
     "text": [
      "\n",
      "      Epoch    GPU_mem   box_loss  pose_loss  kobj_loss   cls_loss   dfl_loss  Instances       Size\n"
     ]
    },
    {
     "name": "stderr",
     "output_type": "stream",
     "text": [
      "     80/200      2.37G     0.4829      2.018     0.2476     0.2871     0.9017         35        640: 100%|██████████| 657/657 [01:29<00:00,  7.30it/s]\n",
      "                 Class     Images  Instances      Box(P          R      mAP50  mAP50-95)     Pose(P          R      mAP50  mAP50-95): 100%|██████████| 32/32 [00:09<00:00,  3.49it/s]"
     ]
    },
    {
     "name": "stdout",
     "output_type": "stream",
     "text": [
      "                   all       1002       1002          1          1      0.995      0.918      0.988      0.988      0.992      0.772\n"
     ]
    },
    {
     "name": "stderr",
     "output_type": "stream",
     "text": [
      "\n"
     ]
    },
    {
     "name": "stdout",
     "output_type": "stream",
     "text": [
      "\n",
      "      Epoch    GPU_mem   box_loss  pose_loss  kobj_loss   cls_loss   dfl_loss  Instances       Size\n"
     ]
    },
    {
     "name": "stderr",
     "output_type": "stream",
     "text": [
      "     81/200      2.37G     0.4813      2.032     0.2489     0.2851     0.8993         31        640: 100%|██████████| 657/657 [01:30<00:00,  7.22it/s]\n",
      "                 Class     Images  Instances      Box(P          R      mAP50  mAP50-95)     Pose(P          R      mAP50  mAP50-95): 100%|██████████| 32/32 [00:09<00:00,  3.37it/s]"
     ]
    },
    {
     "name": "stdout",
     "output_type": "stream",
     "text": [
      "                   all       1002       1002          1          1      0.995      0.916      0.989      0.989      0.993      0.774\n"
     ]
    },
    {
     "name": "stderr",
     "output_type": "stream",
     "text": [
      "\n"
     ]
    },
    {
     "name": "stdout",
     "output_type": "stream",
     "text": [
      "\n",
      "      Epoch    GPU_mem   box_loss  pose_loss  kobj_loss   cls_loss   dfl_loss  Instances       Size\n"
     ]
    },
    {
     "name": "stderr",
     "output_type": "stream",
     "text": [
      "     82/200      2.37G     0.4813      2.021     0.2478     0.2854     0.9009         35        640: 100%|██████████| 657/657 [01:29<00:00,  7.33it/s]\n",
      "                 Class     Images  Instances      Box(P          R      mAP50  mAP50-95)     Pose(P          R      mAP50  mAP50-95): 100%|██████████| 32/32 [00:09<00:00,  3.42it/s]"
     ]
    },
    {
     "name": "stdout",
     "output_type": "stream",
     "text": [
      "                   all       1002       1002          1          1      0.995      0.915       0.99       0.99      0.994      0.774\n"
     ]
    },
    {
     "name": "stderr",
     "output_type": "stream",
     "text": [
      "\n"
     ]
    },
    {
     "name": "stdout",
     "output_type": "stream",
     "text": [
      "\n",
      "      Epoch    GPU_mem   box_loss  pose_loss  kobj_loss   cls_loss   dfl_loss  Instances       Size\n"
     ]
    },
    {
     "name": "stderr",
     "output_type": "stream",
     "text": [
      "     83/200      2.37G     0.4825      2.023     0.2475     0.2876     0.9024         24        640: 100%|██████████| 657/657 [01:30<00:00,  7.24it/s]\n",
      "                 Class     Images  Instances      Box(P          R      mAP50  mAP50-95)     Pose(P          R      mAP50  mAP50-95): 100%|██████████| 32/32 [00:09<00:00,  3.32it/s]"
     ]
    },
    {
     "name": "stdout",
     "output_type": "stream",
     "text": [
      "                   all       1002       1002          1          1      0.995      0.915      0.993      0.993      0.994      0.774\n"
     ]
    },
    {
     "name": "stderr",
     "output_type": "stream",
     "text": [
      "\n"
     ]
    },
    {
     "name": "stdout",
     "output_type": "stream",
     "text": [
      "\n",
      "      Epoch    GPU_mem   box_loss  pose_loss  kobj_loss   cls_loss   dfl_loss  Instances       Size\n"
     ]
    },
    {
     "name": "stderr",
     "output_type": "stream",
     "text": [
      "     84/200      2.37G      0.481      2.005     0.2449     0.2854     0.8995         25        640: 100%|██████████| 657/657 [01:31<00:00,  7.20it/s]\n",
      "                 Class     Images  Instances      Box(P          R      mAP50  mAP50-95)     Pose(P          R      mAP50  mAP50-95): 100%|██████████| 32/32 [00:09<00:00,  3.32it/s]"
     ]
    },
    {
     "name": "stdout",
     "output_type": "stream",
     "text": [
      "                   all       1002       1002          1          1      0.995      0.915      0.993      0.993      0.994      0.774\n"
     ]
    },
    {
     "name": "stderr",
     "output_type": "stream",
     "text": [
      "\n"
     ]
    },
    {
     "name": "stdout",
     "output_type": "stream",
     "text": [
      "\n",
      "      Epoch    GPU_mem   box_loss  pose_loss  kobj_loss   cls_loss   dfl_loss  Instances       Size\n"
     ]
    },
    {
     "name": "stderr",
     "output_type": "stream",
     "text": [
      "     85/200      2.37G     0.4845      2.014     0.2491     0.2868     0.9031         33        640: 100%|██████████| 657/657 [01:31<00:00,  7.17it/s]\n",
      "                 Class     Images  Instances      Box(P          R      mAP50  mAP50-95)     Pose(P          R      mAP50  mAP50-95): 100%|██████████| 32/32 [00:09<00:00,  3.40it/s]"
     ]
    },
    {
     "name": "stdout",
     "output_type": "stream",
     "text": [
      "                   all       1002       1002          1          1      0.995      0.917      0.994      0.994      0.995      0.772\n"
     ]
    },
    {
     "name": "stderr",
     "output_type": "stream",
     "text": [
      "\n"
     ]
    },
    {
     "name": "stdout",
     "output_type": "stream",
     "text": [
      "\n",
      "      Epoch    GPU_mem   box_loss  pose_loss  kobj_loss   cls_loss   dfl_loss  Instances       Size\n"
     ]
    },
    {
     "name": "stderr",
     "output_type": "stream",
     "text": [
      "     86/200      2.37G      0.481      2.024     0.2468     0.2845     0.9001         25        640: 100%|██████████| 657/657 [01:30<00:00,  7.28it/s]\n",
      "                 Class     Images  Instances      Box(P          R      mAP50  mAP50-95)     Pose(P          R      mAP50  mAP50-95): 100%|██████████| 32/32 [00:09<00:00,  3.32it/s]"
     ]
    },
    {
     "name": "stdout",
     "output_type": "stream",
     "text": [
      "                   all       1002       1002          1          1      0.995      0.916      0.992      0.992      0.994      0.765\n"
     ]
    },
    {
     "name": "stderr",
     "output_type": "stream",
     "text": [
      "\n"
     ]
    },
    {
     "name": "stdout",
     "output_type": "stream",
     "text": [
      "\n",
      "      Epoch    GPU_mem   box_loss  pose_loss  kobj_loss   cls_loss   dfl_loss  Instances       Size\n"
     ]
    },
    {
     "name": "stderr",
     "output_type": "stream",
     "text": [
      "     87/200      2.37G      0.477      1.996     0.2448     0.2836     0.8986         36        640: 100%|██████████| 657/657 [01:31<00:00,  7.19it/s]\n",
      "                 Class     Images  Instances      Box(P          R      mAP50  mAP50-95)     Pose(P          R      mAP50  mAP50-95): 100%|██████████| 32/32 [00:09<00:00,  3.40it/s]"
     ]
    },
    {
     "name": "stdout",
     "output_type": "stream",
     "text": [
      "                   all       1002       1002          1          1      0.995      0.914      0.994      0.994      0.994      0.762\n"
     ]
    },
    {
     "name": "stderr",
     "output_type": "stream",
     "text": [
      "\n"
     ]
    },
    {
     "name": "stdout",
     "output_type": "stream",
     "text": [
      "\n",
      "      Epoch    GPU_mem   box_loss  pose_loss  kobj_loss   cls_loss   dfl_loss  Instances       Size\n"
     ]
    },
    {
     "name": "stderr",
     "output_type": "stream",
     "text": [
      "     88/200      2.37G     0.4819      2.007     0.2422      0.283     0.9015         29        640: 100%|██████████| 657/657 [01:31<00:00,  7.17it/s]\n",
      "                 Class     Images  Instances      Box(P          R      mAP50  mAP50-95)     Pose(P          R      mAP50  mAP50-95): 100%|██████████| 32/32 [00:09<00:00,  3.33it/s]"
     ]
    },
    {
     "name": "stdout",
     "output_type": "stream",
     "text": [
      "                   all       1002       1002          1          1      0.995      0.914      0.994      0.994      0.994      0.761\n"
     ]
    },
    {
     "name": "stderr",
     "output_type": "stream",
     "text": [
      "\n"
     ]
    },
    {
     "name": "stdout",
     "output_type": "stream",
     "text": [
      "\n",
      "      Epoch    GPU_mem   box_loss  pose_loss  kobj_loss   cls_loss   dfl_loss  Instances       Size\n"
     ]
    },
    {
     "name": "stderr",
     "output_type": "stream",
     "text": [
      "     89/200      2.37G     0.4733      1.959      0.241     0.2811     0.8991         27        640: 100%|██████████| 657/657 [01:31<00:00,  7.21it/s]\n",
      "                 Class     Images  Instances      Box(P          R      mAP50  mAP50-95)     Pose(P          R      mAP50  mAP50-95): 100%|██████████| 32/32 [00:09<00:00,  3.38it/s]"
     ]
    },
    {
     "name": "stdout",
     "output_type": "stream",
     "text": [
      "                   all       1002       1002          1          1      0.995      0.915      0.994      0.994      0.994      0.762\n"
     ]
    },
    {
     "name": "stderr",
     "output_type": "stream",
     "text": [
      "\n"
     ]
    },
    {
     "name": "stdout",
     "output_type": "stream",
     "text": [
      "\n",
      "      Epoch    GPU_mem   box_loss  pose_loss  kobj_loss   cls_loss   dfl_loss  Instances       Size\n"
     ]
    },
    {
     "name": "stderr",
     "output_type": "stream",
     "text": [
      "     90/200      2.37G     0.4733      1.943     0.2437     0.2785      0.898         25        640: 100%|██████████| 657/657 [01:30<00:00,  7.25it/s]\n",
      "                 Class     Images  Instances      Box(P          R      mAP50  mAP50-95)     Pose(P          R      mAP50  mAP50-95): 100%|██████████| 32/32 [00:09<00:00,  3.39it/s]"
     ]
    },
    {
     "name": "stdout",
     "output_type": "stream",
     "text": [
      "                   all       1002       1002          1          1      0.995      0.916      0.994      0.994      0.994      0.762\n"
     ]
    },
    {
     "name": "stderr",
     "output_type": "stream",
     "text": [
      "\n"
     ]
    },
    {
     "name": "stdout",
     "output_type": "stream",
     "text": [
      "\n",
      "      Epoch    GPU_mem   box_loss  pose_loss  kobj_loss   cls_loss   dfl_loss  Instances       Size\n"
     ]
    },
    {
     "name": "stderr",
     "output_type": "stream",
     "text": [
      "     91/200      2.37G     0.4757      1.976     0.2422     0.2816     0.8996         19        640: 100%|██████████| 657/657 [01:30<00:00,  7.23it/s]\n",
      "                 Class     Images  Instances      Box(P          R      mAP50  mAP50-95)     Pose(P          R      mAP50  mAP50-95): 100%|██████████| 32/32 [00:09<00:00,  3.35it/s]"
     ]
    },
    {
     "name": "stdout",
     "output_type": "stream",
     "text": [
      "                   all       1002       1002          1          1      0.995      0.917      0.995      0.995      0.995       0.76\n"
     ]
    },
    {
     "name": "stderr",
     "output_type": "stream",
     "text": [
      "\n"
     ]
    },
    {
     "name": "stdout",
     "output_type": "stream",
     "text": [
      "\n",
      "      Epoch    GPU_mem   box_loss  pose_loss  kobj_loss   cls_loss   dfl_loss  Instances       Size\n"
     ]
    },
    {
     "name": "stderr",
     "output_type": "stream",
     "text": [
      "     92/200      2.37G     0.4764      1.971     0.2428     0.2841     0.8994         29        640: 100%|██████████| 657/657 [01:31<00:00,  7.16it/s]\n",
      "                 Class     Images  Instances      Box(P          R      mAP50  mAP50-95)     Pose(P          R      mAP50  mAP50-95): 100%|██████████| 32/32 [00:09<00:00,  3.36it/s]"
     ]
    },
    {
     "name": "stdout",
     "output_type": "stream",
     "text": [
      "                   all       1002       1002          1          1      0.995      0.917      0.995      0.995      0.995      0.759\n"
     ]
    },
    {
     "name": "stderr",
     "output_type": "stream",
     "text": [
      "\n"
     ]
    },
    {
     "name": "stdout",
     "output_type": "stream",
     "text": [
      "\n",
      "      Epoch    GPU_mem   box_loss  pose_loss  kobj_loss   cls_loss   dfl_loss  Instances       Size\n"
     ]
    },
    {
     "name": "stderr",
     "output_type": "stream",
     "text": [
      "     93/200      2.37G     0.4782      1.976     0.2422      0.282     0.9018         28        640: 100%|██████████| 657/657 [01:30<00:00,  7.25it/s]\n",
      "                 Class     Images  Instances      Box(P          R      mAP50  mAP50-95)     Pose(P          R      mAP50  mAP50-95): 100%|██████████| 32/32 [00:09<00:00,  3.34it/s]"
     ]
    },
    {
     "name": "stdout",
     "output_type": "stream",
     "text": [
      "                   all       1002       1002          1          1      0.995      0.917      0.995      0.995      0.995       0.76\n"
     ]
    },
    {
     "name": "stderr",
     "output_type": "stream",
     "text": [
      "\n"
     ]
    },
    {
     "name": "stdout",
     "output_type": "stream",
     "text": [
      "\n",
      "      Epoch    GPU_mem   box_loss  pose_loss  kobj_loss   cls_loss   dfl_loss  Instances       Size\n"
     ]
    },
    {
     "name": "stderr",
     "output_type": "stream",
     "text": [
      "     94/200      2.37G     0.4736      1.951     0.2407     0.2815     0.8982         29        640: 100%|██████████| 657/657 [01:31<00:00,  7.21it/s]\n",
      "                 Class     Images  Instances      Box(P          R      mAP50  mAP50-95)     Pose(P          R      mAP50  mAP50-95): 100%|██████████| 32/32 [00:09<00:00,  3.43it/s]"
     ]
    },
    {
     "name": "stdout",
     "output_type": "stream",
     "text": [
      "                   all       1002       1002          1          1      0.995      0.918      0.995      0.995      0.995      0.761\n"
     ]
    },
    {
     "name": "stderr",
     "output_type": "stream",
     "text": [
      "\n"
     ]
    },
    {
     "name": "stdout",
     "output_type": "stream",
     "text": [
      "\n",
      "      Epoch    GPU_mem   box_loss  pose_loss  kobj_loss   cls_loss   dfl_loss  Instances       Size\n"
     ]
    },
    {
     "name": "stderr",
     "output_type": "stream",
     "text": [
      "     95/200      2.37G      0.472      1.937     0.2418     0.2787        0.9         32        640: 100%|██████████| 657/657 [01:29<00:00,  7.32it/s]\n",
      "                 Class     Images  Instances      Box(P          R      mAP50  mAP50-95)     Pose(P          R      mAP50  mAP50-95): 100%|██████████| 32/32 [00:09<00:00,  3.35it/s]"
     ]
    },
    {
     "name": "stdout",
     "output_type": "stream",
     "text": [
      "                   all       1002       1002          1          1      0.995      0.918      0.995      0.995      0.995      0.761\n"
     ]
    },
    {
     "name": "stderr",
     "output_type": "stream",
     "text": [
      "\n"
     ]
    },
    {
     "name": "stdout",
     "output_type": "stream",
     "text": [
      "\n",
      "      Epoch    GPU_mem   box_loss  pose_loss  kobj_loss   cls_loss   dfl_loss  Instances       Size\n"
     ]
    },
    {
     "name": "stderr",
     "output_type": "stream",
     "text": [
      "     96/200      2.37G      0.476      1.957     0.2394     0.2793     0.9016         24        640: 100%|██████████| 657/657 [01:30<00:00,  7.30it/s]\n",
      "                 Class     Images  Instances      Box(P          R      mAP50  mAP50-95)     Pose(P          R      mAP50  mAP50-95): 100%|██████████| 32/32 [00:09<00:00,  3.39it/s]"
     ]
    },
    {
     "name": "stdout",
     "output_type": "stream",
     "text": [
      "                   all       1002       1002          1          1      0.995      0.919      0.995      0.995      0.995      0.762\n"
     ]
    },
    {
     "name": "stderr",
     "output_type": "stream",
     "text": [
      "\n"
     ]
    },
    {
     "name": "stdout",
     "output_type": "stream",
     "text": [
      "\n",
      "      Epoch    GPU_mem   box_loss  pose_loss  kobj_loss   cls_loss   dfl_loss  Instances       Size\n"
     ]
    },
    {
     "name": "stderr",
     "output_type": "stream",
     "text": [
      "     97/200      2.37G     0.4683      1.929     0.2397     0.2754     0.8978         35        640: 100%|██████████| 657/657 [01:31<00:00,  7.20it/s]\n",
      "                 Class     Images  Instances      Box(P          R      mAP50  mAP50-95)     Pose(P          R      mAP50  mAP50-95): 100%|██████████| 32/32 [00:09<00:00,  3.43it/s]"
     ]
    },
    {
     "name": "stdout",
     "output_type": "stream",
     "text": [
      "                   all       1002       1002          1          1      0.995      0.919      0.994      0.994      0.994      0.762\n"
     ]
    },
    {
     "name": "stderr",
     "output_type": "stream",
     "text": [
      "\n"
     ]
    },
    {
     "name": "stdout",
     "output_type": "stream",
     "text": [
      "\n",
      "      Epoch    GPU_mem   box_loss  pose_loss  kobj_loss   cls_loss   dfl_loss  Instances       Size\n"
     ]
    },
    {
     "name": "stderr",
     "output_type": "stream",
     "text": [
      "     98/200      2.37G     0.4686      1.926     0.2398     0.2768      0.898         43        640: 100%|██████████| 657/657 [01:32<00:00,  7.07it/s]\n",
      "                 Class     Images  Instances      Box(P          R      mAP50  mAP50-95)     Pose(P          R      mAP50  mAP50-95): 100%|██████████| 32/32 [00:09<00:00,  3.31it/s]"
     ]
    },
    {
     "name": "stdout",
     "output_type": "stream",
     "text": [
      "                   all       1002       1002          1          1      0.995      0.918      0.994      0.994      0.994      0.763\n"
     ]
    },
    {
     "name": "stderr",
     "output_type": "stream",
     "text": [
      "\n"
     ]
    },
    {
     "name": "stdout",
     "output_type": "stream",
     "text": [
      "\n",
      "      Epoch    GPU_mem   box_loss  pose_loss  kobj_loss   cls_loss   dfl_loss  Instances       Size\n"
     ]
    },
    {
     "name": "stderr",
     "output_type": "stream",
     "text": [
      "     99/200      2.37G     0.4709      1.938      0.237     0.2784     0.8979         28        640: 100%|██████████| 657/657 [01:33<00:00,  7.00it/s]\n",
      "                 Class     Images  Instances      Box(P          R      mAP50  mAP50-95)     Pose(P          R      mAP50  mAP50-95): 100%|██████████| 32/32 [00:09<00:00,  3.41it/s]"
     ]
    },
    {
     "name": "stdout",
     "output_type": "stream",
     "text": [
      "                   all       1002       1002          1          1      0.995      0.918      0.993      0.993      0.994      0.764\n"
     ]
    },
    {
     "name": "stderr",
     "output_type": "stream",
     "text": [
      "\n"
     ]
    },
    {
     "name": "stdout",
     "output_type": "stream",
     "text": [
      "\n",
      "      Epoch    GPU_mem   box_loss  pose_loss  kobj_loss   cls_loss   dfl_loss  Instances       Size\n"
     ]
    },
    {
     "name": "stderr",
     "output_type": "stream",
     "text": [
      "    100/200      2.37G     0.4668      1.886     0.2369     0.2764     0.8958         26        640: 100%|██████████| 657/657 [01:33<00:00,  6.99it/s]\n",
      "                 Class     Images  Instances      Box(P          R      mAP50  mAP50-95)     Pose(P          R      mAP50  mAP50-95): 100%|██████████| 32/32 [00:09<00:00,  3.32it/s]"
     ]
    },
    {
     "name": "stdout",
     "output_type": "stream",
     "text": [
      "                   all       1002       1002          1          1      0.995      0.917      0.993      0.993      0.994      0.764\n"
     ]
    },
    {
     "name": "stderr",
     "output_type": "stream",
     "text": [
      "\n"
     ]
    },
    {
     "name": "stdout",
     "output_type": "stream",
     "text": [
      "\n",
      "      Epoch    GPU_mem   box_loss  pose_loss  kobj_loss   cls_loss   dfl_loss  Instances       Size\n"
     ]
    },
    {
     "name": "stderr",
     "output_type": "stream",
     "text": [
      "    101/200      2.37G     0.4698      1.894     0.2383     0.2758     0.8978         27        640: 100%|██████████| 657/657 [01:31<00:00,  7.20it/s]\n",
      "                 Class     Images  Instances      Box(P          R      mAP50  mAP50-95)     Pose(P          R      mAP50  mAP50-95): 100%|██████████| 32/32 [00:09<00:00,  3.34it/s]"
     ]
    },
    {
     "name": "stdout",
     "output_type": "stream",
     "text": [
      "                   all       1002       1002          1          1      0.995      0.917      0.993      0.993      0.994      0.765\n"
     ]
    },
    {
     "name": "stderr",
     "output_type": "stream",
     "text": [
      "\n"
     ]
    },
    {
     "name": "stdout",
     "output_type": "stream",
     "text": [
      "\n",
      "      Epoch    GPU_mem   box_loss  pose_loss  kobj_loss   cls_loss   dfl_loss  Instances       Size\n"
     ]
    },
    {
     "name": "stderr",
     "output_type": "stream",
     "text": [
      "    102/200      2.37G     0.4672       1.89     0.2379     0.2767     0.8965         33        640: 100%|██████████| 657/657 [01:32<00:00,  7.13it/s]\n",
      "                 Class     Images  Instances      Box(P          R      mAP50  mAP50-95)     Pose(P          R      mAP50  mAP50-95): 100%|██████████| 32/32 [00:09<00:00,  3.23it/s]"
     ]
    },
    {
     "name": "stdout",
     "output_type": "stream",
     "text": [
      "                   all       1002       1002          1          1      0.995      0.917      0.993      0.993      0.994      0.766\n"
     ]
    },
    {
     "name": "stderr",
     "output_type": "stream",
     "text": [
      "\n"
     ]
    },
    {
     "name": "stdout",
     "output_type": "stream",
     "text": [
      "\n",
      "      Epoch    GPU_mem   box_loss  pose_loss  kobj_loss   cls_loss   dfl_loss  Instances       Size\n"
     ]
    },
    {
     "name": "stderr",
     "output_type": "stream",
     "text": [
      "    103/200      2.37G     0.4674      1.901     0.2378     0.2748      0.897         27        640: 100%|██████████| 657/657 [01:44<00:00,  6.31it/s]\n",
      "                 Class     Images  Instances      Box(P          R      mAP50  mAP50-95)     Pose(P          R      mAP50  mAP50-95): 100%|██████████| 32/32 [00:26<00:00,  1.20it/s]"
     ]
    },
    {
     "name": "stdout",
     "output_type": "stream",
     "text": [
      "                   all       1002       1002          1          1      0.995      0.917      0.992      0.992      0.994      0.768\n"
     ]
    },
    {
     "name": "stderr",
     "output_type": "stream",
     "text": [
      "\n"
     ]
    },
    {
     "name": "stdout",
     "output_type": "stream",
     "text": [
      "\n",
      "      Epoch    GPU_mem   box_loss  pose_loss  kobj_loss   cls_loss   dfl_loss  Instances       Size\n"
     ]
    },
    {
     "name": "stderr",
     "output_type": "stream",
     "text": [
      "    104/200      2.37G     0.4658      1.881     0.2367     0.2766     0.8973         25        640: 100%|██████████| 657/657 [01:39<00:00,  6.61it/s]\n",
      "                 Class     Images  Instances      Box(P          R      mAP50  mAP50-95)     Pose(P          R      mAP50  mAP50-95): 100%|██████████| 32/32 [00:09<00:00,  3.28it/s]"
     ]
    },
    {
     "name": "stdout",
     "output_type": "stream",
     "text": [
      "                   all       1002       1002          1          1      0.995      0.917      0.992      0.992      0.994      0.769\n"
     ]
    },
    {
     "name": "stderr",
     "output_type": "stream",
     "text": [
      "\n"
     ]
    },
    {
     "name": "stdout",
     "output_type": "stream",
     "text": [
      "\n",
      "      Epoch    GPU_mem   box_loss  pose_loss  kobj_loss   cls_loss   dfl_loss  Instances       Size\n"
     ]
    },
    {
     "name": "stderr",
     "output_type": "stream",
     "text": [
      "    105/200      2.37G      0.465      1.892     0.2387     0.2753     0.8986         28        640: 100%|██████████| 657/657 [01:31<00:00,  7.15it/s]\n",
      "                 Class     Images  Instances      Box(P          R      mAP50  mAP50-95)     Pose(P          R      mAP50  mAP50-95): 100%|██████████| 32/32 [00:09<00:00,  3.32it/s]"
     ]
    },
    {
     "name": "stdout",
     "output_type": "stream",
     "text": [
      "                   all       1002       1002          1          1      0.995      0.916      0.992      0.992      0.994       0.77\n"
     ]
    },
    {
     "name": "stderr",
     "output_type": "stream",
     "text": [
      "\n"
     ]
    },
    {
     "name": "stdout",
     "output_type": "stream",
     "text": [
      "\n",
      "      Epoch    GPU_mem   box_loss  pose_loss  kobj_loss   cls_loss   dfl_loss  Instances       Size\n"
     ]
    },
    {
     "name": "stderr",
     "output_type": "stream",
     "text": [
      "    106/200      2.37G     0.4634       1.88     0.2377     0.2737     0.8954         24        640: 100%|██████████| 657/657 [01:31<00:00,  7.17it/s]\n",
      "                 Class     Images  Instances      Box(P          R      mAP50  mAP50-95)     Pose(P          R      mAP50  mAP50-95): 100%|██████████| 32/32 [00:09<00:00,  3.34it/s]"
     ]
    },
    {
     "name": "stdout",
     "output_type": "stream",
     "text": [
      "                   all       1002       1002          1          1      0.995      0.917      0.992      0.992      0.994      0.771\n"
     ]
    },
    {
     "name": "stderr",
     "output_type": "stream",
     "text": [
      "\n"
     ]
    },
    {
     "name": "stdout",
     "output_type": "stream",
     "text": [
      "\n",
      "      Epoch    GPU_mem   box_loss  pose_loss  kobj_loss   cls_loss   dfl_loss  Instances       Size\n"
     ]
    },
    {
     "name": "stderr",
     "output_type": "stream",
     "text": [
      "    107/200      2.37G     0.4648      1.876     0.2363     0.2741     0.8962         32        640: 100%|██████████| 657/657 [01:31<00:00,  7.17it/s]\n",
      "                 Class     Images  Instances      Box(P          R      mAP50  mAP50-95)     Pose(P          R      mAP50  mAP50-95): 100%|██████████| 32/32 [00:09<00:00,  3.40it/s]"
     ]
    },
    {
     "name": "stdout",
     "output_type": "stream",
     "text": [
      "                   all       1002       1002          1          1      0.995      0.917      0.992      0.992      0.994      0.772\n"
     ]
    },
    {
     "name": "stderr",
     "output_type": "stream",
     "text": [
      "\n"
     ]
    },
    {
     "name": "stdout",
     "output_type": "stream",
     "text": [
      "\n",
      "      Epoch    GPU_mem   box_loss  pose_loss  kobj_loss   cls_loss   dfl_loss  Instances       Size\n"
     ]
    },
    {
     "name": "stderr",
     "output_type": "stream",
     "text": [
      "    108/200      2.37G     0.4643      1.856     0.2332      0.273     0.8952         23        640: 100%|██████████| 657/657 [01:30<00:00,  7.24it/s]\n",
      "                 Class     Images  Instances      Box(P          R      mAP50  mAP50-95)     Pose(P          R      mAP50  mAP50-95): 100%|██████████| 32/32 [00:09<00:00,  3.33it/s]"
     ]
    },
    {
     "name": "stdout",
     "output_type": "stream",
     "text": [
      "                   all       1002       1002          1          1      0.995      0.917      0.992      0.992      0.994      0.771\n"
     ]
    },
    {
     "name": "stderr",
     "output_type": "stream",
     "text": [
      "\n"
     ]
    },
    {
     "name": "stdout",
     "output_type": "stream",
     "text": [
      "\n",
      "      Epoch    GPU_mem   box_loss  pose_loss  kobj_loss   cls_loss   dfl_loss  Instances       Size\n"
     ]
    },
    {
     "name": "stderr",
     "output_type": "stream",
     "text": [
      "    109/200      2.37G     0.4645      1.856     0.2351     0.2733     0.8967         31        640: 100%|██████████| 657/657 [01:31<00:00,  7.16it/s]\n",
      "                 Class     Images  Instances      Box(P          R      mAP50  mAP50-95)     Pose(P          R      mAP50  mAP50-95): 100%|██████████| 32/32 [00:09<00:00,  3.32it/s]"
     ]
    },
    {
     "name": "stdout",
     "output_type": "stream",
     "text": [
      "                   all       1002       1002          1          1      0.995      0.917      0.992      0.992      0.994      0.772\n"
     ]
    },
    {
     "name": "stderr",
     "output_type": "stream",
     "text": [
      "\n"
     ]
    },
    {
     "name": "stdout",
     "output_type": "stream",
     "text": [
      "\n",
      "      Epoch    GPU_mem   box_loss  pose_loss  kobj_loss   cls_loss   dfl_loss  Instances       Size\n"
     ]
    },
    {
     "name": "stderr",
     "output_type": "stream",
     "text": [
      "    110/200      2.37G     0.4641      1.888     0.2354     0.2755     0.8963         33        640:  77%|███████▋  | 505/657 [01:09<00:22,  6.88it/s]wandb: Network error (ReadTimeout), entering retry loop.\n",
      "    110/200      2.37G     0.4631      1.872     0.2353     0.2755     0.8952         31        640: 100%|██████████| 657/657 [01:30<00:00,  7.23it/s]\n",
      "                 Class     Images  Instances      Box(P          R      mAP50  mAP50-95)     Pose(P          R      mAP50  mAP50-95): 100%|██████████| 32/32 [00:09<00:00,  3.39it/s]"
     ]
    },
    {
     "name": "stdout",
     "output_type": "stream",
     "text": [
      "                   all       1002       1002          1          1      0.995      0.917      0.991      0.991      0.994      0.772\n"
     ]
    },
    {
     "name": "stderr",
     "output_type": "stream",
     "text": [
      "\n"
     ]
    },
    {
     "name": "stdout",
     "output_type": "stream",
     "text": [
      "\n",
      "      Epoch    GPU_mem   box_loss  pose_loss  kobj_loss   cls_loss   dfl_loss  Instances       Size\n"
     ]
    },
    {
     "name": "stderr",
     "output_type": "stream",
     "text": [
      "    111/200      2.37G     0.4579       1.84     0.2336     0.2709     0.8951         33        640: 100%|██████████| 657/657 [01:30<00:00,  7.27it/s]\n",
      "                 Class     Images  Instances      Box(P          R      mAP50  mAP50-95)     Pose(P          R      mAP50  mAP50-95): 100%|██████████| 32/32 [00:09<00:00,  3.45it/s]"
     ]
    },
    {
     "name": "stdout",
     "output_type": "stream",
     "text": [
      "                   all       1002       1002          1          1      0.995      0.917      0.991      0.991      0.994      0.772\n"
     ]
    },
    {
     "name": "stderr",
     "output_type": "stream",
     "text": [
      "\n"
     ]
    },
    {
     "name": "stdout",
     "output_type": "stream",
     "text": [
      "\n",
      "      Epoch    GPU_mem   box_loss  pose_loss  kobj_loss   cls_loss   dfl_loss  Instances       Size\n"
     ]
    },
    {
     "name": "stderr",
     "output_type": "stream",
     "text": [
      "    112/200      2.37G     0.4532      1.822     0.2348     0.2679     0.8925         34        640: 100%|██████████| 657/657 [01:32<00:00,  7.14it/s]\n",
      "                 Class     Images  Instances      Box(P          R      mAP50  mAP50-95)     Pose(P          R      mAP50  mAP50-95): 100%|██████████| 32/32 [00:09<00:00,  3.38it/s]"
     ]
    },
    {
     "name": "stdout",
     "output_type": "stream",
     "text": [
      "                   all       1002       1002          1          1      0.995      0.917      0.991      0.991      0.994      0.773\n"
     ]
    },
    {
     "name": "stderr",
     "output_type": "stream",
     "text": [
      "\n"
     ]
    },
    {
     "name": "stdout",
     "output_type": "stream",
     "text": [
      "\n",
      "      Epoch    GPU_mem   box_loss  pose_loss  kobj_loss   cls_loss   dfl_loss  Instances       Size\n"
     ]
    },
    {
     "name": "stderr",
     "output_type": "stream",
     "text": [
      "    113/200      2.37G     0.4588      1.861     0.2377     0.2724     0.8944         32        640: 100%|██████████| 657/657 [01:31<00:00,  7.17it/s]\n",
      "                 Class     Images  Instances      Box(P          R      mAP50  mAP50-95)     Pose(P          R      mAP50  mAP50-95): 100%|██████████| 32/32 [00:09<00:00,  3.39it/s]"
     ]
    },
    {
     "name": "stdout",
     "output_type": "stream",
     "text": [
      "                   all       1002       1002          1          1      0.995      0.917      0.991      0.991      0.994      0.772\n"
     ]
    },
    {
     "name": "stderr",
     "output_type": "stream",
     "text": [
      "\n"
     ]
    },
    {
     "name": "stdout",
     "output_type": "stream",
     "text": [
      "\n",
      "      Epoch    GPU_mem   box_loss  pose_loss  kobj_loss   cls_loss   dfl_loss  Instances       Size\n"
     ]
    },
    {
     "name": "stderr",
     "output_type": "stream",
     "text": [
      "    114/200      2.37G     0.4542      1.833     0.2338       0.27     0.8941         31        640: 100%|██████████| 657/657 [01:31<00:00,  7.18it/s]\n",
      "                 Class     Images  Instances      Box(P          R      mAP50  mAP50-95)     Pose(P          R      mAP50  mAP50-95): 100%|██████████| 32/32 [00:09<00:00,  3.45it/s]"
     ]
    },
    {
     "name": "stdout",
     "output_type": "stream",
     "text": [
      "                   all       1002       1002          1          1      0.995      0.917      0.991      0.991      0.994      0.773\n"
     ]
    },
    {
     "name": "stderr",
     "output_type": "stream",
     "text": [
      "\n"
     ]
    },
    {
     "name": "stdout",
     "output_type": "stream",
     "text": [
      "\n",
      "      Epoch    GPU_mem   box_loss  pose_loss  kobj_loss   cls_loss   dfl_loss  Instances       Size\n"
     ]
    },
    {
     "name": "stderr",
     "output_type": "stream",
     "text": [
      "    115/200      2.37G     0.4531       1.82     0.2331     0.2695     0.8928         24        640: 100%|██████████| 657/657 [01:30<00:00,  7.24it/s]\n",
      "                 Class     Images  Instances      Box(P          R      mAP50  mAP50-95)     Pose(P          R      mAP50  mAP50-95): 100%|██████████| 32/32 [00:09<00:00,  3.32it/s]"
     ]
    },
    {
     "name": "stdout",
     "output_type": "stream",
     "text": [
      "                   all       1002       1002          1          1      0.995      0.917      0.991      0.991      0.994      0.772\n"
     ]
    },
    {
     "name": "stderr",
     "output_type": "stream",
     "text": [
      "\n"
     ]
    },
    {
     "name": "stdout",
     "output_type": "stream",
     "text": [
      "\n",
      "      Epoch    GPU_mem   box_loss  pose_loss  kobj_loss   cls_loss   dfl_loss  Instances       Size\n"
     ]
    },
    {
     "name": "stderr",
     "output_type": "stream",
     "text": [
      "    116/200      2.37G     0.4566      1.836     0.2341      0.271      0.894         32        640: 100%|██████████| 657/657 [01:31<00:00,  7.18it/s]\n",
      "                 Class     Images  Instances      Box(P          R      mAP50  mAP50-95)     Pose(P          R      mAP50  mAP50-95): 100%|██████████| 32/32 [00:09<00:00,  3.34it/s]"
     ]
    },
    {
     "name": "stdout",
     "output_type": "stream",
     "text": [
      "                   all       1002       1002          1          1      0.995      0.917      0.991      0.991      0.994      0.773\n"
     ]
    },
    {
     "name": "stderr",
     "output_type": "stream",
     "text": [
      "\n"
     ]
    },
    {
     "name": "stdout",
     "output_type": "stream",
     "text": [
      "\n",
      "      Epoch    GPU_mem   box_loss  pose_loss  kobj_loss   cls_loss   dfl_loss  Instances       Size\n"
     ]
    },
    {
     "name": "stderr",
     "output_type": "stream",
     "text": [
      "    117/200      2.37G     0.4554      1.824     0.2348     0.2693     0.8939         35        640: 100%|██████████| 657/657 [01:31<00:00,  7.19it/s]\n",
      "                 Class     Images  Instances      Box(P          R      mAP50  mAP50-95)     Pose(P          R      mAP50  mAP50-95): 100%|██████████| 32/32 [00:09<00:00,  3.37it/s]"
     ]
    },
    {
     "name": "stdout",
     "output_type": "stream",
     "text": [
      "                   all       1002       1002          1          1      0.995      0.917      0.991      0.991      0.994      0.773\n"
     ]
    },
    {
     "name": "stderr",
     "output_type": "stream",
     "text": [
      "\n"
     ]
    },
    {
     "name": "stdout",
     "output_type": "stream",
     "text": [
      "\n",
      "      Epoch    GPU_mem   box_loss  pose_loss  kobj_loss   cls_loss   dfl_loss  Instances       Size\n"
     ]
    },
    {
     "name": "stderr",
     "output_type": "stream",
     "text": [
      "    118/200      2.37G     0.4502      1.795     0.2304     0.2667     0.8915         38        640: 100%|██████████| 657/657 [01:30<00:00,  7.23it/s]\n",
      "                 Class     Images  Instances      Box(P          R      mAP50  mAP50-95)     Pose(P          R      mAP50  mAP50-95): 100%|██████████| 32/32 [00:09<00:00,  3.41it/s]"
     ]
    },
    {
     "name": "stdout",
     "output_type": "stream",
     "text": [
      "                   all       1002       1002          1          1      0.995      0.917      0.991      0.991      0.994      0.774\n"
     ]
    },
    {
     "name": "stderr",
     "output_type": "stream",
     "text": [
      "\n"
     ]
    },
    {
     "name": "stdout",
     "output_type": "stream",
     "text": [
      "\n",
      "      Epoch    GPU_mem   box_loss  pose_loss  kobj_loss   cls_loss   dfl_loss  Instances       Size\n"
     ]
    },
    {
     "name": "stderr",
     "output_type": "stream",
     "text": [
      "    119/200      2.37G     0.4552      1.815     0.2298     0.2684     0.8934         24        640: 100%|██████████| 657/657 [01:30<00:00,  7.27it/s]\n",
      "                 Class     Images  Instances      Box(P          R      mAP50  mAP50-95)     Pose(P          R      mAP50  mAP50-95): 100%|██████████| 32/32 [00:09<00:00,  3.42it/s]"
     ]
    },
    {
     "name": "stdout",
     "output_type": "stream",
     "text": [
      "                   all       1002       1002          1          1      0.995      0.917      0.991      0.991      0.994      0.775\n"
     ]
    },
    {
     "name": "stderr",
     "output_type": "stream",
     "text": [
      "\n"
     ]
    },
    {
     "name": "stdout",
     "output_type": "stream",
     "text": [
      "\n",
      "      Epoch    GPU_mem   box_loss  pose_loss  kobj_loss   cls_loss   dfl_loss  Instances       Size\n"
     ]
    },
    {
     "name": "stderr",
     "output_type": "stream",
     "text": [
      "    120/200      2.37G     0.4498      1.793     0.2309      0.266     0.8919         36        640: 100%|██████████| 657/657 [01:30<00:00,  7.23it/s]\n",
      "                 Class     Images  Instances      Box(P          R      mAP50  mAP50-95)     Pose(P          R      mAP50  mAP50-95): 100%|██████████| 32/32 [00:09<00:00,  3.42it/s]"
     ]
    },
    {
     "name": "stdout",
     "output_type": "stream",
     "text": [
      "                   all       1002       1002          1          1      0.995      0.917      0.991      0.991      0.994      0.776\n"
     ]
    },
    {
     "name": "stderr",
     "output_type": "stream",
     "text": [
      "\n"
     ]
    },
    {
     "name": "stdout",
     "output_type": "stream",
     "text": [
      "\n",
      "      Epoch    GPU_mem   box_loss  pose_loss  kobj_loss   cls_loss   dfl_loss  Instances       Size\n"
     ]
    },
    {
     "name": "stderr",
     "output_type": "stream",
     "text": [
      "    121/200      2.37G     0.4494      1.753     0.2299     0.2641     0.8906         40        640: 100%|██████████| 657/657 [01:30<00:00,  7.23it/s]\n",
      "                 Class     Images  Instances      Box(P          R      mAP50  mAP50-95)     Pose(P          R      mAP50  mAP50-95): 100%|██████████| 32/32 [00:09<00:00,  3.37it/s]"
     ]
    },
    {
     "name": "stdout",
     "output_type": "stream",
     "text": [
      "                   all       1002       1002          1          1      0.995      0.917      0.991      0.991      0.994      0.775\n"
     ]
    },
    {
     "name": "stderr",
     "output_type": "stream",
     "text": [
      "\n"
     ]
    },
    {
     "name": "stdout",
     "output_type": "stream",
     "text": [
      "\n",
      "      Epoch    GPU_mem   box_loss  pose_loss  kobj_loss   cls_loss   dfl_loss  Instances       Size\n"
     ]
    },
    {
     "name": "stderr",
     "output_type": "stream",
     "text": [
      "    122/200      2.37G     0.4451      1.749     0.2283     0.2643     0.8894         33        640: 100%|██████████| 657/657 [01:31<00:00,  7.20it/s]\n",
      "                 Class     Images  Instances      Box(P          R      mAP50  mAP50-95)     Pose(P          R      mAP50  mAP50-95): 100%|██████████| 32/32 [00:09<00:00,  3.38it/s]"
     ]
    },
    {
     "name": "stdout",
     "output_type": "stream",
     "text": [
      "                   all       1002       1002          1          1      0.995      0.917      0.991      0.991      0.994      0.776\n"
     ]
    },
    {
     "name": "stderr",
     "output_type": "stream",
     "text": [
      "\n"
     ]
    },
    {
     "name": "stdout",
     "output_type": "stream",
     "text": [
      "\n",
      "      Epoch    GPU_mem   box_loss  pose_loss  kobj_loss   cls_loss   dfl_loss  Instances       Size\n"
     ]
    },
    {
     "name": "stderr",
     "output_type": "stream",
     "text": [
      "    123/200      2.37G     0.4463      1.766     0.2273     0.2655     0.8904         27        640: 100%|██████████| 657/657 [01:30<00:00,  7.28it/s]\n",
      "                 Class     Images  Instances      Box(P          R      mAP50  mAP50-95)     Pose(P          R      mAP50  mAP50-95): 100%|██████████| 32/32 [00:09<00:00,  3.32it/s]"
     ]
    },
    {
     "name": "stdout",
     "output_type": "stream",
     "text": [
      "                   all       1002       1002          1          1      0.995      0.917      0.991      0.991      0.994      0.777\n"
     ]
    },
    {
     "name": "stderr",
     "output_type": "stream",
     "text": [
      "\n"
     ]
    },
    {
     "name": "stdout",
     "output_type": "stream",
     "text": [
      "\n",
      "      Epoch    GPU_mem   box_loss  pose_loss  kobj_loss   cls_loss   dfl_loss  Instances       Size\n"
     ]
    },
    {
     "name": "stderr",
     "output_type": "stream",
     "text": [
      "    124/200      2.37G     0.4453      1.755     0.2295      0.265     0.8905         28        640: 100%|██████████| 657/657 [01:30<00:00,  7.25it/s]\n",
      "                 Class     Images  Instances      Box(P          R      mAP50  mAP50-95)     Pose(P          R      mAP50  mAP50-95): 100%|██████████| 32/32 [00:09<00:00,  3.37it/s]"
     ]
    },
    {
     "name": "stdout",
     "output_type": "stream",
     "text": [
      "                   all       1002       1002          1          1      0.995      0.917      0.991      0.991      0.994      0.776\n"
     ]
    },
    {
     "name": "stderr",
     "output_type": "stream",
     "text": [
      "\n"
     ]
    },
    {
     "name": "stdout",
     "output_type": "stream",
     "text": [
      "\n",
      "      Epoch    GPU_mem   box_loss  pose_loss  kobj_loss   cls_loss   dfl_loss  Instances       Size\n"
     ]
    },
    {
     "name": "stderr",
     "output_type": "stream",
     "text": [
      "    125/200      2.37G     0.4469      1.746     0.2291     0.2653     0.8916         28        640: 100%|██████████| 657/657 [01:30<00:00,  7.29it/s]\n",
      "                 Class     Images  Instances      Box(P          R      mAP50  mAP50-95)     Pose(P          R      mAP50  mAP50-95): 100%|██████████| 32/32 [00:09<00:00,  3.41it/s]"
     ]
    },
    {
     "name": "stdout",
     "output_type": "stream",
     "text": [
      "                   all       1002       1002          1          1      0.995      0.917      0.991      0.991      0.994      0.776\n"
     ]
    },
    {
     "name": "stderr",
     "output_type": "stream",
     "text": [
      "\n"
     ]
    },
    {
     "name": "stdout",
     "output_type": "stream",
     "text": [
      "\n",
      "      Epoch    GPU_mem   box_loss  pose_loss  kobj_loss   cls_loss   dfl_loss  Instances       Size\n"
     ]
    },
    {
     "name": "stderr",
     "output_type": "stream",
     "text": [
      "    126/200      2.37G     0.4434      1.711     0.2289     0.2637     0.8918         27        640: 100%|██████████| 657/657 [01:31<00:00,  7.17it/s]\n",
      "                 Class     Images  Instances      Box(P          R      mAP50  mAP50-95)     Pose(P          R      mAP50  mAP50-95): 100%|██████████| 32/32 [00:09<00:00,  3.35it/s]"
     ]
    },
    {
     "name": "stdout",
     "output_type": "stream",
     "text": [
      "                   all       1002       1002          1          1      0.995      0.917      0.991      0.991      0.994      0.776\n"
     ]
    },
    {
     "name": "stderr",
     "output_type": "stream",
     "text": [
      "\n"
     ]
    },
    {
     "name": "stdout",
     "output_type": "stream",
     "text": [
      "\n",
      "      Epoch    GPU_mem   box_loss  pose_loss  kobj_loss   cls_loss   dfl_loss  Instances       Size\n"
     ]
    },
    {
     "name": "stderr",
     "output_type": "stream",
     "text": [
      "    127/200      2.37G     0.4438      1.745     0.2314     0.2635     0.8906         30        640: 100%|██████████| 657/657 [01:30<00:00,  7.29it/s]\n",
      "                 Class     Images  Instances      Box(P          R      mAP50  mAP50-95)     Pose(P          R      mAP50  mAP50-95): 100%|██████████| 32/32 [00:09<00:00,  3.45it/s]"
     ]
    },
    {
     "name": "stdout",
     "output_type": "stream",
     "text": [
      "                   all       1002       1002          1          1      0.995      0.917      0.991      0.991      0.994      0.776\n"
     ]
    },
    {
     "name": "stderr",
     "output_type": "stream",
     "text": [
      "\n"
     ]
    },
    {
     "name": "stdout",
     "output_type": "stream",
     "text": [
      "\n",
      "      Epoch    GPU_mem   box_loss  pose_loss  kobj_loss   cls_loss   dfl_loss  Instances       Size\n"
     ]
    },
    {
     "name": "stderr",
     "output_type": "stream",
     "text": [
      "    128/200      2.37G     0.4416      1.724     0.2272     0.2612     0.8883         31        640: 100%|██████████| 657/657 [01:30<00:00,  7.26it/s]\n",
      "                 Class     Images  Instances      Box(P          R      mAP50  mAP50-95)     Pose(P          R      mAP50  mAP50-95): 100%|██████████| 32/32 [00:09<00:00,  3.42it/s]"
     ]
    },
    {
     "name": "stdout",
     "output_type": "stream",
     "text": [
      "                   all       1002       1002          1          1      0.995      0.917      0.991      0.991      0.994      0.777\n"
     ]
    },
    {
     "name": "stderr",
     "output_type": "stream",
     "text": [
      "\n"
     ]
    },
    {
     "name": "stdout",
     "output_type": "stream",
     "text": [
      "\n",
      "      Epoch    GPU_mem   box_loss  pose_loss  kobj_loss   cls_loss   dfl_loss  Instances       Size\n"
     ]
    },
    {
     "name": "stderr",
     "output_type": "stream",
     "text": [
      "    129/200      2.37G     0.4443      1.742     0.2257     0.2633     0.8884         31        640: 100%|██████████| 657/657 [01:30<00:00,  7.27it/s]\n",
      "                 Class     Images  Instances      Box(P          R      mAP50  mAP50-95)     Pose(P          R      mAP50  mAP50-95): 100%|██████████| 32/32 [00:09<00:00,  3.43it/s]"
     ]
    },
    {
     "name": "stdout",
     "output_type": "stream",
     "text": [
      "                   all       1002       1002          1          1      0.995      0.916      0.991      0.991      0.994      0.777\n"
     ]
    },
    {
     "name": "stderr",
     "output_type": "stream",
     "text": [
      "\n"
     ]
    },
    {
     "name": "stdout",
     "output_type": "stream",
     "text": [
      "\n",
      "      Epoch    GPU_mem   box_loss  pose_loss  kobj_loss   cls_loss   dfl_loss  Instances       Size\n"
     ]
    },
    {
     "name": "stderr",
     "output_type": "stream",
     "text": [
      "    130/200      2.37G     0.4387      1.692     0.2249     0.2604     0.8889         29        640: 100%|██████████| 657/657 [01:31<00:00,  7.22it/s]\n",
      "                 Class     Images  Instances      Box(P          R      mAP50  mAP50-95)     Pose(P          R      mAP50  mAP50-95): 100%|██████████| 32/32 [00:09<00:00,  3.34it/s]"
     ]
    },
    {
     "name": "stdout",
     "output_type": "stream",
     "text": [
      "                   all       1002       1002          1          1      0.995      0.916      0.991      0.991      0.994      0.777\n"
     ]
    },
    {
     "name": "stderr",
     "output_type": "stream",
     "text": [
      "\n"
     ]
    },
    {
     "name": "stdout",
     "output_type": "stream",
     "text": [
      "\n",
      "      Epoch    GPU_mem   box_loss  pose_loss  kobj_loss   cls_loss   dfl_loss  Instances       Size\n"
     ]
    },
    {
     "name": "stderr",
     "output_type": "stream",
     "text": [
      "    131/200      2.37G     0.4417      1.721      0.226     0.2618     0.8905         29        640: 100%|██████████| 657/657 [01:30<00:00,  7.24it/s]\n",
      "                 Class     Images  Instances      Box(P          R      mAP50  mAP50-95)     Pose(P          R      mAP50  mAP50-95): 100%|██████████| 32/32 [00:09<00:00,  3.42it/s]"
     ]
    },
    {
     "name": "stdout",
     "output_type": "stream",
     "text": [
      "                   all       1002       1002          1          1      0.995      0.917      0.991      0.991      0.994      0.777\n"
     ]
    },
    {
     "name": "stderr",
     "output_type": "stream",
     "text": [
      "\n"
     ]
    },
    {
     "name": "stdout",
     "output_type": "stream",
     "text": [
      "\n",
      "      Epoch    GPU_mem   box_loss  pose_loss  kobj_loss   cls_loss   dfl_loss  Instances       Size\n"
     ]
    },
    {
     "name": "stderr",
     "output_type": "stream",
     "text": [
      "    132/200      2.37G     0.4393      1.707     0.2249     0.2605      0.889         26        640: 100%|██████████| 657/657 [01:30<00:00,  7.26it/s]\n",
      "                 Class     Images  Instances      Box(P          R      mAP50  mAP50-95)     Pose(P          R      mAP50  mAP50-95): 100%|██████████| 32/32 [00:09<00:00,  3.41it/s]"
     ]
    },
    {
     "name": "stdout",
     "output_type": "stream",
     "text": [
      "                   all       1002       1002          1          1      0.995      0.916      0.991      0.991      0.994      0.778\n"
     ]
    },
    {
     "name": "stderr",
     "output_type": "stream",
     "text": [
      "\n"
     ]
    },
    {
     "name": "stdout",
     "output_type": "stream",
     "text": [
      "\n",
      "      Epoch    GPU_mem   box_loss  pose_loss  kobj_loss   cls_loss   dfl_loss  Instances       Size\n"
     ]
    },
    {
     "name": "stderr",
     "output_type": "stream",
     "text": [
      "    133/200      2.37G     0.4349      1.696     0.2266      0.259     0.8886         27        640: 100%|██████████| 657/657 [01:30<00:00,  7.26it/s]\n",
      "                 Class     Images  Instances      Box(P          R      mAP50  mAP50-95)     Pose(P          R      mAP50  mAP50-95): 100%|██████████| 32/32 [00:09<00:00,  3.39it/s]"
     ]
    },
    {
     "name": "stdout",
     "output_type": "stream",
     "text": [
      "                   all       1002       1002          1          1      0.995      0.916      0.991      0.991      0.994      0.778\n"
     ]
    },
    {
     "name": "stderr",
     "output_type": "stream",
     "text": [
      "\n"
     ]
    },
    {
     "name": "stdout",
     "output_type": "stream",
     "text": [
      "\n",
      "      Epoch    GPU_mem   box_loss  pose_loss  kobj_loss   cls_loss   dfl_loss  Instances       Size\n"
     ]
    },
    {
     "name": "stderr",
     "output_type": "stream",
     "text": [
      "    134/200      2.37G     0.4368      1.694     0.2239     0.2605     0.8876         30        640: 100%|██████████| 657/657 [01:31<00:00,  7.19it/s]\n",
      "                 Class     Images  Instances      Box(P          R      mAP50  mAP50-95)     Pose(P          R      mAP50  mAP50-95): 100%|██████████| 32/32 [00:09<00:00,  3.53it/s]"
     ]
    },
    {
     "name": "stdout",
     "output_type": "stream",
     "text": [
      "                   all       1002       1002          1          1      0.995      0.916       0.99       0.99      0.994      0.777\n"
     ]
    },
    {
     "name": "stderr",
     "output_type": "stream",
     "text": [
      "\n"
     ]
    },
    {
     "name": "stdout",
     "output_type": "stream",
     "text": [
      "\n",
      "      Epoch    GPU_mem   box_loss  pose_loss  kobj_loss   cls_loss   dfl_loss  Instances       Size\n"
     ]
    },
    {
     "name": "stderr",
     "output_type": "stream",
     "text": [
      "    135/200      2.37G     0.4348      1.674     0.2275     0.2599     0.8865         35        640: 100%|██████████| 657/657 [01:31<00:00,  7.18it/s]\n",
      "                 Class     Images  Instances      Box(P          R      mAP50  mAP50-95)     Pose(P          R      mAP50  mAP50-95): 100%|██████████| 32/32 [00:09<00:00,  3.35it/s]"
     ]
    },
    {
     "name": "stdout",
     "output_type": "stream",
     "text": [
      "                   all       1002       1002          1          1      0.995      0.916       0.99       0.99      0.994      0.778\n"
     ]
    },
    {
     "name": "stderr",
     "output_type": "stream",
     "text": [
      "\n"
     ]
    },
    {
     "name": "stdout",
     "output_type": "stream",
     "text": [
      "\n",
      "      Epoch    GPU_mem   box_loss  pose_loss  kobj_loss   cls_loss   dfl_loss  Instances       Size\n"
     ]
    },
    {
     "name": "stderr",
     "output_type": "stream",
     "text": [
      "    136/200      2.37G     0.4338      1.689     0.2249     0.2575     0.8878         34        640: 100%|██████████| 657/657 [01:31<00:00,  7.15it/s]\n",
      "                 Class     Images  Instances      Box(P          R      mAP50  mAP50-95)     Pose(P          R      mAP50  mAP50-95): 100%|██████████| 32/32 [00:09<00:00,  3.35it/s]"
     ]
    },
    {
     "name": "stdout",
     "output_type": "stream",
     "text": [
      "                   all       1002       1002          1          1      0.995      0.916       0.99       0.99      0.994      0.779\n"
     ]
    },
    {
     "name": "stderr",
     "output_type": "stream",
     "text": [
      "\n"
     ]
    },
    {
     "name": "stdout",
     "output_type": "stream",
     "text": [
      "\n",
      "      Epoch    GPU_mem   box_loss  pose_loss  kobj_loss   cls_loss   dfl_loss  Instances       Size\n"
     ]
    },
    {
     "name": "stderr",
     "output_type": "stream",
     "text": [
      "    137/200      2.37G     0.4384      1.689     0.2248     0.2589     0.8884         35        640: 100%|██████████| 657/657 [01:31<00:00,  7.18it/s]\n",
      "                 Class     Images  Instances      Box(P          R      mAP50  mAP50-95)     Pose(P          R      mAP50  mAP50-95): 100%|██████████| 32/32 [00:06<00:00,  4.83it/s]"
     ]
    },
    {
     "name": "stdout",
     "output_type": "stream",
     "text": [
      "                   all       1002       1002          1          1      0.995      0.916       0.99       0.99      0.994      0.779\n"
     ]
    },
    {
     "name": "stderr",
     "output_type": "stream",
     "text": [
      "\n"
     ]
    },
    {
     "name": "stdout",
     "output_type": "stream",
     "text": [
      "\n",
      "      Epoch    GPU_mem   box_loss  pose_loss  kobj_loss   cls_loss   dfl_loss  Instances       Size\n"
     ]
    },
    {
     "name": "stderr",
     "output_type": "stream",
     "text": [
      "    138/200      2.37G     0.4347      1.673     0.2256      0.259     0.8885         28        640: 100%|██████████| 657/657 [01:01<00:00, 10.74it/s]\n",
      "                 Class     Images  Instances      Box(P          R      mAP50  mAP50-95)     Pose(P          R      mAP50  mAP50-95): 100%|██████████| 32/32 [00:04<00:00,  6.67it/s]"
     ]
    },
    {
     "name": "stdout",
     "output_type": "stream",
     "text": [
      "                   all       1002       1002          1          1      0.995      0.916       0.99       0.99      0.994      0.779\n"
     ]
    },
    {
     "name": "stderr",
     "output_type": "stream",
     "text": [
      "\n"
     ]
    },
    {
     "name": "stdout",
     "output_type": "stream",
     "text": [
      "\n",
      "      Epoch    GPU_mem   box_loss  pose_loss  kobj_loss   cls_loss   dfl_loss  Instances       Size\n"
     ]
    },
    {
     "name": "stderr",
     "output_type": "stream",
     "text": [
      "    139/200      2.37G     0.4303      1.641     0.2249     0.2572     0.8869         29        640: 100%|██████████| 657/657 [01:01<00:00, 10.76it/s]\n",
      "                 Class     Images  Instances      Box(P          R      mAP50  mAP50-95)     Pose(P          R      mAP50  mAP50-95): 100%|██████████| 32/32 [00:04<00:00,  6.78it/s]"
     ]
    },
    {
     "name": "stdout",
     "output_type": "stream",
     "text": [
      "                   all       1002       1002          1          1      0.995      0.915       0.99       0.99      0.994       0.78\n"
     ]
    },
    {
     "name": "stderr",
     "output_type": "stream",
     "text": [
      "\n"
     ]
    },
    {
     "name": "stdout",
     "output_type": "stream",
     "text": [
      "\n",
      "      Epoch    GPU_mem   box_loss  pose_loss  kobj_loss   cls_loss   dfl_loss  Instances       Size\n"
     ]
    },
    {
     "name": "stderr",
     "output_type": "stream",
     "text": [
      "    140/200      2.37G     0.4299      1.635     0.2232     0.2551      0.887         29        640: 100%|██████████| 657/657 [01:00<00:00, 10.84it/s]\n",
      "                 Class     Images  Instances      Box(P          R      mAP50  mAP50-95)     Pose(P          R      mAP50  mAP50-95): 100%|██████████| 32/32 [00:04<00:00,  6.89it/s]"
     ]
    },
    {
     "name": "stdout",
     "output_type": "stream",
     "text": [
      "                   all       1002       1002          1          1      0.995      0.916      0.991      0.991      0.994      0.779\n"
     ]
    },
    {
     "name": "stderr",
     "output_type": "stream",
     "text": [
      "\n"
     ]
    },
    {
     "name": "stdout",
     "output_type": "stream",
     "text": [
      "\n",
      "      Epoch    GPU_mem   box_loss  pose_loss  kobj_loss   cls_loss   dfl_loss  Instances       Size\n"
     ]
    },
    {
     "name": "stderr",
     "output_type": "stream",
     "text": [
      "    141/200      2.37G      0.428      1.632     0.2217     0.2548     0.8846         33        640: 100%|██████████| 657/657 [01:00<00:00, 10.77it/s]\n",
      "                 Class     Images  Instances      Box(P          R      mAP50  mAP50-95)     Pose(P          R      mAP50  mAP50-95): 100%|██████████| 32/32 [00:04<00:00,  6.78it/s]"
     ]
    },
    {
     "name": "stdout",
     "output_type": "stream",
     "text": [
      "                   all       1002       1002          1          1      0.995      0.916       0.99       0.99      0.994      0.779\n"
     ]
    },
    {
     "name": "stderr",
     "output_type": "stream",
     "text": [
      "\n"
     ]
    },
    {
     "name": "stdout",
     "output_type": "stream",
     "text": [
      "\n",
      "      Epoch    GPU_mem   box_loss  pose_loss  kobj_loss   cls_loss   dfl_loss  Instances       Size\n"
     ]
    },
    {
     "name": "stderr",
     "output_type": "stream",
     "text": [
      "    142/200      2.37G      0.429      1.617     0.2219     0.2559     0.8857         35        640: 100%|██████████| 657/657 [01:00<00:00, 10.77it/s]\n",
      "                 Class     Images  Instances      Box(P          R      mAP50  mAP50-95)     Pose(P          R      mAP50  mAP50-95): 100%|██████████| 32/32 [00:04<00:00,  7.64it/s]"
     ]
    },
    {
     "name": "stdout",
     "output_type": "stream",
     "text": [
      "                   all       1002       1002          1          1      0.995      0.916      0.991      0.991      0.994       0.78\n"
     ]
    },
    {
     "name": "stderr",
     "output_type": "stream",
     "text": [
      "\n"
     ]
    },
    {
     "name": "stdout",
     "output_type": "stream",
     "text": [
      "\n",
      "      Epoch    GPU_mem   box_loss  pose_loss  kobj_loss   cls_loss   dfl_loss  Instances       Size\n"
     ]
    },
    {
     "name": "stderr",
     "output_type": "stream",
     "text": [
      "    143/200      2.37G     0.4253      1.602     0.2217      0.251     0.8867         30        640: 100%|██████████| 657/657 [01:28<00:00,  7.46it/s]\n",
      "                 Class     Images  Instances      Box(P          R      mAP50  mAP50-95)     Pose(P          R      mAP50  mAP50-95): 100%|██████████| 32/32 [00:09<00:00,  3.39it/s]"
     ]
    },
    {
     "name": "stdout",
     "output_type": "stream",
     "text": [
      "                   all       1002       1002          1          1      0.995      0.915      0.991      0.991      0.994       0.78\n"
     ]
    },
    {
     "name": "stderr",
     "output_type": "stream",
     "text": [
      "\n"
     ]
    },
    {
     "name": "stdout",
     "output_type": "stream",
     "text": [
      "\n",
      "      Epoch    GPU_mem   box_loss  pose_loss  kobj_loss   cls_loss   dfl_loss  Instances       Size\n"
     ]
    },
    {
     "name": "stderr",
     "output_type": "stream",
     "text": [
      "    144/200      2.37G     0.4244      1.595     0.2189     0.2525     0.8855         29        640: 100%|██████████| 657/657 [01:31<00:00,  7.15it/s]\n",
      "                 Class     Images  Instances      Box(P          R      mAP50  mAP50-95)     Pose(P          R      mAP50  mAP50-95): 100%|██████████| 32/32 [00:09<00:00,  3.35it/s]"
     ]
    },
    {
     "name": "stdout",
     "output_type": "stream",
     "text": [
      "                   all       1002       1002          1          1      0.995      0.916      0.991      0.991      0.994       0.78\n"
     ]
    },
    {
     "name": "stderr",
     "output_type": "stream",
     "text": [
      "\n"
     ]
    },
    {
     "name": "stdout",
     "output_type": "stream",
     "text": [
      "\n",
      "      Epoch    GPU_mem   box_loss  pose_loss  kobj_loss   cls_loss   dfl_loss  Instances       Size\n"
     ]
    },
    {
     "name": "stderr",
     "output_type": "stream",
     "text": [
      "    145/200      2.37G     0.4216      1.608     0.2219     0.2517     0.8829         29        640: 100%|██████████| 657/657 [01:31<00:00,  7.20it/s]\n",
      "                 Class     Images  Instances      Box(P          R      mAP50  mAP50-95)     Pose(P          R      mAP50  mAP50-95): 100%|██████████| 32/32 [00:09<00:00,  3.33it/s]"
     ]
    },
    {
     "name": "stdout",
     "output_type": "stream",
     "text": [
      "                   all       1002       1002          1          1      0.995      0.916      0.991      0.991      0.994       0.78\n"
     ]
    },
    {
     "name": "stderr",
     "output_type": "stream",
     "text": [
      "\n"
     ]
    },
    {
     "name": "stdout",
     "output_type": "stream",
     "text": [
      "\n",
      "      Epoch    GPU_mem   box_loss  pose_loss  kobj_loss   cls_loss   dfl_loss  Instances       Size\n"
     ]
    },
    {
     "name": "stderr",
     "output_type": "stream",
     "text": [
      "    146/200      2.37G     0.4214      1.588     0.2212     0.2512     0.8833         34        640: 100%|██████████| 657/657 [01:32<00:00,  7.07it/s]\n",
      "                 Class     Images  Instances      Box(P          R      mAP50  mAP50-95)     Pose(P          R      mAP50  mAP50-95): 100%|██████████| 32/32 [00:09<00:00,  3.32it/s]"
     ]
    },
    {
     "name": "stdout",
     "output_type": "stream",
     "text": [
      "                   all       1002       1002          1          1      0.995      0.916      0.991      0.991      0.994      0.781\n"
     ]
    },
    {
     "name": "stderr",
     "output_type": "stream",
     "text": [
      "\n"
     ]
    },
    {
     "name": "stdout",
     "output_type": "stream",
     "text": [
      "\n",
      "      Epoch    GPU_mem   box_loss  pose_loss  kobj_loss   cls_loss   dfl_loss  Instances       Size\n"
     ]
    },
    {
     "name": "stderr",
     "output_type": "stream",
     "text": [
      "    147/200      2.37G     0.4172      1.558     0.2198     0.2486     0.8812         19        640: 100%|██████████| 657/657 [01:31<00:00,  7.19it/s]\n",
      "                 Class     Images  Instances      Box(P          R      mAP50  mAP50-95)     Pose(P          R      mAP50  mAP50-95): 100%|██████████| 32/32 [00:09<00:00,  3.33it/s]"
     ]
    },
    {
     "name": "stdout",
     "output_type": "stream",
     "text": [
      "                   all       1002       1002          1          1      0.995      0.915      0.991      0.991      0.994      0.781\n"
     ]
    },
    {
     "name": "stderr",
     "output_type": "stream",
     "text": [
      "\n"
     ]
    },
    {
     "name": "stdout",
     "output_type": "stream",
     "text": [
      "\n",
      "      Epoch    GPU_mem   box_loss  pose_loss  kobj_loss   cls_loss   dfl_loss  Instances       Size\n"
     ]
    },
    {
     "name": "stderr",
     "output_type": "stream",
     "text": [
      "    148/200      2.37G     0.4262      1.601     0.2213     0.2507     0.8872         29        640: 100%|██████████| 657/657 [01:32<00:00,  7.14it/s]\n",
      "                 Class     Images  Instances      Box(P          R      mAP50  mAP50-95)     Pose(P          R      mAP50  mAP50-95): 100%|██████████| 32/32 [00:09<00:00,  3.26it/s]"
     ]
    },
    {
     "name": "stdout",
     "output_type": "stream",
     "text": [
      "                   all       1002       1002          1          1      0.995      0.916      0.991      0.991      0.994      0.782\n"
     ]
    },
    {
     "name": "stderr",
     "output_type": "stream",
     "text": [
      "\n"
     ]
    },
    {
     "name": "stdout",
     "output_type": "stream",
     "text": [
      "\n",
      "      Epoch    GPU_mem   box_loss  pose_loss  kobj_loss   cls_loss   dfl_loss  Instances       Size\n"
     ]
    },
    {
     "name": "stderr",
     "output_type": "stream",
     "text": [
      "    149/200      2.37G     0.4229      1.579     0.2213     0.2498     0.8858         34        640: 100%|██████████| 657/657 [01:31<00:00,  7.20it/s]\n",
      "                 Class     Images  Instances      Box(P          R      mAP50  mAP50-95)     Pose(P          R      mAP50  mAP50-95): 100%|██████████| 32/32 [00:09<00:00,  3.38it/s]"
     ]
    },
    {
     "name": "stdout",
     "output_type": "stream",
     "text": [
      "                   all       1002       1002          1          1      0.995      0.916      0.991      0.991      0.994      0.782\n"
     ]
    },
    {
     "name": "stderr",
     "output_type": "stream",
     "text": [
      "\n"
     ]
    },
    {
     "name": "stdout",
     "output_type": "stream",
     "text": [
      "\n",
      "      Epoch    GPU_mem   box_loss  pose_loss  kobj_loss   cls_loss   dfl_loss  Instances       Size\n"
     ]
    },
    {
     "name": "stderr",
     "output_type": "stream",
     "text": [
      "    150/200      2.37G     0.4192      1.565     0.2172      0.249     0.8833         29        640: 100%|██████████| 657/657 [01:31<00:00,  7.18it/s]\n",
      "                 Class     Images  Instances      Box(P          R      mAP50  mAP50-95)     Pose(P          R      mAP50  mAP50-95): 100%|██████████| 32/32 [00:09<00:00,  3.36it/s]"
     ]
    },
    {
     "name": "stdout",
     "output_type": "stream",
     "text": [
      "                   all       1002       1002          1          1      0.995      0.915      0.991      0.991      0.994      0.782\n"
     ]
    },
    {
     "name": "stderr",
     "output_type": "stream",
     "text": [
      "\n"
     ]
    },
    {
     "name": "stdout",
     "output_type": "stream",
     "text": [
      "\n",
      "      Epoch    GPU_mem   box_loss  pose_loss  kobj_loss   cls_loss   dfl_loss  Instances       Size\n"
     ]
    },
    {
     "name": "stderr",
     "output_type": "stream",
     "text": [
      "    151/200      2.37G     0.4168      1.545     0.2189     0.2477     0.8817         30        640: 100%|██████████| 657/657 [01:32<00:00,  7.11it/s]\n",
      "                 Class     Images  Instances      Box(P          R      mAP50  mAP50-95)     Pose(P          R      mAP50  mAP50-95): 100%|██████████| 32/32 [00:09<00:00,  3.41it/s]"
     ]
    },
    {
     "name": "stdout",
     "output_type": "stream",
     "text": [
      "                   all       1002       1002          1          1      0.995      0.916      0.991      0.991      0.994      0.783\n"
     ]
    },
    {
     "name": "stderr",
     "output_type": "stream",
     "text": [
      "\n"
     ]
    },
    {
     "name": "stdout",
     "output_type": "stream",
     "text": [
      "\n",
      "      Epoch    GPU_mem   box_loss  pose_loss  kobj_loss   cls_loss   dfl_loss  Instances       Size\n"
     ]
    },
    {
     "name": "stderr",
     "output_type": "stream",
     "text": [
      "    152/200      2.37G     0.4172       1.56     0.2166     0.2473     0.8828         30        640: 100%|██████████| 657/657 [01:30<00:00,  7.23it/s]\n",
      "                 Class     Images  Instances      Box(P          R      mAP50  mAP50-95)     Pose(P          R      mAP50  mAP50-95): 100%|██████████| 32/32 [00:09<00:00,  3.44it/s]"
     ]
    },
    {
     "name": "stdout",
     "output_type": "stream",
     "text": [
      "                   all       1002       1002          1          1      0.995      0.916      0.991      0.991      0.994      0.783\n"
     ]
    },
    {
     "name": "stderr",
     "output_type": "stream",
     "text": [
      "\n"
     ]
    },
    {
     "name": "stdout",
     "output_type": "stream",
     "text": [
      "\n",
      "      Epoch    GPU_mem   box_loss  pose_loss  kobj_loss   cls_loss   dfl_loss  Instances       Size\n"
     ]
    },
    {
     "name": "stderr",
     "output_type": "stream",
     "text": [
      "    153/200      2.37G      0.419      1.556     0.2162     0.2465     0.8823         18        640: 100%|██████████| 657/657 [01:30<00:00,  7.25it/s]\n",
      "                 Class     Images  Instances      Box(P          R      mAP50  mAP50-95)     Pose(P          R      mAP50  mAP50-95): 100%|██████████| 32/32 [00:09<00:00,  3.38it/s]"
     ]
    },
    {
     "name": "stdout",
     "output_type": "stream",
     "text": [
      "                   all       1002       1002          1          1      0.995      0.916      0.991      0.991      0.994      0.783\n"
     ]
    },
    {
     "name": "stderr",
     "output_type": "stream",
     "text": [
      "\n"
     ]
    },
    {
     "name": "stdout",
     "output_type": "stream",
     "text": [
      "\n",
      "      Epoch    GPU_mem   box_loss  pose_loss  kobj_loss   cls_loss   dfl_loss  Instances       Size\n"
     ]
    },
    {
     "name": "stderr",
     "output_type": "stream",
     "text": [
      "    154/200      2.37G     0.4194      1.548     0.2158     0.2484     0.8829         39        640: 100%|██████████| 657/657 [01:31<00:00,  7.21it/s]\n",
      "                 Class     Images  Instances      Box(P          R      mAP50  mAP50-95)     Pose(P          R      mAP50  mAP50-95): 100%|██████████| 32/32 [00:09<00:00,  3.38it/s]"
     ]
    },
    {
     "name": "stdout",
     "output_type": "stream",
     "text": [
      "                   all       1002       1002          1          1      0.995      0.916      0.991      0.991      0.994      0.784\n"
     ]
    },
    {
     "name": "stderr",
     "output_type": "stream",
     "text": [
      "\n"
     ]
    },
    {
     "name": "stdout",
     "output_type": "stream",
     "text": [
      "\n",
      "      Epoch    GPU_mem   box_loss  pose_loss  kobj_loss   cls_loss   dfl_loss  Instances       Size\n"
     ]
    },
    {
     "name": "stderr",
     "output_type": "stream",
     "text": [
      "    155/200      2.37G     0.4165      1.534     0.2152     0.2472     0.8815         28        640: 100%|██████████| 657/657 [01:31<00:00,  7.16it/s]\n",
      "                 Class     Images  Instances      Box(P          R      mAP50  mAP50-95)     Pose(P          R      mAP50  mAP50-95): 100%|██████████| 32/32 [00:09<00:00,  3.39it/s]"
     ]
    },
    {
     "name": "stdout",
     "output_type": "stream",
     "text": [
      "                   all       1002       1002          1          1      0.995      0.916      0.991      0.991      0.994      0.783\n"
     ]
    },
    {
     "name": "stderr",
     "output_type": "stream",
     "text": [
      "\n"
     ]
    },
    {
     "name": "stdout",
     "output_type": "stream",
     "text": [
      "\n",
      "      Epoch    GPU_mem   box_loss  pose_loss  kobj_loss   cls_loss   dfl_loss  Instances       Size\n"
     ]
    },
    {
     "name": "stderr",
     "output_type": "stream",
     "text": [
      "    156/200      2.37G     0.4147       1.53     0.2166     0.2462      0.884         29        640: 100%|██████████| 657/657 [01:30<00:00,  7.25it/s]\n",
      "                 Class     Images  Instances      Box(P          R      mAP50  mAP50-95)     Pose(P          R      mAP50  mAP50-95): 100%|██████████| 32/32 [00:09<00:00,  3.38it/s]"
     ]
    },
    {
     "name": "stdout",
     "output_type": "stream",
     "text": [
      "                   all       1002       1002          1          1      0.995      0.916      0.991      0.991      0.994      0.784\n"
     ]
    },
    {
     "name": "stderr",
     "output_type": "stream",
     "text": [
      "\n"
     ]
    },
    {
     "name": "stdout",
     "output_type": "stream",
     "text": [
      "\n",
      "      Epoch    GPU_mem   box_loss  pose_loss  kobj_loss   cls_loss   dfl_loss  Instances       Size\n"
     ]
    },
    {
     "name": "stderr",
     "output_type": "stream",
     "text": [
      "    157/200      2.37G     0.4099      1.521     0.2161     0.2443     0.8812         32        640: 100%|██████████| 657/657 [01:31<00:00,  7.21it/s]\n",
      "                 Class     Images  Instances      Box(P          R      mAP50  mAP50-95)     Pose(P          R      mAP50  mAP50-95): 100%|██████████| 32/32 [00:09<00:00,  3.39it/s]"
     ]
    },
    {
     "name": "stdout",
     "output_type": "stream",
     "text": [
      "                   all       1002       1002          1          1      0.995      0.916      0.991      0.991      0.994      0.784\n"
     ]
    },
    {
     "name": "stderr",
     "output_type": "stream",
     "text": [
      "\n"
     ]
    },
    {
     "name": "stdout",
     "output_type": "stream",
     "text": [
      "\n",
      "      Epoch    GPU_mem   box_loss  pose_loss  kobj_loss   cls_loss   dfl_loss  Instances       Size\n"
     ]
    },
    {
     "name": "stderr",
     "output_type": "stream",
     "text": [
      "    158/200      2.37G     0.4125      1.507      0.215     0.2446     0.8792         34        640: 100%|██████████| 657/657 [01:31<00:00,  7.16it/s]\n",
      "                 Class     Images  Instances      Box(P          R      mAP50  mAP50-95)     Pose(P          R      mAP50  mAP50-95): 100%|██████████| 32/32 [00:09<00:00,  3.43it/s]"
     ]
    },
    {
     "name": "stdout",
     "output_type": "stream",
     "text": [
      "                   all       1002       1002          1          1      0.995      0.916      0.991      0.991      0.994      0.785\n"
     ]
    },
    {
     "name": "stderr",
     "output_type": "stream",
     "text": [
      "\n"
     ]
    },
    {
     "name": "stdout",
     "output_type": "stream",
     "text": [
      "\n",
      "      Epoch    GPU_mem   box_loss  pose_loss  kobj_loss   cls_loss   dfl_loss  Instances       Size\n"
     ]
    },
    {
     "name": "stderr",
     "output_type": "stream",
     "text": [
      "    159/200      2.37G     0.4078      1.492     0.2141     0.2431     0.8801         33        640: 100%|██████████| 657/657 [01:31<00:00,  7.17it/s]\n",
      "                 Class     Images  Instances      Box(P          R      mAP50  mAP50-95)     Pose(P          R      mAP50  mAP50-95): 100%|██████████| 32/32 [00:09<00:00,  3.37it/s]"
     ]
    },
    {
     "name": "stdout",
     "output_type": "stream",
     "text": [
      "                   all       1002       1002          1          1      0.995      0.916      0.991      0.991      0.994      0.786\n"
     ]
    },
    {
     "name": "stderr",
     "output_type": "stream",
     "text": [
      "\n"
     ]
    },
    {
     "name": "stdout",
     "output_type": "stream",
     "text": [
      "\n",
      "      Epoch    GPU_mem   box_loss  pose_loss  kobj_loss   cls_loss   dfl_loss  Instances       Size\n"
     ]
    },
    {
     "name": "stderr",
     "output_type": "stream",
     "text": [
      "    160/200      2.37G     0.4092      1.506     0.2162     0.2436     0.8803         33        640: 100%|██████████| 657/657 [01:31<00:00,  7.22it/s]\n",
      "                 Class     Images  Instances      Box(P          R      mAP50  mAP50-95)     Pose(P          R      mAP50  mAP50-95): 100%|██████████| 32/32 [00:09<00:00,  3.44it/s]"
     ]
    },
    {
     "name": "stdout",
     "output_type": "stream",
     "text": [
      "                   all       1002       1002          1          1      0.995      0.917      0.991      0.991      0.994      0.786\n"
     ]
    },
    {
     "name": "stderr",
     "output_type": "stream",
     "text": [
      "\n"
     ]
    },
    {
     "name": "stdout",
     "output_type": "stream",
     "text": [
      "\n",
      "      Epoch    GPU_mem   box_loss  pose_loss  kobj_loss   cls_loss   dfl_loss  Instances       Size\n"
     ]
    },
    {
     "name": "stderr",
     "output_type": "stream",
     "text": [
      "    161/200      2.37G     0.4057      1.484     0.2133     0.2406     0.8788         28        640: 100%|██████████| 657/657 [01:30<00:00,  7.26it/s]\n",
      "                 Class     Images  Instances      Box(P          R      mAP50  mAP50-95)     Pose(P          R      mAP50  mAP50-95): 100%|██████████| 32/32 [00:09<00:00,  3.37it/s]"
     ]
    },
    {
     "name": "stdout",
     "output_type": "stream",
     "text": [
      "                   all       1002       1002          1          1      0.995      0.917      0.991      0.991      0.994      0.786\n"
     ]
    },
    {
     "name": "stderr",
     "output_type": "stream",
     "text": [
      "\n"
     ]
    },
    {
     "name": "stdout",
     "output_type": "stream",
     "text": [
      "\n",
      "      Epoch    GPU_mem   box_loss  pose_loss  kobj_loss   cls_loss   dfl_loss  Instances       Size\n"
     ]
    },
    {
     "name": "stderr",
     "output_type": "stream",
     "text": [
      "    162/200      2.37G     0.4041      1.476     0.2124     0.2409     0.8812         25        640: 100%|██████████| 657/657 [01:31<00:00,  7.19it/s]\n",
      "                 Class     Images  Instances      Box(P          R      mAP50  mAP50-95)     Pose(P          R      mAP50  mAP50-95): 100%|██████████| 32/32 [00:09<00:00,  3.29it/s]"
     ]
    },
    {
     "name": "stdout",
     "output_type": "stream",
     "text": [
      "                   all       1002       1002          1          1      0.995      0.917      0.991      0.991      0.994      0.787\n"
     ]
    },
    {
     "name": "stderr",
     "output_type": "stream",
     "text": [
      "\n"
     ]
    },
    {
     "name": "stdout",
     "output_type": "stream",
     "text": [
      "\n",
      "      Epoch    GPU_mem   box_loss  pose_loss  kobj_loss   cls_loss   dfl_loss  Instances       Size\n"
     ]
    },
    {
     "name": "stderr",
     "output_type": "stream",
     "text": [
      "    163/200      2.37G     0.4049      1.468     0.2119     0.2402     0.8809         28        640: 100%|██████████| 657/657 [01:32<00:00,  7.12it/s]\n",
      "                 Class     Images  Instances      Box(P          R      mAP50  mAP50-95)     Pose(P          R      mAP50  mAP50-95): 100%|██████████| 32/32 [00:09<00:00,  3.38it/s]"
     ]
    },
    {
     "name": "stdout",
     "output_type": "stream",
     "text": [
      "                   all       1002       1002          1          1      0.995      0.917      0.991      0.991      0.994      0.787\n"
     ]
    },
    {
     "name": "stderr",
     "output_type": "stream",
     "text": [
      "\n"
     ]
    },
    {
     "name": "stdout",
     "output_type": "stream",
     "text": [
      "\n",
      "      Epoch    GPU_mem   box_loss  pose_loss  kobj_loss   cls_loss   dfl_loss  Instances       Size\n"
     ]
    },
    {
     "name": "stderr",
     "output_type": "stream",
     "text": [
      "    164/200      2.37G      0.402      1.438     0.2106     0.2401     0.8779         25        640: 100%|██████████| 657/657 [01:30<00:00,  7.25it/s]\n",
      "                 Class     Images  Instances      Box(P          R      mAP50  mAP50-95)     Pose(P          R      mAP50  mAP50-95): 100%|██████████| 32/32 [00:09<00:00,  3.39it/s]"
     ]
    },
    {
     "name": "stdout",
     "output_type": "stream",
     "text": [
      "                   all       1002       1002          1          1      0.995      0.917      0.991      0.991      0.994      0.787\n"
     ]
    },
    {
     "name": "stderr",
     "output_type": "stream",
     "text": [
      "\n"
     ]
    },
    {
     "name": "stdout",
     "output_type": "stream",
     "text": [
      "\n",
      "      Epoch    GPU_mem   box_loss  pose_loss  kobj_loss   cls_loss   dfl_loss  Instances       Size\n"
     ]
    },
    {
     "name": "stderr",
     "output_type": "stream",
     "text": [
      "    165/200      2.37G     0.4016      1.453     0.2123     0.2395      0.878         30        640: 100%|██████████| 657/657 [01:30<00:00,  7.25it/s]\n",
      "                 Class     Images  Instances      Box(P          R      mAP50  mAP50-95)     Pose(P          R      mAP50  mAP50-95): 100%|██████████| 32/32 [00:09<00:00,  3.40it/s]"
     ]
    },
    {
     "name": "stdout",
     "output_type": "stream",
     "text": [
      "                   all       1002       1002          1          1      0.995      0.916      0.991      0.991      0.994      0.787\n"
     ]
    },
    {
     "name": "stderr",
     "output_type": "stream",
     "text": [
      "\n"
     ]
    },
    {
     "name": "stdout",
     "output_type": "stream",
     "text": [
      "\n",
      "      Epoch    GPU_mem   box_loss  pose_loss  kobj_loss   cls_loss   dfl_loss  Instances       Size\n"
     ]
    },
    {
     "name": "stderr",
     "output_type": "stream",
     "text": [
      "    166/200      2.37G     0.4002      1.452     0.2103     0.2377     0.8785         30        640: 100%|██████████| 657/657 [01:31<00:00,  7.20it/s]\n",
      "                 Class     Images  Instances      Box(P          R      mAP50  mAP50-95)     Pose(P          R      mAP50  mAP50-95): 100%|██████████| 32/32 [00:09<00:00,  3.49it/s]"
     ]
    },
    {
     "name": "stdout",
     "output_type": "stream",
     "text": [
      "                   all       1002       1002          1          1      0.995      0.917      0.991      0.991      0.994      0.787\n"
     ]
    },
    {
     "name": "stderr",
     "output_type": "stream",
     "text": [
      "\n"
     ]
    },
    {
     "name": "stdout",
     "output_type": "stream",
     "text": [
      "\n",
      "      Epoch    GPU_mem   box_loss  pose_loss  kobj_loss   cls_loss   dfl_loss  Instances       Size\n"
     ]
    },
    {
     "name": "stderr",
     "output_type": "stream",
     "text": [
      "    167/200      2.37G     0.3977      1.433     0.2097     0.2369     0.8768         35        640: 100%|██████████| 657/657 [01:31<00:00,  7.19it/s]\n",
      "                 Class     Images  Instances      Box(P          R      mAP50  mAP50-95)     Pose(P          R      mAP50  mAP50-95): 100%|██████████| 32/32 [00:09<00:00,  3.31it/s]"
     ]
    },
    {
     "name": "stdout",
     "output_type": "stream",
     "text": [
      "                   all       1002       1002          1          1      0.995      0.917      0.991      0.991      0.994      0.787\n"
     ]
    },
    {
     "name": "stderr",
     "output_type": "stream",
     "text": [
      "\n"
     ]
    },
    {
     "name": "stdout",
     "output_type": "stream",
     "text": [
      "\n",
      "      Epoch    GPU_mem   box_loss  pose_loss  kobj_loss   cls_loss   dfl_loss  Instances       Size\n"
     ]
    },
    {
     "name": "stderr",
     "output_type": "stream",
     "text": [
      "    168/200      2.37G     0.3984      1.441     0.2107     0.2374     0.8769         28        640: 100%|██████████| 657/657 [01:30<00:00,  7.24it/s]\n",
      "                 Class     Images  Instances      Box(P          R      mAP50  mAP50-95)     Pose(P          R      mAP50  mAP50-95): 100%|██████████| 32/32 [00:09<00:00,  3.35it/s]"
     ]
    },
    {
     "name": "stdout",
     "output_type": "stream",
     "text": [
      "                   all       1002       1002          1          1      0.995      0.917      0.991      0.991      0.994      0.787\n"
     ]
    },
    {
     "name": "stderr",
     "output_type": "stream",
     "text": [
      "\n"
     ]
    },
    {
     "name": "stdout",
     "output_type": "stream",
     "text": [
      "\n",
      "      Epoch    GPU_mem   box_loss  pose_loss  kobj_loss   cls_loss   dfl_loss  Instances       Size\n"
     ]
    },
    {
     "name": "stderr",
     "output_type": "stream",
     "text": [
      "    169/200      2.37G     0.3932      1.403     0.2085      0.236     0.8765         26        640: 100%|██████████| 657/657 [01:31<00:00,  7.19it/s]\n",
      "                 Class     Images  Instances      Box(P          R      mAP50  mAP50-95)     Pose(P          R      mAP50  mAP50-95): 100%|██████████| 32/32 [00:09<00:00,  3.42it/s]"
     ]
    },
    {
     "name": "stdout",
     "output_type": "stream",
     "text": [
      "                   all       1002       1002          1          1      0.995      0.916      0.991      0.991      0.994      0.789\n"
     ]
    },
    {
     "name": "stderr",
     "output_type": "stream",
     "text": [
      "\n"
     ]
    },
    {
     "name": "stdout",
     "output_type": "stream",
     "text": [
      "\n",
      "      Epoch    GPU_mem   box_loss  pose_loss  kobj_loss   cls_loss   dfl_loss  Instances       Size\n"
     ]
    },
    {
     "name": "stderr",
     "output_type": "stream",
     "text": [
      "    170/200      2.37G     0.3951      1.401     0.2092     0.2356     0.8777         27        640: 100%|██████████| 657/657 [01:31<00:00,  7.21it/s]\n",
      "                 Class     Images  Instances      Box(P          R      mAP50  mAP50-95)     Pose(P          R      mAP50  mAP50-95): 100%|██████████| 32/32 [00:09<00:00,  3.45it/s]"
     ]
    },
    {
     "name": "stdout",
     "output_type": "stream",
     "text": [
      "                   all       1002       1002          1          1      0.995      0.917      0.991      0.991      0.994      0.788\n"
     ]
    },
    {
     "name": "stderr",
     "output_type": "stream",
     "text": [
      "\n"
     ]
    },
    {
     "name": "stdout",
     "output_type": "stream",
     "text": [
      "\n",
      "      Epoch    GPU_mem   box_loss  pose_loss  kobj_loss   cls_loss   dfl_loss  Instances       Size\n"
     ]
    },
    {
     "name": "stderr",
     "output_type": "stream",
     "text": [
      "    171/200      2.37G     0.3948      1.407      0.208     0.2354     0.8765         39        640: 100%|██████████| 657/657 [01:31<00:00,  7.21it/s]\n",
      "                 Class     Images  Instances      Box(P          R      mAP50  mAP50-95)     Pose(P          R      mAP50  mAP50-95): 100%|██████████| 32/32 [00:09<00:00,  3.30it/s]"
     ]
    },
    {
     "name": "stdout",
     "output_type": "stream",
     "text": [
      "                   all       1002       1002          1          1      0.995      0.917      0.991      0.991      0.994      0.789\n"
     ]
    },
    {
     "name": "stderr",
     "output_type": "stream",
     "text": [
      "\n"
     ]
    },
    {
     "name": "stdout",
     "output_type": "stream",
     "text": [
      "\n",
      "      Epoch    GPU_mem   box_loss  pose_loss  kobj_loss   cls_loss   dfl_loss  Instances       Size\n"
     ]
    },
    {
     "name": "stderr",
     "output_type": "stream",
     "text": [
      "    172/200      2.37G     0.3974      1.421     0.2084     0.2374     0.8792         25        640: 100%|██████████| 657/657 [01:30<00:00,  7.23it/s]\n",
      "                 Class     Images  Instances      Box(P          R      mAP50  mAP50-95)     Pose(P          R      mAP50  mAP50-95): 100%|██████████| 32/32 [00:09<00:00,  3.43it/s]"
     ]
    },
    {
     "name": "stdout",
     "output_type": "stream",
     "text": [
      "                   all       1002       1002          1          1      0.995      0.917      0.991      0.991      0.994      0.789\n"
     ]
    },
    {
     "name": "stderr",
     "output_type": "stream",
     "text": [
      "\n"
     ]
    },
    {
     "name": "stdout",
     "output_type": "stream",
     "text": [
      "\n",
      "      Epoch    GPU_mem   box_loss  pose_loss  kobj_loss   cls_loss   dfl_loss  Instances       Size\n"
     ]
    },
    {
     "name": "stderr",
     "output_type": "stream",
     "text": [
      "    173/200      2.37G     0.3988      1.417     0.2106     0.2366     0.8782         35        640: 100%|██████████| 657/657 [01:30<00:00,  7.30it/s]\n",
      "                 Class     Images  Instances      Box(P          R      mAP50  mAP50-95)     Pose(P          R      mAP50  mAP50-95): 100%|██████████| 32/32 [00:09<00:00,  3.42it/s]"
     ]
    },
    {
     "name": "stdout",
     "output_type": "stream",
     "text": [
      "                   all       1002       1002          1          1      0.995      0.917      0.991      0.991      0.994      0.789\n"
     ]
    },
    {
     "name": "stderr",
     "output_type": "stream",
     "text": [
      "\n"
     ]
    },
    {
     "name": "stdout",
     "output_type": "stream",
     "text": [
      "\n",
      "      Epoch    GPU_mem   box_loss  pose_loss  kobj_loss   cls_loss   dfl_loss  Instances       Size\n"
     ]
    },
    {
     "name": "stderr",
     "output_type": "stream",
     "text": [
      "    174/200      2.37G      0.393      1.402       0.21     0.2339     0.8769         30        640: 100%|██████████| 657/657 [01:32<00:00,  7.14it/s]\n",
      "                 Class     Images  Instances      Box(P          R      mAP50  mAP50-95)     Pose(P          R      mAP50  mAP50-95): 100%|██████████| 32/32 [00:09<00:00,  3.43it/s]"
     ]
    },
    {
     "name": "stdout",
     "output_type": "stream",
     "text": [
      "                   all       1002       1002          1          1      0.995      0.917      0.992      0.992      0.994      0.789\n"
     ]
    },
    {
     "name": "stderr",
     "output_type": "stream",
     "text": [
      "\n"
     ]
    },
    {
     "name": "stdout",
     "output_type": "stream",
     "text": [
      "\n",
      "      Epoch    GPU_mem   box_loss  pose_loss  kobj_loss   cls_loss   dfl_loss  Instances       Size\n"
     ]
    },
    {
     "name": "stderr",
     "output_type": "stream",
     "text": [
      "    175/200      2.37G      0.384      1.342     0.2075     0.2304     0.8739         23        640: 100%|██████████| 657/657 [01:31<00:00,  7.21it/s]\n",
      "                 Class     Images  Instances      Box(P          R      mAP50  mAP50-95)     Pose(P          R      mAP50  mAP50-95): 100%|██████████| 32/32 [00:09<00:00,  3.38it/s]"
     ]
    },
    {
     "name": "stdout",
     "output_type": "stream",
     "text": [
      "                   all       1002       1002          1          1      0.995      0.917      0.992      0.992      0.994       0.79\n"
     ]
    },
    {
     "name": "stderr",
     "output_type": "stream",
     "text": [
      "\n"
     ]
    },
    {
     "name": "stdout",
     "output_type": "stream",
     "text": [
      "\n",
      "      Epoch    GPU_mem   box_loss  pose_loss  kobj_loss   cls_loss   dfl_loss  Instances       Size\n"
     ]
    },
    {
     "name": "stderr",
     "output_type": "stream",
     "text": [
      "    176/200      2.37G     0.3886      1.386     0.2061     0.2315     0.8766         28        640: 100%|██████████| 657/657 [01:31<00:00,  7.21it/s]\n",
      "                 Class     Images  Instances      Box(P          R      mAP50  mAP50-95)     Pose(P          R      mAP50  mAP50-95): 100%|██████████| 32/32 [00:09<00:00,  3.38it/s]"
     ]
    },
    {
     "name": "stdout",
     "output_type": "stream",
     "text": [
      "                   all       1002       1002          1          1      0.995      0.917      0.992      0.992      0.994       0.79\n"
     ]
    },
    {
     "name": "stderr",
     "output_type": "stream",
     "text": [
      "\n"
     ]
    },
    {
     "name": "stdout",
     "output_type": "stream",
     "text": [
      "\n",
      "      Epoch    GPU_mem   box_loss  pose_loss  kobj_loss   cls_loss   dfl_loss  Instances       Size\n"
     ]
    },
    {
     "name": "stderr",
     "output_type": "stream",
     "text": [
      "    177/200      2.37G     0.3896      1.367     0.2073     0.2316      0.876         26        640: 100%|██████████| 657/657 [01:29<00:00,  7.30it/s]\n",
      "                 Class     Images  Instances      Box(P          R      mAP50  mAP50-95)     Pose(P          R      mAP50  mAP50-95): 100%|██████████| 32/32 [00:09<00:00,  3.41it/s]"
     ]
    },
    {
     "name": "stdout",
     "output_type": "stream",
     "text": [
      "                   all       1002       1002          1          1      0.995      0.917      0.991      0.991      0.994       0.79\n"
     ]
    },
    {
     "name": "stderr",
     "output_type": "stream",
     "text": [
      "\n"
     ]
    },
    {
     "name": "stdout",
     "output_type": "stream",
     "text": [
      "\n",
      "      Epoch    GPU_mem   box_loss  pose_loss  kobj_loss   cls_loss   dfl_loss  Instances       Size\n"
     ]
    },
    {
     "name": "stderr",
     "output_type": "stream",
     "text": [
      "    178/200      2.37G     0.3887      1.374      0.209     0.2346      0.876         27        640: 100%|██████████| 657/657 [01:31<00:00,  7.21it/s]\n",
      "                 Class     Images  Instances      Box(P          R      mAP50  mAP50-95)     Pose(P          R      mAP50  mAP50-95): 100%|██████████| 32/32 [00:09<00:00,  3.41it/s]"
     ]
    },
    {
     "name": "stdout",
     "output_type": "stream",
     "text": [
      "                   all       1002       1002          1          1      0.995      0.917      0.991      0.991      0.994       0.79\n"
     ]
    },
    {
     "name": "stderr",
     "output_type": "stream",
     "text": [
      "\n"
     ]
    },
    {
     "name": "stdout",
     "output_type": "stream",
     "text": [
      "\n",
      "      Epoch    GPU_mem   box_loss  pose_loss  kobj_loss   cls_loss   dfl_loss  Instances       Size\n"
     ]
    },
    {
     "name": "stderr",
     "output_type": "stream",
     "text": [
      "    179/200      2.37G     0.3861      1.346     0.2061     0.2298     0.8737         31        640: 100%|██████████| 657/657 [01:30<00:00,  7.26it/s]\n",
      "                 Class     Images  Instances      Box(P          R      mAP50  mAP50-95)     Pose(P          R      mAP50  mAP50-95): 100%|██████████| 32/32 [00:09<00:00,  3.35it/s]"
     ]
    },
    {
     "name": "stdout",
     "output_type": "stream",
     "text": [
      "                   all       1002       1002          1          1      0.995      0.917      0.991      0.991      0.994      0.791\n"
     ]
    },
    {
     "name": "stderr",
     "output_type": "stream",
     "text": [
      "\n"
     ]
    },
    {
     "name": "stdout",
     "output_type": "stream",
     "text": [
      "\n",
      "      Epoch    GPU_mem   box_loss  pose_loss  kobj_loss   cls_loss   dfl_loss  Instances       Size\n"
     ]
    },
    {
     "name": "stderr",
     "output_type": "stream",
     "text": [
      "    180/200      2.37G     0.3839      1.322     0.2062     0.2299      0.875         26        640: 100%|██████████| 657/657 [01:31<00:00,  7.17it/s]\n",
      "                 Class     Images  Instances      Box(P          R      mAP50  mAP50-95)     Pose(P          R      mAP50  mAP50-95): 100%|██████████| 32/32 [00:09<00:00,  3.46it/s]"
     ]
    },
    {
     "name": "stdout",
     "output_type": "stream",
     "text": [
      "                   all       1002       1002          1          1      0.995      0.917      0.991      0.991      0.994      0.791\n"
     ]
    },
    {
     "name": "stderr",
     "output_type": "stream",
     "text": [
      "\n"
     ]
    },
    {
     "name": "stdout",
     "output_type": "stream",
     "text": [
      "\n",
      "      Epoch    GPU_mem   box_loss  pose_loss  kobj_loss   cls_loss   dfl_loss  Instances       Size\n"
     ]
    },
    {
     "name": "stderr",
     "output_type": "stream",
     "text": [
      "    181/200      2.37G     0.3833      1.281     0.2089     0.2305     0.8755         30        640: 100%|██████████| 657/657 [01:29<00:00,  7.30it/s]\n",
      "                 Class     Images  Instances      Box(P          R      mAP50  mAP50-95)     Pose(P          R      mAP50  mAP50-95): 100%|██████████| 32/32 [00:09<00:00,  3.46it/s]"
     ]
    },
    {
     "name": "stdout",
     "output_type": "stream",
     "text": [
      "                   all       1002       1002          1          1      0.995      0.917      0.991      0.991      0.994       0.79\n"
     ]
    },
    {
     "name": "stderr",
     "output_type": "stream",
     "text": [
      "\n"
     ]
    },
    {
     "name": "stdout",
     "output_type": "stream",
     "text": [
      "\n",
      "      Epoch    GPU_mem   box_loss  pose_loss  kobj_loss   cls_loss   dfl_loss  Instances       Size\n"
     ]
    },
    {
     "name": "stderr",
     "output_type": "stream",
     "text": [
      "    182/200      2.37G     0.3818      1.245      0.204     0.2286     0.8738         31        640: 100%|██████████| 657/657 [01:31<00:00,  7.21it/s]\n",
      "                 Class     Images  Instances      Box(P          R      mAP50  mAP50-95)     Pose(P          R      mAP50  mAP50-95): 100%|██████████| 32/32 [00:09<00:00,  3.40it/s]"
     ]
    },
    {
     "name": "stdout",
     "output_type": "stream",
     "text": [
      "                   all       1002       1002          1          1      0.995      0.917      0.991      0.991      0.994      0.791\n"
     ]
    },
    {
     "name": "stderr",
     "output_type": "stream",
     "text": [
      "\n"
     ]
    },
    {
     "name": "stdout",
     "output_type": "stream",
     "text": [
      "\n",
      "      Epoch    GPU_mem   box_loss  pose_loss  kobj_loss   cls_loss   dfl_loss  Instances       Size\n"
     ]
    },
    {
     "name": "stderr",
     "output_type": "stream",
     "text": [
      "    183/200      2.37G     0.3803      1.247     0.2051     0.2271      0.874         24        640: 100%|██████████| 657/657 [01:31<00:00,  7.21it/s]\n",
      "                 Class     Images  Instances      Box(P          R      mAP50  mAP50-95)     Pose(P          R      mAP50  mAP50-95): 100%|██████████| 32/32 [00:09<00:00,  3.29it/s]"
     ]
    },
    {
     "name": "stdout",
     "output_type": "stream",
     "text": [
      "                   all       1002       1002          1          1      0.995      0.917      0.991      0.991      0.994      0.791\n"
     ]
    },
    {
     "name": "stderr",
     "output_type": "stream",
     "text": [
      "\n"
     ]
    },
    {
     "name": "stdout",
     "output_type": "stream",
     "text": [
      "\n",
      "      Epoch    GPU_mem   box_loss  pose_loss  kobj_loss   cls_loss   dfl_loss  Instances       Size\n"
     ]
    },
    {
     "name": "stderr",
     "output_type": "stream",
     "text": [
      "    184/200      2.37G     0.3816      1.244     0.2031     0.2281     0.8733         32        640: 100%|██████████| 657/657 [01:32<00:00,  7.12it/s]\n",
      "                 Class     Images  Instances      Box(P          R      mAP50  mAP50-95)     Pose(P          R      mAP50  mAP50-95): 100%|██████████| 32/32 [00:09<00:00,  3.42it/s]"
     ]
    },
    {
     "name": "stdout",
     "output_type": "stream",
     "text": [
      "                   all       1002       1002          1          1      0.995      0.918      0.991      0.991      0.994      0.792\n"
     ]
    },
    {
     "name": "stderr",
     "output_type": "stream",
     "text": [
      "\n"
     ]
    },
    {
     "name": "stdout",
     "output_type": "stream",
     "text": [
      "\n",
      "      Epoch    GPU_mem   box_loss  pose_loss  kobj_loss   cls_loss   dfl_loss  Instances       Size\n"
     ]
    },
    {
     "name": "stderr",
     "output_type": "stream",
     "text": [
      "    185/200      2.37G     0.3775      1.211     0.2023      0.226     0.8726         28        640: 100%|██████████| 657/657 [01:29<00:00,  7.31it/s]\n",
      "                 Class     Images  Instances      Box(P          R      mAP50  mAP50-95)     Pose(P          R      mAP50  mAP50-95): 100%|██████████| 32/32 [00:09<00:00,  3.46it/s]"
     ]
    },
    {
     "name": "stdout",
     "output_type": "stream",
     "text": [
      "                   all       1002       1002          1          1      0.995      0.918      0.992      0.992      0.994      0.792\n"
     ]
    },
    {
     "name": "stderr",
     "output_type": "stream",
     "text": [
      "\n"
     ]
    },
    {
     "name": "stdout",
     "output_type": "stream",
     "text": [
      "\n",
      "      Epoch    GPU_mem   box_loss  pose_loss  kobj_loss   cls_loss   dfl_loss  Instances       Size\n"
     ]
    },
    {
     "name": "stderr",
     "output_type": "stream",
     "text": [
      "    186/200      2.37G     0.3796      1.222     0.2045     0.2284     0.8734         34        640: 100%|██████████| 657/657 [01:31<00:00,  7.22it/s]\n",
      "                 Class     Images  Instances      Box(P          R      mAP50  mAP50-95)     Pose(P          R      mAP50  mAP50-95): 100%|██████████| 32/32 [00:09<00:00,  3.30it/s]"
     ]
    },
    {
     "name": "stdout",
     "output_type": "stream",
     "text": [
      "                   all       1002       1002          1          1      0.995      0.917      0.991      0.991      0.994      0.792\n"
     ]
    },
    {
     "name": "stderr",
     "output_type": "stream",
     "text": [
      "\n"
     ]
    },
    {
     "name": "stdout",
     "output_type": "stream",
     "text": [
      "\n",
      "      Epoch    GPU_mem   box_loss  pose_loss  kobj_loss   cls_loss   dfl_loss  Instances       Size\n"
     ]
    },
    {
     "name": "stderr",
     "output_type": "stream",
     "text": [
      "    187/200      2.37G     0.3728       1.19     0.2059      0.223       0.87         24        640: 100%|██████████| 657/657 [01:31<00:00,  7.21it/s]\n",
      "                 Class     Images  Instances      Box(P          R      mAP50  mAP50-95)     Pose(P          R      mAP50  mAP50-95): 100%|██████████| 32/32 [00:09<00:00,  3.45it/s]"
     ]
    },
    {
     "name": "stdout",
     "output_type": "stream",
     "text": [
      "                   all       1002       1002          1          1      0.995      0.918      0.992      0.992      0.994      0.792\n"
     ]
    },
    {
     "name": "stderr",
     "output_type": "stream",
     "text": [
      "\n"
     ]
    },
    {
     "name": "stdout",
     "output_type": "stream",
     "text": [
      "\n",
      "      Epoch    GPU_mem   box_loss  pose_loss  kobj_loss   cls_loss   dfl_loss  Instances       Size\n"
     ]
    },
    {
     "name": "stderr",
     "output_type": "stream",
     "text": [
      "    188/200      2.37G     0.3755      1.193     0.2026     0.2244     0.8714         33        640: 100%|██████████| 657/657 [01:31<00:00,  7.16it/s]\n",
      "                 Class     Images  Instances      Box(P          R      mAP50  mAP50-95)     Pose(P          R      mAP50  mAP50-95): 100%|██████████| 32/32 [00:09<00:00,  3.27it/s]"
     ]
    },
    {
     "name": "stdout",
     "output_type": "stream",
     "text": [
      "                   all       1002       1002          1          1      0.995      0.918      0.992      0.992      0.994      0.792\n"
     ]
    },
    {
     "name": "stderr",
     "output_type": "stream",
     "text": [
      "\n"
     ]
    },
    {
     "name": "stdout",
     "output_type": "stream",
     "text": [
      "\n",
      "      Epoch    GPU_mem   box_loss  pose_loss  kobj_loss   cls_loss   dfl_loss  Instances       Size\n"
     ]
    },
    {
     "name": "stderr",
     "output_type": "stream",
     "text": [
      "    189/200      2.37G     0.3728      1.189     0.2029     0.2234     0.8719         34        640: 100%|██████████| 657/657 [01:30<00:00,  7.29it/s]\n",
      "                 Class     Images  Instances      Box(P          R      mAP50  mAP50-95)     Pose(P          R      mAP50  mAP50-95): 100%|██████████| 32/32 [00:09<00:00,  3.37it/s]"
     ]
    },
    {
     "name": "stdout",
     "output_type": "stream",
     "text": [
      "                   all       1002       1002          1          1      0.995      0.917      0.992      0.992      0.994      0.793\n"
     ]
    },
    {
     "name": "stderr",
     "output_type": "stream",
     "text": [
      "\n"
     ]
    },
    {
     "name": "stdout",
     "output_type": "stream",
     "text": [
      "\n",
      "      Epoch    GPU_mem   box_loss  pose_loss  kobj_loss   cls_loss   dfl_loss  Instances       Size\n"
     ]
    },
    {
     "name": "stderr",
     "output_type": "stream",
     "text": [
      "    190/200      2.37G     0.3727      1.186     0.2016      0.224     0.8704         26        640: 100%|██████████| 657/657 [01:31<00:00,  7.18it/s]\n",
      "                 Class     Images  Instances      Box(P          R      mAP50  mAP50-95)     Pose(P          R      mAP50  mAP50-95): 100%|██████████| 32/32 [00:09<00:00,  3.33it/s]"
     ]
    },
    {
     "name": "stdout",
     "output_type": "stream",
     "text": [
      "                   all       1002       1002          1          1      0.995      0.917      0.992      0.992      0.994      0.794\n"
     ]
    },
    {
     "name": "stderr",
     "output_type": "stream",
     "text": [
      "\n"
     ]
    },
    {
     "name": "stdout",
     "output_type": "stream",
     "text": [
      "Closing dataloader mosaic\n",
      "\n",
      "      Epoch    GPU_mem   box_loss  pose_loss  kobj_loss   cls_loss   dfl_loss  Instances       Size\n"
     ]
    },
    {
     "name": "stderr",
     "output_type": "stream",
     "text": [
      "    191/200      2.37G     0.2785      0.632    0.01937     0.1587      0.799         14        640: 100%|██████████| 657/657 [01:32<00:00,  7.09it/s]\n",
      "                 Class     Images  Instances      Box(P          R      mAP50  mAP50-95)     Pose(P          R      mAP50  mAP50-95): 100%|██████████| 32/32 [00:09<00:00,  3.49it/s]"
     ]
    },
    {
     "name": "stdout",
     "output_type": "stream",
     "text": [
      "                   all       1002       1002          1          1      0.995      0.917      0.992      0.992      0.994      0.795\n"
     ]
    },
    {
     "name": "stderr",
     "output_type": "stream",
     "text": [
      "\n"
     ]
    },
    {
     "name": "stdout",
     "output_type": "stream",
     "text": [
      "\n",
      "      Epoch    GPU_mem   box_loss  pose_loss  kobj_loss   cls_loss   dfl_loss  Instances       Size\n"
     ]
    },
    {
     "name": "stderr",
     "output_type": "stream",
     "text": [
      "    192/200      2.37G     0.2706     0.6091    0.01707     0.1554     0.7991         14        640: 100%|██████████| 657/657 [01:31<00:00,  7.16it/s]\n",
      "                 Class     Images  Instances      Box(P          R      mAP50  mAP50-95)     Pose(P          R      mAP50  mAP50-95): 100%|██████████| 32/32 [00:09<00:00,  3.32it/s]"
     ]
    },
    {
     "name": "stdout",
     "output_type": "stream",
     "text": [
      "                   all       1002       1002          1          1      0.995      0.917      0.992      0.992      0.994      0.795\n"
     ]
    },
    {
     "name": "stderr",
     "output_type": "stream",
     "text": [
      "\n"
     ]
    },
    {
     "name": "stdout",
     "output_type": "stream",
     "text": [
      "\n",
      "      Epoch    GPU_mem   box_loss  pose_loss  kobj_loss   cls_loss   dfl_loss  Instances       Size\n"
     ]
    },
    {
     "name": "stderr",
     "output_type": "stream",
     "text": [
      "    193/200      2.37G     0.2684     0.5985    0.01785      0.153     0.7959         14        640: 100%|██████████| 657/657 [01:30<00:00,  7.26it/s]\n",
      "                 Class     Images  Instances      Box(P          R      mAP50  mAP50-95)     Pose(P          R      mAP50  mAP50-95): 100%|██████████| 32/32 [00:09<00:00,  3.36it/s]"
     ]
    },
    {
     "name": "stdout",
     "output_type": "stream",
     "text": [
      "                   all       1002       1002          1          1      0.995      0.917      0.992      0.992      0.994      0.795\n"
     ]
    },
    {
     "name": "stderr",
     "output_type": "stream",
     "text": [
      "\n"
     ]
    },
    {
     "name": "stdout",
     "output_type": "stream",
     "text": [
      "\n",
      "      Epoch    GPU_mem   box_loss  pose_loss  kobj_loss   cls_loss   dfl_loss  Instances       Size\n"
     ]
    },
    {
     "name": "stderr",
     "output_type": "stream",
     "text": [
      "    194/200      2.37G     0.2665     0.5907    0.01668     0.1523      0.795         14        640: 100%|██████████| 657/657 [01:31<00:00,  7.22it/s]\n",
      "                 Class     Images  Instances      Box(P          R      mAP50  mAP50-95)     Pose(P          R      mAP50  mAP50-95): 100%|██████████| 32/32 [00:09<00:00,  3.37it/s]"
     ]
    },
    {
     "name": "stdout",
     "output_type": "stream",
     "text": [
      "                   all       1002       1002          1          1      0.995      0.917      0.992      0.992      0.994      0.796\n"
     ]
    },
    {
     "name": "stderr",
     "output_type": "stream",
     "text": [
      "\n"
     ]
    },
    {
     "name": "stdout",
     "output_type": "stream",
     "text": [
      "\n",
      "      Epoch    GPU_mem   box_loss  pose_loss  kobj_loss   cls_loss   dfl_loss  Instances       Size\n"
     ]
    },
    {
     "name": "stderr",
     "output_type": "stream",
     "text": [
      "    195/200      2.37G     0.2639     0.5774    0.01764     0.1508     0.7958         14        640: 100%|██████████| 657/657 [01:31<00:00,  7.16it/s]\n",
      "                 Class     Images  Instances      Box(P          R      mAP50  mAP50-95)     Pose(P          R      mAP50  mAP50-95): 100%|██████████| 32/32 [00:09<00:00,  3.39it/s]"
     ]
    },
    {
     "name": "stdout",
     "output_type": "stream",
     "text": [
      "                   all       1002       1002          1          1      0.995      0.917      0.992      0.992      0.994      0.796\n"
     ]
    },
    {
     "name": "stderr",
     "output_type": "stream",
     "text": [
      "\n"
     ]
    },
    {
     "name": "stdout",
     "output_type": "stream",
     "text": [
      "\n",
      "      Epoch    GPU_mem   box_loss  pose_loss  kobj_loss   cls_loss   dfl_loss  Instances       Size\n"
     ]
    },
    {
     "name": "stderr",
     "output_type": "stream",
     "text": [
      "    196/200      2.37G     0.2619     0.5723    0.01604     0.1497     0.7938         14        640: 100%|██████████| 657/657 [01:31<00:00,  7.14it/s]\n",
      "                 Class     Images  Instances      Box(P          R      mAP50  mAP50-95)     Pose(P          R      mAP50  mAP50-95): 100%|██████████| 32/32 [00:09<00:00,  3.36it/s]"
     ]
    },
    {
     "name": "stdout",
     "output_type": "stream",
     "text": [
      "                   all       1002       1002          1          1      0.995      0.917      0.992      0.992      0.994      0.797\n"
     ]
    },
    {
     "name": "stderr",
     "output_type": "stream",
     "text": [
      "\n"
     ]
    },
    {
     "name": "stdout",
     "output_type": "stream",
     "text": [
      "\n",
      "      Epoch    GPU_mem   box_loss  pose_loss  kobj_loss   cls_loss   dfl_loss  Instances       Size\n"
     ]
    },
    {
     "name": "stderr",
     "output_type": "stream",
     "text": [
      "    197/200      2.37G     0.2598     0.5701    0.01526     0.1492     0.7964         14        640: 100%|██████████| 657/657 [01:30<00:00,  7.25it/s]\n",
      "                 Class     Images  Instances      Box(P          R      mAP50  mAP50-95)     Pose(P          R      mAP50  mAP50-95): 100%|██████████| 32/32 [00:09<00:00,  3.47it/s]"
     ]
    },
    {
     "name": "stdout",
     "output_type": "stream",
     "text": [
      "                   all       1002       1002          1          1      0.995      0.917      0.992      0.992      0.994      0.797\n"
     ]
    },
    {
     "name": "stderr",
     "output_type": "stream",
     "text": [
      "\n"
     ]
    },
    {
     "name": "stdout",
     "output_type": "stream",
     "text": [
      "\n",
      "      Epoch    GPU_mem   box_loss  pose_loss  kobj_loss   cls_loss   dfl_loss  Instances       Size\n"
     ]
    },
    {
     "name": "stderr",
     "output_type": "stream",
     "text": [
      "    198/200      2.37G     0.2588     0.5633    0.01673     0.1484     0.7937         14        640: 100%|██████████| 657/657 [01:30<00:00,  7.27it/s]\n",
      "                 Class     Images  Instances      Box(P          R      mAP50  mAP50-95)     Pose(P          R      mAP50  mAP50-95): 100%|██████████| 32/32 [00:09<00:00,  3.39it/s]"
     ]
    },
    {
     "name": "stdout",
     "output_type": "stream",
     "text": [
      "                   all       1002       1002          1          1      0.995      0.917      0.992      0.992      0.994      0.798\n"
     ]
    },
    {
     "name": "stderr",
     "output_type": "stream",
     "text": [
      "\n"
     ]
    },
    {
     "name": "stdout",
     "output_type": "stream",
     "text": [
      "\n",
      "      Epoch    GPU_mem   box_loss  pose_loss  kobj_loss   cls_loss   dfl_loss  Instances       Size\n"
     ]
    },
    {
     "name": "stderr",
     "output_type": "stream",
     "text": [
      "    199/200      2.37G     0.2582     0.5576    0.01692     0.1474     0.7964         14        640: 100%|██████████| 657/657 [01:31<00:00,  7.20it/s]\n",
      "                 Class     Images  Instances      Box(P          R      mAP50  mAP50-95)     Pose(P          R      mAP50  mAP50-95): 100%|██████████| 32/32 [00:09<00:00,  3.42it/s]"
     ]
    },
    {
     "name": "stdout",
     "output_type": "stream",
     "text": [
      "                   all       1002       1002          1          1      0.995      0.917      0.992      0.992      0.994      0.798\n"
     ]
    },
    {
     "name": "stderr",
     "output_type": "stream",
     "text": [
      "\n"
     ]
    },
    {
     "name": "stdout",
     "output_type": "stream",
     "text": [
      "\n",
      "      Epoch    GPU_mem   box_loss  pose_loss  kobj_loss   cls_loss   dfl_loss  Instances       Size\n"
     ]
    },
    {
     "name": "stderr",
     "output_type": "stream",
     "text": [
      "    200/200      2.37G      0.255     0.5499    0.01557     0.1449     0.7936         14        640: 100%|██████████| 657/657 [01:31<00:00,  7.20it/s]\n",
      "                 Class     Images  Instances      Box(P          R      mAP50  mAP50-95)     Pose(P          R      mAP50  mAP50-95): 100%|██████████| 32/32 [00:09<00:00,  3.37it/s]"
     ]
    },
    {
     "name": "stdout",
     "output_type": "stream",
     "text": [
      "                   all       1002       1002          1          1      0.995      0.916      0.992      0.992      0.994      0.799\n"
     ]
    },
    {
     "name": "stderr",
     "output_type": "stream",
     "text": [
      "\n"
     ]
    },
    {
     "name": "stdout",
     "output_type": "stream",
     "text": [
      "\n",
      "200 epochs completed in 5.485 hours.\n",
      "Optimizer stripped from runs/pose/train2/weights/last.pt, 7.0MB\n",
      "Optimizer stripped from runs/pose/train2/weights/best.pt, 7.0MB\n",
      "\n",
      "Validating runs/pose/train2/weights/best.pt...\n",
      "Ultralytics YOLOv8.2.41 🚀 Python-3.9.19 torch-2.0.1+cu117 CUDA:0 (NVIDIA GeForce RTX 4090, 24102MiB)\n",
      "YOLOv8n-pose summary (fused): 187 layers, 3379496 parameters, 0 gradients, 9.6 GFLOPs\n"
     ]
    },
    {
     "name": "stderr",
     "output_type": "stream",
     "text": [
      "                 Class     Images  Instances      Box(P          R      mAP50  mAP50-95)     Pose(P          R      mAP50  mAP50-95): 100%|██████████| 32/32 [00:10<00:00,  3.20it/s]\n"
     ]
    },
    {
     "name": "stdout",
     "output_type": "stream",
     "text": [
      "                   all       1002       1002          1          1      0.995      0.917      0.992      0.992      0.994      0.799\n",
      "Speed: 0.3ms preprocess, 1.0ms inference, 0.0ms loss, 1.3ms postprocess per image\n",
      "Results saved to \u001b[1mruns/pose/train2\u001b[0m\n"
     ]
    },
    {
     "name": "stderr",
     "output_type": "stream",
     "text": [
      "\u001b[34m\u001b[1mwandb\u001b[0m: \u001b[33mWARNING\u001b[0m A graphql request initiated by the public wandb API timed out (timeout=19 sec). Create a new API with an integer timeout larger than 19, e.g., `api = wandb.Api(timeout=29)` to increase the graphql timeout.\n",
      "\u001b[34m\u001b[1mwandb\u001b[0m: \u001b[33mWARNING\u001b[0m A graphql request initiated by the public wandb API timed out (timeout=19 sec). Create a new API with an integer timeout larger than 19, e.g., `api = wandb.Api(timeout=29)` to increase the graphql timeout.\n",
      "\u001b[34m\u001b[1mwandb\u001b[0m: \u001b[33mWARNING\u001b[0m A graphql request initiated by the public wandb API timed out (timeout=19 sec). Create a new API with an integer timeout larger than 19, e.g., `api = wandb.Api(timeout=29)` to increase the graphql timeout.\n",
      "\u001b[34m\u001b[1mwandb\u001b[0m: \u001b[33mWARNING\u001b[0m A graphql request initiated by the public wandb API timed out (timeout=19 sec). Create a new API with an integer timeout larger than 19, e.g., `api = wandb.Api(timeout=29)` to increase the graphql timeout.\n",
      "\u001b[34m\u001b[1mwandb\u001b[0m: \u001b[33mWARNING\u001b[0m A graphql request initiated by the public wandb API timed out (timeout=19 sec). Create a new API with an integer timeout larger than 19, e.g., `api = wandb.Api(timeout=29)` to increase the graphql timeout.\n",
      "\u001b[34m\u001b[1mwandb\u001b[0m: \u001b[33mWARNING\u001b[0m A graphql request initiated by the public wandb API timed out (timeout=19 sec). Create a new API with an integer timeout larger than 19, e.g., `api = wandb.Api(timeout=29)` to increase the graphql timeout.\n",
      "\u001b[34m\u001b[1mwandb\u001b[0m: \u001b[33mWARNING\u001b[0m A graphql request initiated by the public wandb API timed out (timeout=19 sec). Create a new API with an integer timeout larger than 19, e.g., `api = wandb.Api(timeout=29)` to increase the graphql timeout.\n",
      "\u001b[34m\u001b[1mwandb\u001b[0m: \u001b[33mWARNING\u001b[0m A graphql request initiated by the public wandb API timed out (timeout=19 sec). Create a new API with an integer timeout larger than 19, e.g., `api = wandb.Api(timeout=29)` to increase the graphql timeout.\n",
      "wandb: Network error (ReadTimeout), entering retry loop.\n",
      "wandb: Network error (ReadTimeout), entering retry loop.\n",
      "\u001b[34m\u001b[1mwandb\u001b[0m: \u001b[33mWARNING\u001b[0m A graphql request initiated by the public wandb API timed out (timeout=19 sec). Create a new API with an integer timeout larger than 19, e.g., `api = wandb.Api(timeout=29)` to increase the graphql timeout.\n",
      "\u001b[34m\u001b[1mwandb\u001b[0m: \u001b[33mWARNING\u001b[0m A graphql request initiated by the public wandb API timed out (timeout=19 sec). Create a new API with an integer timeout larger than 19, e.g., `api = wandb.Api(timeout=29)` to increase the graphql timeout.\n",
      "wandb: Network error (ReadTimeout), entering retry loop.\n",
      "wandb: Network error (ReadTimeout), entering retry loop.\n",
      "\u001b[34m\u001b[1mwandb\u001b[0m: \u001b[33mWARNING\u001b[0m A graphql request initiated by the public wandb API timed out (timeout=19 sec). Create a new API with an integer timeout larger than 19, e.g., `api = wandb.Api(timeout=29)` to increase the graphql timeout.\n",
      "\u001b[34m\u001b[1mwandb\u001b[0m: \u001b[33mWARNING\u001b[0m A graphql request initiated by the public wandb API timed out (timeout=19 sec). Create a new API with an integer timeout larger than 19, e.g., `api = wandb.Api(timeout=29)` to increase the graphql timeout.\n",
      "\u001b[34m\u001b[1mwandb\u001b[0m: \u001b[33mWARNING\u001b[0m A graphql request initiated by the public wandb API timed out (timeout=19 sec). Create a new API with an integer timeout larger than 19, e.g., `api = wandb.Api(timeout=29)` to increase the graphql timeout.\n",
      "\u001b[34m\u001b[1mwandb\u001b[0m: \u001b[33mWARNING\u001b[0m A graphql request initiated by the public wandb API timed out (timeout=19 sec). Create a new API with an integer timeout larger than 19, e.g., `api = wandb.Api(timeout=29)` to increase the graphql timeout.\n",
      "\u001b[34m\u001b[1mwandb\u001b[0m: \u001b[33mWARNING\u001b[0m A graphql request initiated by the public wandb API timed out (timeout=19 sec). Create a new API with an integer timeout larger than 19, e.g., `api = wandb.Api(timeout=29)` to increase the graphql timeout.\n",
      "\u001b[34m\u001b[1mwandb\u001b[0m: \u001b[33mWARNING\u001b[0m A graphql request initiated by the public wandb API timed out (timeout=19 sec). Create a new API with an integer timeout larger than 19, e.g., `api = wandb.Api(timeout=29)` to increase the graphql timeout.\n",
      "wandb: Network error (ReadTimeout), entering retry loop.\n",
      "\u001b[34m\u001b[1mwandb\u001b[0m: \u001b[33mWARNING\u001b[0m A graphql request initiated by the public wandb API timed out (timeout=19 sec). Create a new API with an integer timeout larger than 19, e.g., `api = wandb.Api(timeout=29)` to increase the graphql timeout.\n",
      "\u001b[34m\u001b[1mwandb\u001b[0m: \u001b[33mWARNING\u001b[0m A graphql request initiated by the public wandb API timed out (timeout=19 sec). Create a new API with an integer timeout larger than 19, e.g., `api = wandb.Api(timeout=29)` to increase the graphql timeout.\n",
      "wandb: Network error (ReadTimeout), entering retry loop.\n",
      "wandb: Network error (SSLError), entering retry loop.\n"
     ]
    },
    {
     "data": {
      "application/vnd.jupyter.widget-view+json": {
       "model_id": "64b8e30d508a4d87ab86853390b52444",
       "version_major": 2,
       "version_minor": 0
      },
      "text/plain": [
       "VBox(children=(Label(value='11.055 MB of 12.925 MB uploaded\\r'), FloatProgress(value=0.8552848892530216, max=1…"
      ]
     },
     "metadata": {},
     "output_type": "display_data"
    },
    {
     "data": {
      "text/html": [
       "<style>\n",
       "    table.wandb td:nth-child(1) { padding: 0 10px; text-align: left ; width: auto;} td:nth-child(2) {text-align: left ; width: 100%}\n",
       "    .wandb-row { display: flex; flex-direction: row; flex-wrap: wrap; justify-content: flex-start; width: 100% }\n",
       "    .wandb-col { display: flex; flex-direction: column; flex-basis: 100%; flex: 1; padding: 10px; }\n",
       "    </style>\n",
       "<div class=\"wandb-row\"><div class=\"wandb-col\"><h3>Run history:</h3><br/><table class=\"wandb\"><tr><td>lr/pg0</td><td>▆███▇▇▇▇▇▇▆▆▆▆▆▅▅▅▅▅▅▄▄▄▄▄▃▃▃▃▃▃▂▂▂▂▂▁▁▁</td></tr><tr><td>lr/pg1</td><td>▆███▇▇▇▇▇▇▆▆▆▆▆▅▅▅▅▅▅▄▄▄▄▄▃▃▃▃▃▃▂▂▂▂▂▁▁▁</td></tr><tr><td>lr/pg2</td><td>▆███▇▇▇▇▇▇▆▆▆▆▆▅▅▅▅▅▅▄▄▄▄▄▃▃▃▃▃▃▂▂▂▂▂▁▁▁</td></tr><tr><td>metrics/mAP50(B)</td><td>▁▁▁▁▁▁▁▁▁▁▁▁▁▁▁▁▁▁▁▁▁▁▁▁▁▁▁▁▁▁▁▁▁▁▁▁▁▁▁▁</td></tr><tr><td>metrics/mAP50(P)</td><td>▁▇▆▇▆▆▇▇▇██▇████████████████████████████</td></tr><tr><td>metrics/mAP50-95(B)</td><td>▅▄▅▁▆▅▆▆▆▇▅▇█▇██▇▇████████▇▇▇▇▇█████████</td></tr><tr><td>metrics/mAP50-95(P)</td><td>▁▅▅▅▆▆▆▆▆▇▇▇▇████▇▇▇████████████████████</td></tr><tr><td>metrics/precision(B)</td><td>▃▂▃▃▃▃▃▃▃█▂▃▃▃▃▃▃▃▃▂▁▁▁▁▂▂▂▂▃▃▃▃▃▃▃▃▃▃▃▃</td></tr><tr><td>metrics/precision(P)</td><td>▁▆▅▇▅▅▆▆▇▇▇▇████████████████████████████</td></tr><tr><td>metrics/recall(B)</td><td>▁▁▁▁▁▁▁▁▁▁▁▁▁▁▁▁▁▁▁▁▁▁▁▁▁▁▁▁▁▁▁▁▁▁▁▁▁▁▁▁</td></tr><tr><td>metrics/recall(P)</td><td>▁▆▅▇▅▅▆▆▇▇▇▇████████████████████████████</td></tr><tr><td>model/GFLOPs</td><td>▁</td></tr><tr><td>model/parameters</td><td>▁</td></tr><tr><td>model/speed_PyTorch(ms)</td><td>▁</td></tr><tr><td>train/box_loss</td><td>▅▇██████▇▇▇▇▇▇▇▇▆▆▆▆▆▆▆▆▆▅▅▅▅▅▅▅▄▄▄▄▄▄▁▁</td></tr><tr><td>train/cls_loss</td><td>▅███████▇▇▇▇▇▇▇▇▆▆▆▆▆▆▆▆▆▆▆▅▅▅▅▅▅▅▄▅▄▄▁▁</td></tr><tr><td>train/dfl_loss</td><td>▆███████▇▇▇▇▇▇▇▇▇▇▇▇▇▇▆▆▆▆▆▆▆▆▆▆▆▆▆▅▅▅▁▁</td></tr><tr><td>train/kobj_loss</td><td>█▇▅▅▅▅▄▄▄▄▄▄▄▄▄▄▄▄▄▄▄▄▄▄▄▄▄▄▄▄▃▃▃▃▃▃▃▃▁▁</td></tr><tr><td>train/pose_loss</td><td>█▅▅▄▄▄▄▄▄▄▄▄▃▃▃▃▃▃▃▃▃▃▃▃▃▃▃▃▃▃▂▂▂▂▂▂▂▂▁▁</td></tr><tr><td>val/box_loss</td><td>▄▆▄█▃▄▃▃▄▄▄▃▂▂▂▁▂▁▁▁▁▁▁▁▁▁▁▁▁▁▂▂▁▁▁▁▁▁▁▁</td></tr><tr><td>val/cls_loss</td><td>▄█▆▇▄▅▅▄▄▄▄▄▃▃▃▃▂▂▂▂▂▂▂▁▁▁▁▁▁▁▁▁▁▁▁▁▁▁▁▁</td></tr><tr><td>val/dfl_loss</td><td>▅▅▄█▂▃▃▂▄▄▃▂▁▂▂▁▂▂▁▁▁▂▂▂▂▂▂▂▂▂▂▂▂▂▂▂▂▂▂▂</td></tr><tr><td>val/kobj_loss</td><td>█▅▂▂▂▂▂▂▁▁▁▁▁▁▁▁▁▁▁▁▁▁▁▁▁▁▁▁▁▁▁▁▁▁▁▁▁▁▁▁</td></tr><tr><td>val/pose_loss</td><td>█▅▅▄▄▄▄▄▃▂▂▂▂▁▁▁▁▁▁▁▁▁▁▁▁▁▁▁▁▁▁▁▁▁▁▁▁▁▁▁</td></tr></table><br/></div><div class=\"wandb-col\"><h3>Run summary:</h3><br/><table class=\"wandb\"><tr><td>lr/pg0</td><td>0.00015</td></tr><tr><td>lr/pg1</td><td>0.00015</td></tr><tr><td>lr/pg2</td><td>0.00015</td></tr><tr><td>metrics/mAP50(B)</td><td>0.995</td></tr><tr><td>metrics/mAP50(P)</td><td>0.99442</td></tr><tr><td>metrics/mAP50-95(B)</td><td>0.9166</td></tr><tr><td>metrics/mAP50-95(P)</td><td>0.79941</td></tr><tr><td>metrics/precision(B)</td><td>0.99993</td></tr><tr><td>metrics/precision(P)</td><td>0.99195</td></tr><tr><td>metrics/recall(B)</td><td>1.0</td></tr><tr><td>metrics/recall(P)</td><td>0.99202</td></tr><tr><td>model/GFLOPs</td><td>9.682</td></tr><tr><td>model/parameters</td><td>3385074</td></tr><tr><td>model/speed_PyTorch(ms)</td><td>1.091</td></tr><tr><td>train/box_loss</td><td>0.25504</td></tr><tr><td>train/cls_loss</td><td>0.14488</td></tr><tr><td>train/dfl_loss</td><td>0.7936</td></tr><tr><td>train/kobj_loss</td><td>0.01557</td></tr><tr><td>train/pose_loss</td><td>0.54989</td></tr><tr><td>val/box_loss</td><td>0.51987</td></tr><tr><td>val/cls_loss</td><td>0.21584</td></tr><tr><td>val/dfl_loss</td><td>0.97159</td></tr><tr><td>val/kobj_loss</td><td>0.01881</td></tr><tr><td>val/pose_loss</td><td>1.01557</td></tr></table><br/></div></div>"
      ],
      "text/plain": [
       "<IPython.core.display.HTML object>"
      ]
     },
     "metadata": {},
     "output_type": "display_data"
    },
    {
     "data": {
      "text/html": [
       " View run <strong style=\"color:#cdcd00\">train2</strong> at: <a href='https://wandb.ai/winsterlearning/YOLOv8/runs/rrwi0vov' target=\"_blank\">https://wandb.ai/winsterlearning/YOLOv8/runs/rrwi0vov</a><br/> View project at: <a href='https://wandb.ai/winsterlearning/YOLOv8' target=\"_blank\">https://wandb.ai/winsterlearning/YOLOv8</a><br/>Synced 6 W&B file(s), 32 media file(s), 9 artifact file(s) and 0 other file(s)"
      ],
      "text/plain": [
       "<IPython.core.display.HTML object>"
      ]
     },
     "metadata": {},
     "output_type": "display_data"
    },
    {
     "data": {
      "text/html": [
       "Find logs at: <code>./wandb/run-20240912_172046-rrwi0vov/logs</code>"
      ],
      "text/plain": [
       "<IPython.core.display.HTML object>"
      ]
     },
     "metadata": {},
     "output_type": "display_data"
    },
    {
     "data": {
      "text/html": [
       "The new W&B backend becomes opt-out in version 0.18.0; try it out with `wandb.require(\"core\")`! See https://wandb.me/wandb-core for more information."
      ],
      "text/plain": [
       "<IPython.core.display.HTML object>"
      ]
     },
     "metadata": {},
     "output_type": "display_data"
    }
   ],
   "source": [
    "results=model.train(data=config_path, epochs=200, iou=0.5, conf=0.01,lr0=0.01,lrf=0.01,cls=0.5,dfl=1.5,box=8.0,save_period=100)"
   ]
  },
  {
   "cell_type": "code",
   "execution_count": null,
   "metadata": {},
   "outputs": [],
   "source": []
  },
  {
   "cell_type": "code",
   "execution_count": null,
   "metadata": {},
   "outputs": [],
   "source": []
  }
 ],
 "metadata": {
  "kernelspec": {
   "display_name": "yolov10",
   "language": "python",
   "name": "python3"
  },
  "language_info": {
   "codemirror_mode": {
    "name": "ipython",
    "version": 3
   },
   "file_extension": ".py",
   "mimetype": "text/x-python",
   "name": "python",
   "nbconvert_exporter": "python",
   "pygments_lexer": "ipython3",
   "version": "3.9.19"
  }
 },
 "nbformat": 4,
 "nbformat_minor": 2
}
